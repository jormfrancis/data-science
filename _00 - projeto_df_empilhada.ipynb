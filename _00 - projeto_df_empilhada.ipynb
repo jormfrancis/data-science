{
 "cells": [
  {
   "cell_type": "code",
   "execution_count": null,
   "metadata": {},
   "outputs": [],
   "source": [
    "pip install jupyter_contrib_nbextensions"
   ]
  },
  {
   "cell_type": "code",
   "execution_count": 2,
   "metadata": {},
   "outputs": [
    {
     "name": "stdout",
     "output_type": "stream",
     "text": [
      "Name: jupyter-contrib-nbextensions\n",
      "Version: 0.7.0\n",
      "Summary: A collection of Jupyter nbextensions.\n",
      "Home-page: https://github.com/ipython-contrib/jupyter_contrib_nbextensions.git\n",
      "Author: ipython-contrib and jupyter-contrib developers\n",
      "Author-email: jupytercontrib@gmail.com\n",
      "License: BSD\n",
      "Location: /Users/jordanaaoliveira/opt/anaconda3/lib/python3.9/site-packages\n",
      "Requires: ipython-genutils, jupyter-contrib-core, jupyter-core, jupyter-highlight-selected-word, jupyter-nbextensions-configurator, lxml, nbconvert, notebook, tornado, traitlets\n",
      "Required-by: \n",
      "Note: you may need to restart the kernel to use updated packages.\n"
     ]
    }
   ],
   "source": [
    "pip show jupyter_contrib_nbextensions"
   ]
  },
  {
   "cell_type": "code",
   "execution_count": 10,
   "metadata": {},
   "outputs": [
    {
     "name": "stdout",
     "output_type": "stream",
     "text": [
      "\u001b[32m[I 14:49:33 InstallContribNbextensionsApp]\u001b[m jupyter contrib nbextension install \n",
      "\u001b[32m[I 14:49:33 InstallContribNbextensionsApp]\u001b[m Installing jupyter_contrib_nbextensions nbextension files to jupyter data directory\n",
      "\u001b[32m[I 14:49:33 InstallContribNbextensionsApp]\u001b[m Installing /Users/jordanaaoliveira/opt/anaconda3/lib/python3.9/site-packages/jupyter_contrib_nbextensions/nbextensions/rubberband -> rubberband\n",
      "Traceback (most recent call last):\n",
      "  File \"/Users/jordanaaoliveira/opt/anaconda3/bin/jupyter-contrib\", line 8, in <module>\n",
      "    sys.exit(main())\n",
      "  File \"/Users/jordanaaoliveira/opt/anaconda3/lib/python3.9/site-packages/jupyter_core/application.py\", line 269, in launch_instance\n",
      "    return super().launch_instance(argv=argv, **kwargs)\n",
      "  File \"/Users/jordanaaoliveira/opt/anaconda3/lib/python3.9/site-packages/traitlets/config/application.py\", line 846, in launch_instance\n",
      "    app.start()\n",
      "  File \"/Users/jordanaaoliveira/opt/anaconda3/lib/python3.9/site-packages/jupyter_contrib_core/application.py\", line 50, in start\n",
      "    super(JupyterContribApp, self).start()\n",
      "  File \"/Users/jordanaaoliveira/opt/anaconda3/lib/python3.9/site-packages/jupyter_core/application.py\", line 258, in start\n",
      "    self.subapp.start()\n",
      "  File \"/Users/jordanaaoliveira/opt/anaconda3/lib/python3.9/site-packages/jupyter_contrib_nbextensions/application.py\", line 229, in start\n",
      "    super(ContribNbextensionsApp, self).start()\n",
      "  File \"/Users/jordanaaoliveira/opt/anaconda3/lib/python3.9/site-packages/jupyter_core/application.py\", line 258, in start\n",
      "    self.subapp.start()\n",
      "  File \"/Users/jordanaaoliveira/opt/anaconda3/lib/python3.9/site-packages/jupyter_contrib_nbextensions/application.py\", line 176, in start\n",
      "    toggle_install_files(self._toggle_value, **kwargs_files)\n",
      "  File \"/Users/jordanaaoliveira/opt/anaconda3/lib/python3.9/site-packages/jupyter_contrib_nbextensions/install.py\", line 68, in toggle_install_files\n",
      "    nbextensions.install_nbextension_python(\n",
      "  File \"/Users/jordanaaoliveira/opt/anaconda3/lib/python3.9/site-packages/notebook/nbextensions.py\", line 214, in install_nbextension_python\n",
      "    full_dest = install_nbextension(\n",
      "  File \"/Users/jordanaaoliveira/opt/anaconda3/lib/python3.9/site-packages/notebook/nbextensions.py\", line 118, in install_nbextension\n",
      "    ensure_dir_exists(nbext)\n",
      "  File \"/Users/jordanaaoliveira/opt/anaconda3/lib/python3.9/site-packages/jupyter_core/utils/__init__.py\", line 12, in ensure_dir_exists\n",
      "    os.makedirs(path, mode=mode)\n",
      "  File \"/Users/jordanaaoliveira/opt/anaconda3/lib/python3.9/os.py\", line 215, in makedirs\n",
      "    makedirs(head, exist_ok=exist_ok)\n",
      "  File \"/Users/jordanaaoliveira/opt/anaconda3/lib/python3.9/os.py\", line 215, in makedirs\n",
      "    makedirs(head, exist_ok=exist_ok)\n",
      "  File \"/Users/jordanaaoliveira/opt/anaconda3/lib/python3.9/os.py\", line 225, in makedirs\n",
      "    mkdir(name, mode)\n",
      "PermissionError: [Errno 13] Permission denied: '/usr/local/share'\n"
     ]
    }
   ],
   "source": [
    "!jupyter contrib nbextension install"
   ]
  },
  {
   "cell_type": "code",
   "execution_count": 12,
   "metadata": {},
   "outputs": [
    {
     "name": "stdout",
     "output_type": "stream",
     "text": [
      "\u001b[32m[I 14:51:32 InstallContribNbextensionsApp]\u001b[m jupyter contrib nbextension install --user\n",
      "\u001b[32m[I 14:51:32 InstallContribNbextensionsApp]\u001b[m Installing jupyter_contrib_nbextensions nbextension files to jupyter data directory\n",
      "\u001b[32m[I 14:51:32 InstallContribNbextensionsApp]\u001b[m Installing /Users/jordanaaoliveira/opt/anaconda3/lib/python3.9/site-packages/jupyter_contrib_nbextensions/nbextensions/rubberband -> rubberband\n",
      "\u001b[32m[I 14:51:32 InstallContribNbextensionsApp]\u001b[m Making directory: /Users/jordanaaoliveira/Library/Jupyter/nbextensions/rubberband/\n",
      "\u001b[32m[I 14:51:32 InstallContribNbextensionsApp]\u001b[m Copying: /Users/jordanaaoliveira/opt/anaconda3/lib/python3.9/site-packages/jupyter_contrib_nbextensions/nbextensions/rubberband/icon.png -> /Users/jordanaaoliveira/Library/Jupyter/nbextensions/rubberband/icon.png\n",
      "\u001b[32m[I 14:51:32 InstallContribNbextensionsApp]\u001b[m Copying: /Users/jordanaaoliveira/opt/anaconda3/lib/python3.9/site-packages/jupyter_contrib_nbextensions/nbextensions/rubberband/main.css -> /Users/jordanaaoliveira/Library/Jupyter/nbextensions/rubberband/main.css\n",
      "\u001b[32m[I 14:51:32 InstallContribNbextensionsApp]\u001b[m Copying: /Users/jordanaaoliveira/opt/anaconda3/lib/python3.9/site-packages/jupyter_contrib_nbextensions/nbextensions/rubberband/readme.md -> /Users/jordanaaoliveira/Library/Jupyter/nbextensions/rubberband/readme.md\n",
      "\u001b[32m[I 14:51:32 InstallContribNbextensionsApp]\u001b[m Copying: /Users/jordanaaoliveira/opt/anaconda3/lib/python3.9/site-packages/jupyter_contrib_nbextensions/nbextensions/rubberband/main.js -> /Users/jordanaaoliveira/Library/Jupyter/nbextensions/rubberband/main.js\n",
      "\u001b[32m[I 14:51:32 InstallContribNbextensionsApp]\u001b[m Copying: /Users/jordanaaoliveira/opt/anaconda3/lib/python3.9/site-packages/jupyter_contrib_nbextensions/nbextensions/rubberband/rubberband.yaml -> /Users/jordanaaoliveira/Library/Jupyter/nbextensions/rubberband/rubberband.yaml\n",
      "\u001b[32m[I 14:51:32 InstallContribNbextensionsApp]\u001b[m - Validating: \u001b[32mOK\u001b[0m\n",
      "\u001b[32m[I 14:51:32 InstallContribNbextensionsApp]\u001b[m Installing /Users/jordanaaoliveira/opt/anaconda3/lib/python3.9/site-packages/jupyter_contrib_nbextensions/nbextensions/scroll_down -> scroll_down\n",
      "\u001b[32m[I 14:51:32 InstallContribNbextensionsApp]\u001b[m Making directory: /Users/jordanaaoliveira/Library/Jupyter/nbextensions/scroll_down/\n",
      "\u001b[32m[I 14:51:32 InstallContribNbextensionsApp]\u001b[m Copying: /Users/jordanaaoliveira/opt/anaconda3/lib/python3.9/site-packages/jupyter_contrib_nbextensions/nbextensions/scroll_down/icon.png -> /Users/jordanaaoliveira/Library/Jupyter/nbextensions/scroll_down/icon.png\n",
      "\u001b[32m[I 14:51:32 InstallContribNbextensionsApp]\u001b[m Copying: /Users/jordanaaoliveira/opt/anaconda3/lib/python3.9/site-packages/jupyter_contrib_nbextensions/nbextensions/scroll_down/config.yaml -> /Users/jordanaaoliveira/Library/Jupyter/nbextensions/scroll_down/config.yaml\n",
      "\u001b[32m[I 14:51:32 InstallContribNbextensionsApp]\u001b[m Copying: /Users/jordanaaoliveira/opt/anaconda3/lib/python3.9/site-packages/jupyter_contrib_nbextensions/nbextensions/scroll_down/readme.md -> /Users/jordanaaoliveira/Library/Jupyter/nbextensions/scroll_down/readme.md\n",
      "\u001b[32m[I 14:51:32 InstallContribNbextensionsApp]\u001b[m Copying: /Users/jordanaaoliveira/opt/anaconda3/lib/python3.9/site-packages/jupyter_contrib_nbextensions/nbextensions/scroll_down/main.js -> /Users/jordanaaoliveira/Library/Jupyter/nbextensions/scroll_down/main.js\n",
      "\u001b[32m[I 14:51:32 InstallContribNbextensionsApp]\u001b[m - Validating: \u001b[32mOK\u001b[0m\n",
      "\u001b[32m[I 14:51:32 InstallContribNbextensionsApp]\u001b[m Installing /Users/jordanaaoliveira/opt/anaconda3/lib/python3.9/site-packages/jupyter_contrib_nbextensions/nbextensions/hinterland -> hinterland\n",
      "\u001b[32m[I 14:51:32 InstallContribNbextensionsApp]\u001b[m Making directory: /Users/jordanaaoliveira/Library/Jupyter/nbextensions/hinterland/\n",
      "\u001b[32m[I 14:51:32 InstallContribNbextensionsApp]\u001b[m Copying: /Users/jordanaaoliveira/opt/anaconda3/lib/python3.9/site-packages/jupyter_contrib_nbextensions/nbextensions/hinterland/hinterland.yaml -> /Users/jordanaaoliveira/Library/Jupyter/nbextensions/hinterland/hinterland.yaml\n",
      "\u001b[32m[I 14:51:32 InstallContribNbextensionsApp]\u001b[m Copying: /Users/jordanaaoliveira/opt/anaconda3/lib/python3.9/site-packages/jupyter_contrib_nbextensions/nbextensions/hinterland/hinterland.js -> /Users/jordanaaoliveira/Library/Jupyter/nbextensions/hinterland/hinterland.js\n",
      "\u001b[32m[I 14:51:32 InstallContribNbextensionsApp]\u001b[m Copying: /Users/jordanaaoliveira/opt/anaconda3/lib/python3.9/site-packages/jupyter_contrib_nbextensions/nbextensions/hinterland/README.md -> /Users/jordanaaoliveira/Library/Jupyter/nbextensions/hinterland/README.md\n",
      "\u001b[32m[I 14:51:32 InstallContribNbextensionsApp]\u001b[m - Validating: \u001b[32mOK\u001b[0m\n",
      "\u001b[32m[I 14:51:32 InstallContribNbextensionsApp]\u001b[m Installing /Users/jordanaaoliveira/opt/anaconda3/lib/python3.9/site-packages/jupyter_contrib_nbextensions/nbextensions/snippets -> snippets\n",
      "\u001b[32m[I 14:51:32 InstallContribNbextensionsApp]\u001b[m Making directory: /Users/jordanaaoliveira/Library/Jupyter/nbextensions/snippets/\n",
      "\u001b[32m[I 14:51:32 InstallContribNbextensionsApp]\u001b[m Copying: /Users/jordanaaoliveira/opt/anaconda3/lib/python3.9/site-packages/jupyter_contrib_nbextensions/nbextensions/snippets/snippets.yaml -> /Users/jordanaaoliveira/Library/Jupyter/nbextensions/snippets/snippets.yaml\n",
      "\u001b[32m[I 14:51:32 InstallContribNbextensionsApp]\u001b[m Copying: /Users/jordanaaoliveira/opt/anaconda3/lib/python3.9/site-packages/jupyter_contrib_nbextensions/nbextensions/snippets/snippets.json -> /Users/jordanaaoliveira/Library/Jupyter/nbextensions/snippets/snippets.json\n",
      "\u001b[32m[I 14:51:32 InstallContribNbextensionsApp]\u001b[m Copying: /Users/jordanaaoliveira/opt/anaconda3/lib/python3.9/site-packages/jupyter_contrib_nbextensions/nbextensions/snippets/README.md -> /Users/jordanaaoliveira/Library/Jupyter/nbextensions/snippets/README.md\n",
      "\u001b[32m[I 14:51:32 InstallContribNbextensionsApp]\u001b[m Copying: /Users/jordanaaoliveira/opt/anaconda3/lib/python3.9/site-packages/jupyter_contrib_nbextensions/nbextensions/snippets/main.js -> /Users/jordanaaoliveira/Library/Jupyter/nbextensions/snippets/main.js\n",
      "\u001b[32m[I 14:51:32 InstallContribNbextensionsApp]\u001b[m Copying: /Users/jordanaaoliveira/opt/anaconda3/lib/python3.9/site-packages/jupyter_contrib_nbextensions/nbextensions/snippets/snippets-demo.gif -> /Users/jordanaaoliveira/Library/Jupyter/nbextensions/snippets/snippets-demo.gif\n",
      "\u001b[32m[I 14:51:32 InstallContribNbextensionsApp]\u001b[m - Validating: \u001b[32mOK\u001b[0m\n",
      "\u001b[32m[I 14:51:32 InstallContribNbextensionsApp]\u001b[m Installing /Users/jordanaaoliveira/opt/anaconda3/lib/python3.9/site-packages/jupyter_contrib_nbextensions/nbextensions/toggle_all_line_numbers -> toggle_all_line_numbers\n",
      "\u001b[32m[I 14:51:32 InstallContribNbextensionsApp]\u001b[m Making directory: /Users/jordanaaoliveira/Library/Jupyter/nbextensions/toggle_all_line_numbers/\n",
      "\u001b[32m[I 14:51:32 InstallContribNbextensionsApp]\u001b[m Copying: /Users/jordanaaoliveira/opt/anaconda3/lib/python3.9/site-packages/jupyter_contrib_nbextensions/nbextensions/toggle_all_line_numbers/icon.png -> /Users/jordanaaoliveira/Library/Jupyter/nbextensions/toggle_all_line_numbers/icon.png\n",
      "\u001b[32m[I 14:51:32 InstallContribNbextensionsApp]\u001b[m Copying: /Users/jordanaaoliveira/opt/anaconda3/lib/python3.9/site-packages/jupyter_contrib_nbextensions/nbextensions/toggle_all_line_numbers/main.yaml -> /Users/jordanaaoliveira/Library/Jupyter/nbextensions/toggle_all_line_numbers/main.yaml\n",
      "\u001b[32m[I 14:51:32 InstallContribNbextensionsApp]\u001b[m Copying: /Users/jordanaaoliveira/opt/anaconda3/lib/python3.9/site-packages/jupyter_contrib_nbextensions/nbextensions/toggle_all_line_numbers/readme.md -> /Users/jordanaaoliveira/Library/Jupyter/nbextensions/toggle_all_line_numbers/readme.md\n",
      "\u001b[32m[I 14:51:32 InstallContribNbextensionsApp]\u001b[m Copying: /Users/jordanaaoliveira/opt/anaconda3/lib/python3.9/site-packages/jupyter_contrib_nbextensions/nbextensions/toggle_all_line_numbers/main.js -> /Users/jordanaaoliveira/Library/Jupyter/nbextensions/toggle_all_line_numbers/main.js\n",
      "\u001b[32m[I 14:51:32 InstallContribNbextensionsApp]\u001b[m - Validating: \u001b[32mOK\u001b[0m\n",
      "\u001b[32m[I 14:51:32 InstallContribNbextensionsApp]\u001b[m Installing /Users/jordanaaoliveira/opt/anaconda3/lib/python3.9/site-packages/jupyter_contrib_nbextensions/nbextensions/notify -> notify\n",
      "\u001b[32m[I 14:51:32 InstallContribNbextensionsApp]\u001b[m Making directory: /Users/jordanaaoliveira/Library/Jupyter/nbextensions/notify/\n",
      "\u001b[32m[I 14:51:32 InstallContribNbextensionsApp]\u001b[m Copying: /Users/jordanaaoliveira/opt/anaconda3/lib/python3.9/site-packages/jupyter_contrib_nbextensions/nbextensions/notify/notify.js -> /Users/jordanaaoliveira/Library/Jupyter/nbextensions/notify/notify.js\n",
      "\u001b[32m[I 14:51:32 InstallContribNbextensionsApp]\u001b[m Copying: /Users/jordanaaoliveira/opt/anaconda3/lib/python3.9/site-packages/jupyter_contrib_nbextensions/nbextensions/notify/notify.mp3 -> /Users/jordanaaoliveira/Library/Jupyter/nbextensions/notify/notify.mp3\n",
      "\u001b[32m[I 14:51:32 InstallContribNbextensionsApp]\u001b[m Copying: /Users/jordanaaoliveira/opt/anaconda3/lib/python3.9/site-packages/jupyter_contrib_nbextensions/nbextensions/notify/readme.md -> /Users/jordanaaoliveira/Library/Jupyter/nbextensions/notify/readme.md\n",
      "\u001b[32m[I 14:51:32 InstallContribNbextensionsApp]\u001b[m Copying: /Users/jordanaaoliveira/opt/anaconda3/lib/python3.9/site-packages/jupyter_contrib_nbextensions/nbextensions/notify/notify.yaml -> /Users/jordanaaoliveira/Library/Jupyter/nbextensions/notify/notify.yaml\n",
      "\u001b[32m[I 14:51:32 InstallContribNbextensionsApp]\u001b[m Copying: /Users/jordanaaoliveira/opt/anaconda3/lib/python3.9/site-packages/jupyter_contrib_nbextensions/nbextensions/notify/notification.png -> /Users/jordanaaoliveira/Library/Jupyter/nbextensions/notify/notification.png\n",
      "\u001b[32m[I 14:51:32 InstallContribNbextensionsApp]\u001b[m - Validating: \u001b[32mOK\u001b[0m\n",
      "\u001b[32m[I 14:51:32 InstallContribNbextensionsApp]\u001b[m Installing /Users/jordanaaoliveira/opt/anaconda3/lib/python3.9/site-packages/jupyter_contrib_nbextensions/nbextensions/runtools -> runtools\n",
      "\u001b[32m[I 14:51:32 InstallContribNbextensionsApp]\u001b[m Making directory: /Users/jordanaaoliveira/Library/Jupyter/nbextensions/runtools/\n",
      "\u001b[32m[I 14:51:32 InstallContribNbextensionsApp]\u001b[m Copying: /Users/jordanaaoliveira/opt/anaconda3/lib/python3.9/site-packages/jupyter_contrib_nbextensions/nbextensions/runtools/cellstate.js -> /Users/jordanaaoliveira/Library/Jupyter/nbextensions/runtools/cellstate.js\n",
      "\u001b[32m[I 14:51:32 InstallContribNbextensionsApp]\u001b[m Copying: /Users/jordanaaoliveira/opt/anaconda3/lib/python3.9/site-packages/jupyter_contrib_nbextensions/nbextensions/runtools/icon.png -> /Users/jordanaaoliveira/Library/Jupyter/nbextensions/runtools/icon.png\n",
      "\u001b[32m[I 14:51:32 InstallContribNbextensionsApp]\u001b[m Copying: /Users/jordanaaoliveira/opt/anaconda3/lib/python3.9/site-packages/jupyter_contrib_nbextensions/nbextensions/runtools/runtools_execute.png -> /Users/jordanaaoliveira/Library/Jupyter/nbextensions/runtools/runtools_execute.png\n",
      "\u001b[32m[I 14:51:32 InstallContribNbextensionsApp]\u001b[m Copying: /Users/jordanaaoliveira/opt/anaconda3/lib/python3.9/site-packages/jupyter_contrib_nbextensions/nbextensions/runtools/annotations.odg -> /Users/jordanaaoliveira/Library/Jupyter/nbextensions/runtools/annotations.odg\n",
      "\u001b[32m[I 14:51:32 InstallContribNbextensionsApp]\u001b[m Copying: /Users/jordanaaoliveira/opt/anaconda3/lib/python3.9/site-packages/jupyter_contrib_nbextensions/nbextensions/runtools/runtools.yaml -> /Users/jordanaaoliveira/Library/Jupyter/nbextensions/runtools/runtools.yaml\n",
      "\u001b[32m[I 14:51:32 InstallContribNbextensionsApp]\u001b[m Copying: /Users/jordanaaoliveira/opt/anaconda3/lib/python3.9/site-packages/jupyter_contrib_nbextensions/nbextensions/runtools/main.css -> /Users/jordanaaoliveira/Library/Jupyter/nbextensions/runtools/main.css\n",
      "\u001b[32m[I 14:51:32 InstallContribNbextensionsApp]\u001b[m Copying: /Users/jordanaaoliveira/opt/anaconda3/lib/python3.9/site-packages/jupyter_contrib_nbextensions/nbextensions/runtools/runtools_nb.png -> /Users/jordanaaoliveira/Library/Jupyter/nbextensions/runtools/runtools_nb.png\n",
      "\u001b[32m[I 14:51:32 InstallContribNbextensionsApp]\u001b[m Copying: /Users/jordanaaoliveira/opt/anaconda3/lib/python3.9/site-packages/jupyter_contrib_nbextensions/nbextensions/runtools/readme.md -> /Users/jordanaaoliveira/Library/Jupyter/nbextensions/runtools/readme.md\n",
      "\u001b[32m[I 14:51:32 InstallContribNbextensionsApp]\u001b[m Copying: /Users/jordanaaoliveira/opt/anaconda3/lib/python3.9/site-packages/jupyter_contrib_nbextensions/nbextensions/runtools/runtools_marker.png -> /Users/jordanaaoliveira/Library/Jupyter/nbextensions/runtools/runtools_marker.png\n",
      "\u001b[32m[I 14:51:32 InstallContribNbextensionsApp]\u001b[m Copying: /Users/jordanaaoliveira/opt/anaconda3/lib/python3.9/site-packages/jupyter_contrib_nbextensions/nbextensions/runtools/main.js -> /Users/jordanaaoliveira/Library/Jupyter/nbextensions/runtools/main.js\n",
      "\u001b[32m[I 14:51:32 InstallContribNbextensionsApp]\u001b[m Copying: /Users/jordanaaoliveira/opt/anaconda3/lib/python3.9/site-packages/jupyter_contrib_nbextensions/nbextensions/runtools/runtools_show_hide.png -> /Users/jordanaaoliveira/Library/Jupyter/nbextensions/runtools/runtools_show_hide.png\n",
      "\u001b[32m[I 14:51:32 InstallContribNbextensionsApp]\u001b[m Copying: /Users/jordanaaoliveira/opt/anaconda3/lib/python3.9/site-packages/jupyter_contrib_nbextensions/nbextensions/runtools/runtools_lock.png -> /Users/jordanaaoliveira/Library/Jupyter/nbextensions/runtools/runtools_lock.png\n",
      "\u001b[32m[I 14:51:32 InstallContribNbextensionsApp]\u001b[m Copying: /Users/jordanaaoliveira/opt/anaconda3/lib/python3.9/site-packages/jupyter_contrib_nbextensions/nbextensions/runtools/demo.gif -> /Users/jordanaaoliveira/Library/Jupyter/nbextensions/runtools/demo.gif\n",
      "\u001b[32m[I 14:51:32 InstallContribNbextensionsApp]\u001b[m Copying: /Users/jordanaaoliveira/opt/anaconda3/lib/python3.9/site-packages/jupyter_contrib_nbextensions/nbextensions/runtools/gutter.css -> /Users/jordanaaoliveira/Library/Jupyter/nbextensions/runtools/gutter.css\n",
      "\u001b[32m[I 14:51:32 InstallContribNbextensionsApp]\u001b[m - Validating: \u001b[32mOK\u001b[0m\n",
      "\u001b[32m[I 14:51:32 InstallContribNbextensionsApp]\u001b[m Installing /Users/jordanaaoliveira/opt/anaconda3/lib/python3.9/site-packages/jupyter_contrib_nbextensions/nbextensions/tree-filter -> tree-filter\n",
      "\u001b[32m[I 14:51:32 InstallContribNbextensionsApp]\u001b[m Making directory: /Users/jordanaaoliveira/Library/Jupyter/nbextensions/tree-filter/\n",
      "\u001b[32m[I 14:51:32 InstallContribNbextensionsApp]\u001b[m Copying: /Users/jordanaaoliveira/opt/anaconda3/lib/python3.9/site-packages/jupyter_contrib_nbextensions/nbextensions/tree-filter/tree-filter.yaml -> /Users/jordanaaoliveira/Library/Jupyter/nbextensions/tree-filter/tree-filter.yaml\n",
      "\u001b[32m[I 14:51:32 InstallContribNbextensionsApp]\u001b[m Copying: /Users/jordanaaoliveira/opt/anaconda3/lib/python3.9/site-packages/jupyter_contrib_nbextensions/nbextensions/tree-filter/index.js -> /Users/jordanaaoliveira/Library/Jupyter/nbextensions/tree-filter/index.js\n",
      "\u001b[32m[I 14:51:32 InstallContribNbextensionsApp]\u001b[m Copying: /Users/jordanaaoliveira/opt/anaconda3/lib/python3.9/site-packages/jupyter_contrib_nbextensions/nbextensions/tree-filter/readme.md -> /Users/jordanaaoliveira/Library/Jupyter/nbextensions/tree-filter/readme.md\n",
      "\u001b[32m[I 14:51:32 InstallContribNbextensionsApp]\u001b[m Copying: /Users/jordanaaoliveira/opt/anaconda3/lib/python3.9/site-packages/jupyter_contrib_nbextensions/nbextensions/tree-filter/demo.gif -> /Users/jordanaaoliveira/Library/Jupyter/nbextensions/tree-filter/demo.gif\n",
      "\u001b[32m[I 14:51:32 InstallContribNbextensionsApp]\u001b[m - Validating: \u001b[32mOK\u001b[0m\n",
      "\u001b[32m[I 14:51:32 InstallContribNbextensionsApp]\u001b[m Installing /Users/jordanaaoliveira/opt/anaconda3/lib/python3.9/site-packages/jupyter_contrib_nbextensions/nbextensions/table_beautifier -> table_beautifier\n",
      "\u001b[32m[I 14:51:32 InstallContribNbextensionsApp]\u001b[m Making directory: /Users/jordanaaoliveira/Library/Jupyter/nbextensions/table_beautifier/\n",
      "\u001b[32m[I 14:51:32 InstallContribNbextensionsApp]\u001b[m Copying: /Users/jordanaaoliveira/opt/anaconda3/lib/python3.9/site-packages/jupyter_contrib_nbextensions/nbextensions/table_beautifier/main.css -> /Users/jordanaaoliveira/Library/Jupyter/nbextensions/table_beautifier/main.css\n",
      "\u001b[32m[I 14:51:32 InstallContribNbextensionsApp]\u001b[m Copying: /Users/jordanaaoliveira/opt/anaconda3/lib/python3.9/site-packages/jupyter_contrib_nbextensions/nbextensions/table_beautifier/README.md -> /Users/jordanaaoliveira/Library/Jupyter/nbextensions/table_beautifier/README.md\n",
      "\u001b[32m[I 14:51:32 InstallContribNbextensionsApp]\u001b[m Copying: /Users/jordanaaoliveira/opt/anaconda3/lib/python3.9/site-packages/jupyter_contrib_nbextensions/nbextensions/table_beautifier/main.js -> /Users/jordanaaoliveira/Library/Jupyter/nbextensions/table_beautifier/main.js\n",
      "\u001b[32m[I 14:51:32 InstallContribNbextensionsApp]\u001b[m Copying: /Users/jordanaaoliveira/opt/anaconda3/lib/python3.9/site-packages/jupyter_contrib_nbextensions/nbextensions/table_beautifier/table_beautifier.yaml -> /Users/jordanaaoliveira/Library/Jupyter/nbextensions/table_beautifier/table_beautifier.yaml\n",
      "\u001b[32m[I 14:51:32 InstallContribNbextensionsApp]\u001b[m - Validating: \u001b[32mOK\u001b[0m\n",
      "\u001b[32m[I 14:51:32 InstallContribNbextensionsApp]\u001b[m Installing /Users/jordanaaoliveira/opt/anaconda3/lib/python3.9/site-packages/jupyter_contrib_nbextensions/nbextensions/freeze -> freeze\n",
      "\u001b[32m[I 14:51:32 InstallContribNbextensionsApp]\u001b[m Making directory: /Users/jordanaaoliveira/Library/Jupyter/nbextensions/freeze/\n",
      "\u001b[32m[I 14:51:32 InstallContribNbextensionsApp]\u001b[m Copying: /Users/jordanaaoliveira/opt/anaconda3/lib/python3.9/site-packages/jupyter_contrib_nbextensions/nbextensions/freeze/icon.png -> /Users/jordanaaoliveira/Library/Jupyter/nbextensions/freeze/icon.png\n",
      "\u001b[32m[I 14:51:32 InstallContribNbextensionsApp]\u001b[m Copying: /Users/jordanaaoliveira/opt/anaconda3/lib/python3.9/site-packages/jupyter_contrib_nbextensions/nbextensions/freeze/config.yaml -> /Users/jordanaaoliveira/Library/Jupyter/nbextensions/freeze/config.yaml\n",
      "\u001b[32m[I 14:51:32 InstallContribNbextensionsApp]\u001b[m Copying: /Users/jordanaaoliveira/opt/anaconda3/lib/python3.9/site-packages/jupyter_contrib_nbextensions/nbextensions/freeze/readme.md -> /Users/jordanaaoliveira/Library/Jupyter/nbextensions/freeze/readme.md\n",
      "\u001b[32m[I 14:51:32 InstallContribNbextensionsApp]\u001b[m Copying: /Users/jordanaaoliveira/opt/anaconda3/lib/python3.9/site-packages/jupyter_contrib_nbextensions/nbextensions/freeze/main.js -> /Users/jordanaaoliveira/Library/Jupyter/nbextensions/freeze/main.js\n",
      "\u001b[32m[I 14:51:32 InstallContribNbextensionsApp]\u001b[m - Validating: \u001b[32mOK\u001b[0m\n",
      "\u001b[32m[I 14:51:32 InstallContribNbextensionsApp]\u001b[m Installing /Users/jordanaaoliveira/opt/anaconda3/lib/python3.9/site-packages/jupyter_contrib_nbextensions/nbextensions/exercise2 -> exercise2\n",
      "\u001b[32m[I 14:51:32 InstallContribNbextensionsApp]\u001b[m Making directory: /Users/jordanaaoliveira/Library/Jupyter/nbextensions/exercise2/\n",
      "\u001b[32m[I 14:51:32 InstallContribNbextensionsApp]\u001b[m Copying: /Users/jordanaaoliveira/opt/anaconda3/lib/python3.9/site-packages/jupyter_contrib_nbextensions/nbextensions/exercise2/icon.png -> /Users/jordanaaoliveira/Library/Jupyter/nbextensions/exercise2/icon.png\n",
      "\u001b[32m[I 14:51:32 InstallContribNbextensionsApp]\u001b[m Copying: /Users/jordanaaoliveira/opt/anaconda3/lib/python3.9/site-packages/jupyter_contrib_nbextensions/nbextensions/exercise2/exercise2.yaml -> /Users/jordanaaoliveira/Library/Jupyter/nbextensions/exercise2/exercise2.yaml\n",
      "\u001b[32m[I 14:51:32 InstallContribNbextensionsApp]\u001b[m Copying: /Users/jordanaaoliveira/opt/anaconda3/lib/python3.9/site-packages/jupyter_contrib_nbextensions/nbextensions/exercise2/main.css -> /Users/jordanaaoliveira/Library/Jupyter/nbextensions/exercise2/main.css\n",
      "\u001b[32m[I 14:51:32 InstallContribNbextensionsApp]\u001b[m Copying: /Users/jordanaaoliveira/opt/anaconda3/lib/python3.9/site-packages/jupyter_contrib_nbextensions/nbextensions/exercise2/image.gif -> /Users/jordanaaoliveira/Library/Jupyter/nbextensions/exercise2/image.gif\n",
      "\u001b[32m[I 14:51:32 InstallContribNbextensionsApp]\u001b[m Copying: /Users/jordanaaoliveira/opt/anaconda3/lib/python3.9/site-packages/jupyter_contrib_nbextensions/nbextensions/exercise2/readme.md -> /Users/jordanaaoliveira/Library/Jupyter/nbextensions/exercise2/readme.md\n",
      "\u001b[32m[I 14:51:32 InstallContribNbextensionsApp]\u001b[m Copying: /Users/jordanaaoliveira/opt/anaconda3/lib/python3.9/site-packages/jupyter_contrib_nbextensions/nbextensions/exercise2/main.js -> /Users/jordanaaoliveira/Library/Jupyter/nbextensions/exercise2/main.js\n",
      "\u001b[32m[I 14:51:32 InstallContribNbextensionsApp]\u001b[m - Validating: \u001b[32mOK\u001b[0m\n",
      "\u001b[32m[I 14:51:32 InstallContribNbextensionsApp]\u001b[m Installing /Users/jordanaaoliveira/opt/anaconda3/lib/python3.9/site-packages/jupyter_contrib_nbextensions/nbextensions/execution_dependencies -> execution_dependencies\n",
      "\u001b[32m[I 14:51:32 InstallContribNbextensionsApp]\u001b[m Making directory: /Users/jordanaaoliveira/Library/Jupyter/nbextensions/execution_dependencies/\n",
      "\u001b[32m[I 14:51:32 InstallContribNbextensionsApp]\u001b[m Copying: /Users/jordanaaoliveira/opt/anaconda3/lib/python3.9/site-packages/jupyter_contrib_nbextensions/nbextensions/execution_dependencies/execution_dependencies.yml -> /Users/jordanaaoliveira/Library/Jupyter/nbextensions/execution_dependencies/execution_dependencies.yml\n",
      "\u001b[32m[I 14:51:32 InstallContribNbextensionsApp]\u001b[m Copying: /Users/jordanaaoliveira/opt/anaconda3/lib/python3.9/site-packages/jupyter_contrib_nbextensions/nbextensions/execution_dependencies/README.md -> /Users/jordanaaoliveira/Library/Jupyter/nbextensions/execution_dependencies/README.md\n",
      "\u001b[32m[I 14:51:32 InstallContribNbextensionsApp]\u001b[m Copying: /Users/jordanaaoliveira/opt/anaconda3/lib/python3.9/site-packages/jupyter_contrib_nbextensions/nbextensions/execution_dependencies/execution_dependencies.js -> /Users/jordanaaoliveira/Library/Jupyter/nbextensions/execution_dependencies/execution_dependencies.js\n",
      "\u001b[32m[I 14:51:32 InstallContribNbextensionsApp]\u001b[m - Validating: \u001b[32mOK\u001b[0m\n",
      "\u001b[32m[I 14:51:32 InstallContribNbextensionsApp]\u001b[m Installing /Users/jordanaaoliveira/opt/anaconda3/lib/python3.9/site-packages/jupyter_contrib_nbextensions/nbextensions/skill -> skill\n",
      "\u001b[32m[I 14:51:32 InstallContribNbextensionsApp]\u001b[m Making directory: /Users/jordanaaoliveira/Library/Jupyter/nbextensions/skill/\n",
      "\u001b[32m[I 14:51:32 InstallContribNbextensionsApp]\u001b[m Copying: /Users/jordanaaoliveira/opt/anaconda3/lib/python3.9/site-packages/jupyter_contrib_nbextensions/nbextensions/skill/skill.js -> /Users/jordanaaoliveira/Library/Jupyter/nbextensions/skill/skill.js\n",
      "\u001b[32m[I 14:51:32 InstallContribNbextensionsApp]\u001b[m Copying: /Users/jordanaaoliveira/opt/anaconda3/lib/python3.9/site-packages/jupyter_contrib_nbextensions/nbextensions/skill/README.md -> /Users/jordanaaoliveira/Library/Jupyter/nbextensions/skill/README.md\n",
      "\u001b[32m[I 14:51:32 InstallContribNbextensionsApp]\u001b[m Copying: /Users/jordanaaoliveira/opt/anaconda3/lib/python3.9/site-packages/jupyter_contrib_nbextensions/nbextensions/skill/main.js -> /Users/jordanaaoliveira/Library/Jupyter/nbextensions/skill/main.js\n",
      "\u001b[32m[I 14:51:32 InstallContribNbextensionsApp]\u001b[m Copying: /Users/jordanaaoliveira/opt/anaconda3/lib/python3.9/site-packages/jupyter_contrib_nbextensions/nbextensions/skill/skill.yaml -> /Users/jordanaaoliveira/Library/Jupyter/nbextensions/skill/skill.yaml\n",
      "\u001b[32m[I 14:51:32 InstallContribNbextensionsApp]\u001b[m - Validating: \u001b[32mOK\u001b[0m\n",
      "\u001b[32m[I 14:51:32 InstallContribNbextensionsApp]\u001b[m Installing /Users/jordanaaoliveira/opt/anaconda3/lib/python3.9/site-packages/jupyter_contrib_nbextensions/nbextensions/splitcell -> splitcell\n",
      "\u001b[32m[I 14:51:32 InstallContribNbextensionsApp]\u001b[m Making directory: /Users/jordanaaoliveira/Library/Jupyter/nbextensions/splitcell/\n",
      "\u001b[32m[I 14:51:32 InstallContribNbextensionsApp]\u001b[m Copying: /Users/jordanaaoliveira/opt/anaconda3/lib/python3.9/site-packages/jupyter_contrib_nbextensions/nbextensions/splitcell/icon.png -> /Users/jordanaaoliveira/Library/Jupyter/nbextensions/splitcell/icon.png\n",
      "\u001b[32m[I 14:51:32 InstallContribNbextensionsApp]\u001b[m Copying: /Users/jordanaaoliveira/opt/anaconda3/lib/python3.9/site-packages/jupyter_contrib_nbextensions/nbextensions/splitcell/readme.md -> /Users/jordanaaoliveira/Library/Jupyter/nbextensions/splitcell/readme.md\n",
      "\u001b[32m[I 14:51:32 InstallContribNbextensionsApp]\u001b[m Copying: /Users/jordanaaoliveira/opt/anaconda3/lib/python3.9/site-packages/jupyter_contrib_nbextensions/nbextensions/splitcell/splitcell.yaml -> /Users/jordanaaoliveira/Library/Jupyter/nbextensions/splitcell/splitcell.yaml\n",
      "\u001b[32m[I 14:51:32 InstallContribNbextensionsApp]\u001b[m Copying: /Users/jordanaaoliveira/opt/anaconda3/lib/python3.9/site-packages/jupyter_contrib_nbextensions/nbextensions/splitcell/splitcell.js -> /Users/jordanaaoliveira/Library/Jupyter/nbextensions/splitcell/splitcell.js\n"
     ]
    },
    {
     "name": "stdout",
     "output_type": "stream",
     "text": [
      "\u001b[32m[I 14:51:32 InstallContribNbextensionsApp]\u001b[m - Validating: \u001b[32mOK\u001b[0m\r\n",
      "\u001b[32m[I 14:51:32 InstallContribNbextensionsApp]\u001b[m Installing /Users/jordanaaoliveira/opt/anaconda3/lib/python3.9/site-packages/jupyter_contrib_nbextensions/nbextensions/autosavetime -> autosavetime\r\n",
      "\u001b[32m[I 14:51:32 InstallContribNbextensionsApp]\u001b[m Making directory: /Users/jordanaaoliveira/Library/Jupyter/nbextensions/autosavetime/\r\n",
      "\u001b[32m[I 14:51:32 InstallContribNbextensionsApp]\u001b[m Copying: /Users/jordanaaoliveira/opt/anaconda3/lib/python3.9/site-packages/jupyter_contrib_nbextensions/nbextensions/autosavetime/icon.png -> /Users/jordanaaoliveira/Library/Jupyter/nbextensions/autosavetime/icon.png\r\n",
      "\u001b[32m[I 14:51:32 InstallContribNbextensionsApp]\u001b[m Copying: /Users/jordanaaoliveira/opt/anaconda3/lib/python3.9/site-packages/jupyter_contrib_nbextensions/nbextensions/autosavetime/README.md -> /Users/jordanaaoliveira/Library/Jupyter/nbextensions/autosavetime/README.md\r\n",
      "\u001b[32m[I 14:51:32 InstallContribNbextensionsApp]\u001b[m Copying: /Users/jordanaaoliveira/opt/anaconda3/lib/python3.9/site-packages/jupyter_contrib_nbextensions/nbextensions/autosavetime/autosavetime.yaml -> /Users/jordanaaoliveira/Library/Jupyter/nbextensions/autosavetime/autosavetime.yaml\r\n",
      "\u001b[32m[I 14:51:32 InstallContribNbextensionsApp]\u001b[m Copying: /Users/jordanaaoliveira/opt/anaconda3/lib/python3.9/site-packages/jupyter_contrib_nbextensions/nbextensions/autosavetime/main.js -> /Users/jordanaaoliveira/Library/Jupyter/nbextensions/autosavetime/main.js\r\n",
      "\u001b[32m[I 14:51:32 InstallContribNbextensionsApp]\u001b[m - Validating: \u001b[32mOK\u001b[0m\r\n",
      "\u001b[32m[I 14:51:32 InstallContribNbextensionsApp]\u001b[m Installing /Users/jordanaaoliveira/opt/anaconda3/lib/python3.9/site-packages/jupyter_contrib_nbextensions/nbextensions/select_keymap -> select_keymap\r\n",
      "\u001b[32m[I 14:51:32 InstallContribNbextensionsApp]\u001b[m Making directory: /Users/jordanaaoliveira/Library/Jupyter/nbextensions/select_keymap/\r\n",
      "\u001b[32m[I 14:51:32 InstallContribNbextensionsApp]\u001b[m Copying: /Users/jordanaaoliveira/opt/anaconda3/lib/python3.9/site-packages/jupyter_contrib_nbextensions/nbextensions/select_keymap/select_keymap.png -> /Users/jordanaaoliveira/Library/Jupyter/nbextensions/select_keymap/select_keymap.png\r\n",
      "\u001b[32m[I 14:51:32 InstallContribNbextensionsApp]\u001b[m Copying: /Users/jordanaaoliveira/opt/anaconda3/lib/python3.9/site-packages/jupyter_contrib_nbextensions/nbextensions/select_keymap/README.md -> /Users/jordanaaoliveira/Library/Jupyter/nbextensions/select_keymap/README.md\r\n",
      "\u001b[32m[I 14:51:32 InstallContribNbextensionsApp]\u001b[m Copying: /Users/jordanaaoliveira/opt/anaconda3/lib/python3.9/site-packages/jupyter_contrib_nbextensions/nbextensions/select_keymap/main.js -> /Users/jordanaaoliveira/Library/Jupyter/nbextensions/select_keymap/main.js\r\n",
      "\u001b[32m[I 14:51:32 InstallContribNbextensionsApp]\u001b[m Copying: /Users/jordanaaoliveira/opt/anaconda3/lib/python3.9/site-packages/jupyter_contrib_nbextensions/nbextensions/select_keymap/select_keymap.yaml -> /Users/jordanaaoliveira/Library/Jupyter/nbextensions/select_keymap/select_keymap.yaml\r\n",
      "\u001b[32m[I 14:51:32 InstallContribNbextensionsApp]\u001b[m - Validating: \u001b[32mOK\u001b[0m\r\n",
      "\u001b[32m[I 14:51:32 InstallContribNbextensionsApp]\u001b[m Installing /Users/jordanaaoliveira/opt/anaconda3/lib/python3.9/site-packages/jupyter_contrib_nbextensions/nbextensions/livemdpreview -> livemdpreview\r\n",
      "\u001b[32m[I 14:51:32 InstallContribNbextensionsApp]\u001b[m Making directory: /Users/jordanaaoliveira/Library/Jupyter/nbextensions/livemdpreview/\r\n",
      "\u001b[32m[I 14:51:32 InstallContribNbextensionsApp]\u001b[m Copying: /Users/jordanaaoliveira/opt/anaconda3/lib/python3.9/site-packages/jupyter_contrib_nbextensions/nbextensions/livemdpreview/livemdpreview.yml -> /Users/jordanaaoliveira/Library/Jupyter/nbextensions/livemdpreview/livemdpreview.yml\r\n",
      "\u001b[32m[I 14:51:32 InstallContribNbextensionsApp]\u001b[m Copying: /Users/jordanaaoliveira/opt/anaconda3/lib/python3.9/site-packages/jupyter_contrib_nbextensions/nbextensions/livemdpreview/livemdpreview.js -> /Users/jordanaaoliveira/Library/Jupyter/nbextensions/livemdpreview/livemdpreview.js\r\n",
      "\u001b[32m[I 14:51:32 InstallContribNbextensionsApp]\u001b[m - Validating: \u001b[32mOK\u001b[0m\r\n",
      "\u001b[32m[I 14:51:32 InstallContribNbextensionsApp]\u001b[m Installing /Users/jordanaaoliveira/opt/anaconda3/lib/python3.9/site-packages/jupyter_contrib_nbextensions/nbextensions/gist_it -> gist_it\r\n",
      "\u001b[32m[I 14:51:32 InstallContribNbextensionsApp]\u001b[m Making directory: /Users/jordanaaoliveira/Library/Jupyter/nbextensions/gist_it/\r\n",
      "\u001b[32m[I 14:51:32 InstallContribNbextensionsApp]\u001b[m Copying: /Users/jordanaaoliveira/opt/anaconda3/lib/python3.9/site-packages/jupyter_contrib_nbextensions/nbextensions/gist_it/icon.png -> /Users/jordanaaoliveira/Library/Jupyter/nbextensions/gist_it/icon.png\r\n",
      "\u001b[32m[I 14:51:32 InstallContribNbextensionsApp]\u001b[m Copying: /Users/jordanaaoliveira/opt/anaconda3/lib/python3.9/site-packages/jupyter_contrib_nbextensions/nbextensions/gist_it/gist_it.yaml -> /Users/jordanaaoliveira/Library/Jupyter/nbextensions/gist_it/gist_it.yaml\r\n",
      "\u001b[32m[I 14:51:32 InstallContribNbextensionsApp]\u001b[m Copying: /Users/jordanaaoliveira/opt/anaconda3/lib/python3.9/site-packages/jupyter_contrib_nbextensions/nbextensions/gist_it/readme.md -> /Users/jordanaaoliveira/Library/Jupyter/nbextensions/gist_it/readme.md\r\n",
      "\u001b[32m[I 14:51:32 InstallContribNbextensionsApp]\u001b[m Copying: /Users/jordanaaoliveira/opt/anaconda3/lib/python3.9/site-packages/jupyter_contrib_nbextensions/nbextensions/gist_it/main.js -> /Users/jordanaaoliveira/Library/Jupyter/nbextensions/gist_it/main.js\r\n",
      "\u001b[32m[I 14:51:32 InstallContribNbextensionsApp]\u001b[m - Validating: \u001b[32mOK\u001b[0m\r\n",
      "\u001b[32m[I 14:51:32 InstallContribNbextensionsApp]\u001b[m Installing /Users/jordanaaoliveira/opt/anaconda3/lib/python3.9/site-packages/jupyter_contrib_nbextensions/nbextensions/cell_filter -> cell_filter\r\n",
      "\u001b[32m[I 14:51:32 InstallContribNbextensionsApp]\u001b[m Making directory: /Users/jordanaaoliveira/Library/Jupyter/nbextensions/cell_filter/\r\n",
      "\u001b[32m[I 14:51:32 InstallContribNbextensionsApp]\u001b[m Copying: /Users/jordanaaoliveira/opt/anaconda3/lib/python3.9/site-packages/jupyter_contrib_nbextensions/nbextensions/cell_filter/cell_filter.yml -> /Users/jordanaaoliveira/Library/Jupyter/nbextensions/cell_filter/cell_filter.yml\r\n",
      "\u001b[32m[I 14:51:32 InstallContribNbextensionsApp]\u001b[m Copying: /Users/jordanaaoliveira/opt/anaconda3/lib/python3.9/site-packages/jupyter_contrib_nbextensions/nbextensions/cell_filter/cell_filter.js -> /Users/jordanaaoliveira/Library/Jupyter/nbextensions/cell_filter/cell_filter.js\r\n",
      "\u001b[32m[I 14:51:32 InstallContribNbextensionsApp]\u001b[m Copying: /Users/jordanaaoliveira/opt/anaconda3/lib/python3.9/site-packages/jupyter_contrib_nbextensions/nbextensions/cell_filter/README.md -> /Users/jordanaaoliveira/Library/Jupyter/nbextensions/cell_filter/README.md\r\n",
      "\u001b[32m[I 14:51:32 InstallContribNbextensionsApp]\u001b[m - Validating: \u001b[32mOK\u001b[0m\r\n",
      "\u001b[32m[I 14:51:32 InstallContribNbextensionsApp]\u001b[m Installing /Users/jordanaaoliveira/opt/anaconda3/lib/python3.9/site-packages/jupyter_contrib_nbextensions/nbextensions/scratchpad -> scratchpad\r\n",
      "\u001b[32m[I 14:51:32 InstallContribNbextensionsApp]\u001b[m Making directory: /Users/jordanaaoliveira/Library/Jupyter/nbextensions/scratchpad/\r\n",
      "\u001b[32m[I 14:51:32 InstallContribNbextensionsApp]\u001b[m Copying: /Users/jordanaaoliveira/opt/anaconda3/lib/python3.9/site-packages/jupyter_contrib_nbextensions/nbextensions/scratchpad/LICENSE -> /Users/jordanaaoliveira/Library/Jupyter/nbextensions/scratchpad/LICENSE\r\n",
      "\u001b[32m[I 14:51:32 InstallContribNbextensionsApp]\u001b[m Copying: /Users/jordanaaoliveira/opt/anaconda3/lib/python3.9/site-packages/jupyter_contrib_nbextensions/nbextensions/scratchpad/scratchpad.yaml -> /Users/jordanaaoliveira/Library/Jupyter/nbextensions/scratchpad/scratchpad.yaml\r\n",
      "\u001b[32m[I 14:51:32 InstallContribNbextensionsApp]\u001b[m Copying: /Users/jordanaaoliveira/opt/anaconda3/lib/python3.9/site-packages/jupyter_contrib_nbextensions/nbextensions/scratchpad/README.md -> /Users/jordanaaoliveira/Library/Jupyter/nbextensions/scratchpad/README.md\r\n",
      "\u001b[32m[I 14:51:32 InstallContribNbextensionsApp]\u001b[m Copying: /Users/jordanaaoliveira/opt/anaconda3/lib/python3.9/site-packages/jupyter_contrib_nbextensions/nbextensions/scratchpad/main.js -> /Users/jordanaaoliveira/Library/Jupyter/nbextensions/scratchpad/main.js\r\n",
      "\u001b[32m[I 14:51:32 InstallContribNbextensionsApp]\u001b[m Copying: /Users/jordanaaoliveira/opt/anaconda3/lib/python3.9/site-packages/jupyter_contrib_nbextensions/nbextensions/scratchpad/scratchpad.css -> /Users/jordanaaoliveira/Library/Jupyter/nbextensions/scratchpad/scratchpad.css\r\n",
      "\u001b[32m[I 14:51:32 InstallContribNbextensionsApp]\u001b[m Copying: /Users/jordanaaoliveira/opt/anaconda3/lib/python3.9/site-packages/jupyter_contrib_nbextensions/nbextensions/scratchpad/demo.gif -> /Users/jordanaaoliveira/Library/Jupyter/nbextensions/scratchpad/demo.gif\r\n",
      "\u001b[32m[I 14:51:32 InstallContribNbextensionsApp]\u001b[m - Validating: \u001b[32mOK\u001b[0m\r\n",
      "\u001b[32m[I 14:51:32 InstallContribNbextensionsApp]\u001b[m Installing /Users/jordanaaoliveira/opt/anaconda3/lib/python3.9/site-packages/jupyter_contrib_nbextensions/nbextensions/toc2 -> toc2\r\n",
      "\u001b[32m[I 14:51:32 InstallContribNbextensionsApp]\u001b[m Making directory: /Users/jordanaaoliveira/Library/Jupyter/nbextensions/toc2/\r\n",
      "\u001b[32m[I 14:51:32 InstallContribNbextensionsApp]\u001b[m Copying: /Users/jordanaaoliveira/opt/anaconda3/lib/python3.9/site-packages/jupyter_contrib_nbextensions/nbextensions/toc2/toc2.yaml -> /Users/jordanaaoliveira/Library/Jupyter/nbextensions/toc2/toc2.yaml\r\n",
      "\u001b[32m[I 14:51:32 InstallContribNbextensionsApp]\u001b[m Copying: /Users/jordanaaoliveira/opt/anaconda3/lib/python3.9/site-packages/jupyter_contrib_nbextensions/nbextensions/toc2/icon.png -> /Users/jordanaaoliveira/Library/Jupyter/nbextensions/toc2/icon.png\r\n",
      "\u001b[32m[I 14:51:32 InstallContribNbextensionsApp]\u001b[m Copying: /Users/jordanaaoliveira/opt/anaconda3/lib/python3.9/site-packages/jupyter_contrib_nbextensions/nbextensions/toc2/demo_dark.png -> /Users/jordanaaoliveira/Library/Jupyter/nbextensions/toc2/demo_dark.png\r\n",
      "\u001b[32m[I 14:51:32 InstallContribNbextensionsApp]\u001b[m Copying: /Users/jordanaaoliveira/opt/anaconda3/lib/python3.9/site-packages/jupyter_contrib_nbextensions/nbextensions/toc2/main.css -> /Users/jordanaaoliveira/Library/Jupyter/nbextensions/toc2/main.css\r\n",
      "\u001b[32m[I 14:51:32 InstallContribNbextensionsApp]\u001b[m Copying: /Users/jordanaaoliveira/opt/anaconda3/lib/python3.9/site-packages/jupyter_contrib_nbextensions/nbextensions/toc2/README.md -> /Users/jordanaaoliveira/Library/Jupyter/nbextensions/toc2/README.md\r\n",
      "\u001b[32m[I 14:51:32 InstallContribNbextensionsApp]\u001b[m Copying: /Users/jordanaaoliveira/opt/anaconda3/lib/python3.9/site-packages/jupyter_contrib_nbextensions/nbextensions/toc2/main.js -> /Users/jordanaaoliveira/Library/Jupyter/nbextensions/toc2/main.js\r\n",
      "\u001b[32m[I 14:51:32 InstallContribNbextensionsApp]\u001b[m Copying: /Users/jordanaaoliveira/opt/anaconda3/lib/python3.9/site-packages/jupyter_contrib_nbextensions/nbextensions/toc2/demo3.gif -> /Users/jordanaaoliveira/Library/Jupyter/nbextensions/toc2/demo3.gif\r\n",
      "\u001b[32m[I 14:51:32 InstallContribNbextensionsApp]\u001b[m Copying: /Users/jordanaaoliveira/opt/anaconda3/lib/python3.9/site-packages/jupyter_contrib_nbextensions/nbextensions/toc2/demo2.gif -> /Users/jordanaaoliveira/Library/Jupyter/nbextensions/toc2/demo2.gif\r\n",
      "\u001b[32m[I 14:51:32 InstallContribNbextensionsApp]\u001b[m Copying: /Users/jordanaaoliveira/opt/anaconda3/lib/python3.9/site-packages/jupyter_contrib_nbextensions/nbextensions/toc2/toc2.js -> /Users/jordanaaoliveira/Library/Jupyter/nbextensions/toc2/toc2.js\r\n",
      "\u001b[32m[I 14:51:32 InstallContribNbextensionsApp]\u001b[m Copying: /Users/jordanaaoliveira/opt/anaconda3/lib/python3.9/site-packages/jupyter_contrib_nbextensions/nbextensions/toc2/demo.gif -> /Users/jordanaaoliveira/Library/Jupyter/nbextensions/toc2/demo.gif\r\n",
      "\u001b[32m[I 14:51:32 InstallContribNbextensionsApp]\u001b[m Copying: /Users/jordanaaoliveira/opt/anaconda3/lib/python3.9/site-packages/jupyter_contrib_nbextensions/nbextensions/toc2/image.png -> /Users/jordanaaoliveira/Library/Jupyter/nbextensions/toc2/image.png\r\n",
      "\u001b[32m[I 14:51:32 InstallContribNbextensionsApp]\u001b[m - Validating: \u001b[32mOK\u001b[0m\r\n",
      "\u001b[32m[I 14:51:32 InstallContribNbextensionsApp]\u001b[m Installing /Users/jordanaaoliveira/opt/anaconda3/lib/python3.9/site-packages/jupyter_contrib_nbextensions/nbextensions/nbTranslate -> nbTranslate\r\n",
      "\u001b[32m[I 14:51:32 InstallContribNbextensionsApp]\u001b[m Making directory: /Users/jordanaaoliveira/Library/Jupyter/nbextensions/nbTranslate/\r\n",
      "\u001b[32m[I 14:51:32 InstallContribNbextensionsApp]\u001b[m Copying: /Users/jordanaaoliveira/opt/anaconda3/lib/python3.9/site-packages/jupyter_contrib_nbextensions/nbextensions/nbTranslate/nbTranslate.yaml -> /Users/jordanaaoliveira/Library/Jupyter/nbextensions/nbTranslate/nbTranslate.yaml\r\n",
      "\u001b[32m[I 14:51:32 InstallContribNbextensionsApp]\u001b[m Copying: /Users/jordanaaoliveira/opt/anaconda3/lib/python3.9/site-packages/jupyter_contrib_nbextensions/nbextensions/nbTranslate/nbTranslate.js -> /Users/jordanaaoliveira/Library/Jupyter/nbextensions/nbTranslate/nbTranslate.js\r\n",
      "\u001b[32m[I 14:51:32 InstallContribNbextensionsApp]\u001b[m Copying: /Users/jordanaaoliveira/opt/anaconda3/lib/python3.9/site-packages/jupyter_contrib_nbextensions/nbextensions/nbTranslate/README.md -> /Users/jordanaaoliveira/Library/Jupyter/nbextensions/nbTranslate/README.md\r\n",
      "\u001b[32m[I 14:51:32 InstallContribNbextensionsApp]\u001b[m Copying: /Users/jordanaaoliveira/opt/anaconda3/lib/python3.9/site-packages/jupyter_contrib_nbextensions/nbextensions/nbTranslate/main.js -> /Users/jordanaaoliveira/Library/Jupyter/nbextensions/nbTranslate/main.js\r\n",
      "\u001b[32m[I 14:51:32 InstallContribNbextensionsApp]\u001b[m Copying: /Users/jordanaaoliveira/opt/anaconda3/lib/python3.9/site-packages/jupyter_contrib_nbextensions/nbextensions/nbTranslate/demo1.gif -> /Users/jordanaaoliveira/Library/Jupyter/nbextensions/nbTranslate/demo1.gif\r\n",
      "\u001b[32m[I 14:51:32 InstallContribNbextensionsApp]\u001b[m Copying: /Users/jordanaaoliveira/opt/anaconda3/lib/python3.9/site-packages/jupyter_contrib_nbextensions/nbextensions/nbTranslate/demo2.gif -> /Users/jordanaaoliveira/Library/Jupyter/nbextensions/nbTranslate/demo2.gif\r\n",
      "\u001b[32m[I 14:51:32 InstallContribNbextensionsApp]\u001b[m Copying: /Users/jordanaaoliveira/opt/anaconda3/lib/python3.9/site-packages/jupyter_contrib_nbextensions/nbextensions/nbTranslate/languages.js -> /Users/jordanaaoliveira/Library/Jupyter/nbextensions/nbTranslate/languages.js\r\n",
      "\u001b[32m[I 14:51:32 InstallContribNbextensionsApp]\u001b[m Copying: /Users/jordanaaoliveira/opt/anaconda3/lib/python3.9/site-packages/jupyter_contrib_nbextensions/nbextensions/nbTranslate/mutils.js -> /Users/jordanaaoliveira/Library/Jupyter/nbextensions/nbTranslate/mutils.js\r\n",
      "\u001b[32m[I 14:51:32 InstallContribNbextensionsApp]\u001b[m - Validating: \u001b[32mOK\u001b[0m\r\n",
      "\u001b[32m[I 14:51:32 InstallContribNbextensionsApp]\u001b[m Installing /Users/jordanaaoliveira/opt/anaconda3/lib/python3.9/site-packages/jupyter_contrib_nbextensions/nbextensions/equation-numbering -> equation-numbering\r\n",
      "\u001b[32m[I 14:51:32 InstallContribNbextensionsApp]\u001b[m Making directory: /Users/jordanaaoliveira/Library/Jupyter/nbextensions/equation-numbering/\r\n",
      "\u001b[32m[I 14:51:32 InstallContribNbextensionsApp]\u001b[m Copying: /Users/jordanaaoliveira/opt/anaconda3/lib/python3.9/site-packages/jupyter_contrib_nbextensions/nbextensions/equation-numbering/icon.png -> /Users/jordanaaoliveira/Library/Jupyter/nbextensions/equation-numbering/icon.png\r\n",
      "\u001b[32m[I 14:51:32 InstallContribNbextensionsApp]\u001b[m Copying: /Users/jordanaaoliveira/opt/anaconda3/lib/python3.9/site-packages/jupyter_contrib_nbextensions/nbextensions/equation-numbering/readme.md -> /Users/jordanaaoliveira/Library/Jupyter/nbextensions/equation-numbering/readme.md\r\n",
      "\u001b[32m[I 14:51:32 InstallContribNbextensionsApp]\u001b[m Copying: /Users/jordanaaoliveira/opt/anaconda3/lib/python3.9/site-packages/jupyter_contrib_nbextensions/nbextensions/equation-numbering/main.js -> /Users/jordanaaoliveira/Library/Jupyter/nbextensions/equation-numbering/main.js\r\n",
      "\u001b[32m[I 14:51:32 InstallContribNbextensionsApp]\u001b[m Copying: /Users/jordanaaoliveira/opt/anaconda3/lib/python3.9/site-packages/jupyter_contrib_nbextensions/nbextensions/equation-numbering/info.yaml -> /Users/jordanaaoliveira/Library/Jupyter/nbextensions/equation-numbering/info.yaml\r\n",
      "\u001b[32m[I 14:51:32 InstallContribNbextensionsApp]\u001b[m Copying: /Users/jordanaaoliveira/opt/anaconda3/lib/python3.9/site-packages/jupyter_contrib_nbextensions/nbextensions/equation-numbering/button.png -> /Users/jordanaaoliveira/Library/Jupyter/nbextensions/equation-numbering/button.png\r\n",
      "\u001b[32m[I 14:51:32 InstallContribNbextensionsApp]\u001b[m - Validating: \u001b[32mOK\u001b[0m\r\n",
      "\u001b[32m[I 14:51:32 InstallContribNbextensionsApp]\u001b[m Installing /Users/jordanaaoliveira/opt/anaconda3/lib/python3.9/site-packages/jupyter_contrib_nbextensions/nbextensions/navigation-hotkeys -> navigation-hotkeys\r\n",
      "\u001b[32m[I 14:51:32 InstallContribNbextensionsApp]\u001b[m Making directory: /Users/jordanaaoliveira/Library/Jupyter/nbextensions/navigation-hotkeys/\r\n",
      "\u001b[32m[I 14:51:32 InstallContribNbextensionsApp]\u001b[m Copying: /Users/jordanaaoliveira/opt/anaconda3/lib/python3.9/site-packages/jupyter_contrib_nbextensions/nbextensions/navigation-hotkeys/icon.png -> /Users/jordanaaoliveira/Library/Jupyter/nbextensions/navigation-hotkeys/icon.png\r\n",
      "\u001b[32m[I 14:51:32 InstallContribNbextensionsApp]\u001b[m Copying: /Users/jordanaaoliveira/opt/anaconda3/lib/python3.9/site-packages/jupyter_contrib_nbextensions/nbextensions/navigation-hotkeys/readme.md -> /Users/jordanaaoliveira/Library/Jupyter/nbextensions/navigation-hotkeys/readme.md\r\n",
      "\u001b[32m[I 14:51:32 InstallContribNbextensionsApp]\u001b[m Copying: /Users/jordanaaoliveira/opt/anaconda3/lib/python3.9/site-packages/jupyter_contrib_nbextensions/nbextensions/navigation-hotkeys/main.js -> /Users/jordanaaoliveira/Library/Jupyter/nbextensions/navigation-hotkeys/main.js\r\n",
      "\u001b[32m[I 14:51:32 InstallContribNbextensionsApp]\u001b[m Copying: /Users/jordanaaoliveira/opt/anaconda3/lib/python3.9/site-packages/jupyter_contrib_nbextensions/nbextensions/navigation-hotkeys/hotkeys.yaml -> /Users/jordanaaoliveira/Library/Jupyter/nbextensions/navigation-hotkeys/hotkeys.yaml\r\n",
      "\u001b[32m[I 14:51:32 InstallContribNbextensionsApp]\u001b[m - Validating: \u001b[32mOK\u001b[0m\r\n",
      "\u001b[32m[I 14:51:32 InstallContribNbextensionsApp]\u001b[m Installing /Users/jordanaaoliveira/opt/anaconda3/lib/python3.9/site-packages/jupyter_contrib_nbextensions/nbextensions/snippets_menu -> snippets_menu\r\n",
      "\u001b[32m[I 14:51:32 InstallContribNbextensionsApp]\u001b[m Making directory: /Users/jordanaaoliveira/Library/Jupyter/nbextensions/snippets_menu/\r\n"
     ]
    },
    {
     "name": "stdout",
     "output_type": "stream",
     "text": [
      "\u001b[32m[I 14:51:32 InstallContribNbextensionsApp]\u001b[m Copying: /Users/jordanaaoliveira/opt/anaconda3/lib/python3.9/site-packages/jupyter_contrib_nbextensions/nbextensions/snippets_menu/snippets_menu.css -> /Users/jordanaaoliveira/Library/Jupyter/nbextensions/snippets_menu/snippets_menu.css\n",
      "\u001b[32m[I 14:51:32 InstallContribNbextensionsApp]\u001b[m Copying: /Users/jordanaaoliveira/opt/anaconda3/lib/python3.9/site-packages/jupyter_contrib_nbextensions/nbextensions/snippets_menu/snippets_submenu_python.js -> /Users/jordanaaoliveira/Library/Jupyter/nbextensions/snippets_menu/snippets_submenu_python.js\n",
      "\u001b[32m[I 14:51:32 InstallContribNbextensionsApp]\u001b[m Copying: /Users/jordanaaoliveira/opt/anaconda3/lib/python3.9/site-packages/jupyter_contrib_nbextensions/nbextensions/snippets_menu/config.yaml -> /Users/jordanaaoliveira/Library/Jupyter/nbextensions/snippets_menu/config.yaml\n",
      "\u001b[32m[I 14:51:32 InstallContribNbextensionsApp]\u001b[m Copying: /Users/jordanaaoliveira/opt/anaconda3/lib/python3.9/site-packages/jupyter_contrib_nbextensions/nbextensions/snippets_menu/readme.md -> /Users/jordanaaoliveira/Library/Jupyter/nbextensions/snippets_menu/readme.md\n",
      "\u001b[32m[I 14:51:32 InstallContribNbextensionsApp]\u001b[m Copying: /Users/jordanaaoliveira/opt/anaconda3/lib/python3.9/site-packages/jupyter_contrib_nbextensions/nbextensions/snippets_menu/main.js -> /Users/jordanaaoliveira/Library/Jupyter/nbextensions/snippets_menu/main.js\n",
      "\u001b[32m[I 14:51:32 InstallContribNbextensionsApp]\u001b[m Copying: /Users/jordanaaoliveira/opt/anaconda3/lib/python3.9/site-packages/jupyter_contrib_nbextensions/nbextensions/snippets_menu/snippets_submenu_markdown.js -> /Users/jordanaaoliveira/Library/Jupyter/nbextensions/snippets_menu/snippets_submenu_markdown.js\n",
      "\u001b[32m[I 14:51:32 InstallContribNbextensionsApp]\u001b[m Copying: /Users/jordanaaoliveira/opt/anaconda3/lib/python3.9/site-packages/jupyter_contrib_nbextensions/nbextensions/snippets_menu/thumbnail.png -> /Users/jordanaaoliveira/Library/Jupyter/nbextensions/snippets_menu/thumbnail.png\n",
      "\u001b[32m[I 14:51:32 InstallContribNbextensionsApp]\u001b[m Copying: /Users/jordanaaoliveira/opt/anaconda3/lib/python3.9/site-packages/jupyter_contrib_nbextensions/nbextensions/snippets_menu/screenshot1.png -> /Users/jordanaaoliveira/Library/Jupyter/nbextensions/snippets_menu/screenshot1.png\n",
      "\u001b[32m[I 14:51:32 InstallContribNbextensionsApp]\u001b[m Copying: /Users/jordanaaoliveira/opt/anaconda3/lib/python3.9/site-packages/jupyter_contrib_nbextensions/nbextensions/snippets_menu/screenshot2.png -> /Users/jordanaaoliveira/Library/Jupyter/nbextensions/snippets_menu/screenshot2.png\n",
      "\u001b[32m[I 14:51:32 InstallContribNbextensionsApp]\u001b[m Copying: /Users/jordanaaoliveira/opt/anaconda3/lib/python3.9/site-packages/jupyter_contrib_nbextensions/nbextensions/snippets_menu/screenshot3.png -> /Users/jordanaaoliveira/Library/Jupyter/nbextensions/snippets_menu/screenshot3.png\n",
      "\u001b[32m[I 14:51:32 InstallContribNbextensionsApp]\u001b[m Copying: /Users/jordanaaoliveira/opt/anaconda3/lib/python3.9/site-packages/jupyter_contrib_nbextensions/nbextensions/snippets_menu/examples_for_custom.js -> /Users/jordanaaoliveira/Library/Jupyter/nbextensions/snippets_menu/examples_for_custom.js\n",
      "\u001b[32m[I 14:51:32 InstallContribNbextensionsApp]\u001b[m Making directory: /Users/jordanaaoliveira/Library/Jupyter/nbextensions/snippets_menu/snippets_submenus_python\n",
      "\u001b[32m[I 14:51:32 InstallContribNbextensionsApp]\u001b[m Copying: /Users/jordanaaoliveira/opt/anaconda3/lib/python3.9/site-packages/jupyter_contrib_nbextensions/nbextensions/snippets_menu/snippets_submenus_python/numpy_ufuncs.js -> /Users/jordanaaoliveira/Library/Jupyter/nbextensions/snippets_menu/snippets_submenus_python/numpy_ufuncs.js\n",
      "\u001b[32m[I 14:51:32 InstallContribNbextensionsApp]\u001b[m Copying: /Users/jordanaaoliveira/opt/anaconda3/lib/python3.9/site-packages/jupyter_contrib_nbextensions/nbextensions/snippets_menu/snippets_submenus_python/numba.js -> /Users/jordanaaoliveira/Library/Jupyter/nbextensions/snippets_menu/snippets_submenus_python/numba.js\n",
      "\u001b[32m[I 14:51:32 InstallContribNbextensionsApp]\u001b[m Copying: /Users/jordanaaoliveira/opt/anaconda3/lib/python3.9/site-packages/jupyter_contrib_nbextensions/nbextensions/snippets_menu/snippets_submenus_python/sympy_assumptions.js -> /Users/jordanaaoliveira/Library/Jupyter/nbextensions/snippets_menu/snippets_submenus_python/sympy_assumptions.js\n",
      "\u001b[32m[I 14:51:32 InstallContribNbextensionsApp]\u001b[m Copying: /Users/jordanaaoliveira/opt/anaconda3/lib/python3.9/site-packages/jupyter_contrib_nbextensions/nbextensions/snippets_menu/snippets_submenus_python/sympy.js -> /Users/jordanaaoliveira/Library/Jupyter/nbextensions/snippets_menu/snippets_submenus_python/sympy.js\n",
      "\u001b[32m[I 14:51:32 InstallContribNbextensionsApp]\u001b[m Copying: /Users/jordanaaoliveira/opt/anaconda3/lib/python3.9/site-packages/jupyter_contrib_nbextensions/nbextensions/snippets_menu/snippets_submenus_python/numpy.js -> /Users/jordanaaoliveira/Library/Jupyter/nbextensions/snippets_menu/snippets_submenus_python/numpy.js\n",
      "\u001b[32m[I 14:51:32 InstallContribNbextensionsApp]\u001b[m Copying: /Users/jordanaaoliveira/opt/anaconda3/lib/python3.9/site-packages/jupyter_contrib_nbextensions/nbextensions/snippets_menu/snippets_submenus_python/astropy.js -> /Users/jordanaaoliveira/Library/Jupyter/nbextensions/snippets_menu/snippets_submenus_python/astropy.js\n",
      "\u001b[32m[I 14:51:32 InstallContribNbextensionsApp]\u001b[m Copying: /Users/jordanaaoliveira/opt/anaconda3/lib/python3.9/site-packages/jupyter_contrib_nbextensions/nbextensions/snippets_menu/snippets_submenus_python/pandas.js -> /Users/jordanaaoliveira/Library/Jupyter/nbextensions/snippets_menu/snippets_submenus_python/pandas.js\n",
      "\u001b[32m[I 14:51:32 InstallContribNbextensionsApp]\u001b[m Copying: /Users/jordanaaoliveira/opt/anaconda3/lib/python3.9/site-packages/jupyter_contrib_nbextensions/nbextensions/snippets_menu/snippets_submenus_python/numpy_polynomial.js -> /Users/jordanaaoliveira/Library/Jupyter/nbextensions/snippets_menu/snippets_submenus_python/numpy_polynomial.js\n",
      "\u001b[32m[I 14:51:32 InstallContribNbextensionsApp]\u001b[m Copying: /Users/jordanaaoliveira/opt/anaconda3/lib/python3.9/site-packages/jupyter_contrib_nbextensions/nbextensions/snippets_menu/snippets_submenus_python/scipy_constants.js -> /Users/jordanaaoliveira/Library/Jupyter/nbextensions/snippets_menu/snippets_submenus_python/scipy_constants.js\n",
      "\u001b[32m[I 14:51:32 InstallContribNbextensionsApp]\u001b[m Copying: /Users/jordanaaoliveira/opt/anaconda3/lib/python3.9/site-packages/jupyter_contrib_nbextensions/nbextensions/snippets_menu/snippets_submenus_python/matplotlib.js -> /Users/jordanaaoliveira/Library/Jupyter/nbextensions/snippets_menu/snippets_submenus_python/matplotlib.js\n",
      "\u001b[32m[I 14:51:32 InstallContribNbextensionsApp]\u001b[m Copying: /Users/jordanaaoliveira/opt/anaconda3/lib/python3.9/site-packages/jupyter_contrib_nbextensions/nbextensions/snippets_menu/snippets_submenus_python/sympy_functions.js -> /Users/jordanaaoliveira/Library/Jupyter/nbextensions/snippets_menu/snippets_submenus_python/sympy_functions.js\n",
      "\u001b[32m[I 14:51:32 InstallContribNbextensionsApp]\u001b[m Copying: /Users/jordanaaoliveira/opt/anaconda3/lib/python3.9/site-packages/jupyter_contrib_nbextensions/nbextensions/snippets_menu/snippets_submenus_python/h5py.js -> /Users/jordanaaoliveira/Library/Jupyter/nbextensions/snippets_menu/snippets_submenus_python/h5py.js\n",
      "\u001b[32m[I 14:51:32 InstallContribNbextensionsApp]\u001b[m Copying: /Users/jordanaaoliveira/opt/anaconda3/lib/python3.9/site-packages/jupyter_contrib_nbextensions/nbextensions/snippets_menu/snippets_submenus_python/scipy_special.js -> /Users/jordanaaoliveira/Library/Jupyter/nbextensions/snippets_menu/snippets_submenus_python/scipy_special.js\n",
      "\u001b[32m[I 14:51:32 InstallContribNbextensionsApp]\u001b[m Copying: /Users/jordanaaoliveira/opt/anaconda3/lib/python3.9/site-packages/jupyter_contrib_nbextensions/nbextensions/snippets_menu/snippets_submenus_python/python_regex.js -> /Users/jordanaaoliveira/Library/Jupyter/nbextensions/snippets_menu/snippets_submenus_python/python_regex.js\n",
      "\u001b[32m[I 14:51:32 InstallContribNbextensionsApp]\u001b[m Copying: /Users/jordanaaoliveira/opt/anaconda3/lib/python3.9/site-packages/jupyter_contrib_nbextensions/nbextensions/snippets_menu/snippets_submenus_python/python.js -> /Users/jordanaaoliveira/Library/Jupyter/nbextensions/snippets_menu/snippets_submenus_python/python.js\n",
      "\u001b[32m[I 14:51:32 InstallContribNbextensionsApp]\u001b[m Copying: /Users/jordanaaoliveira/opt/anaconda3/lib/python3.9/site-packages/jupyter_contrib_nbextensions/nbextensions/snippets_menu/snippets_submenus_python/scipy.js -> /Users/jordanaaoliveira/Library/Jupyter/nbextensions/snippets_menu/snippets_submenus_python/scipy.js\n",
      "\u001b[32m[I 14:51:32 InstallContribNbextensionsApp]\u001b[m - Validating: \u001b[32mOK\u001b[0m\n",
      "\u001b[32m[I 14:51:32 InstallContribNbextensionsApp]\u001b[m Installing /Users/jordanaaoliveira/opt/anaconda3/lib/python3.9/site-packages/jupyter_contrib_nbextensions/nbextensions/printview -> printview\n",
      "\u001b[32m[I 14:51:32 InstallContribNbextensionsApp]\u001b[m Making directory: /Users/jordanaaoliveira/Library/Jupyter/nbextensions/printview/\n",
      "\u001b[32m[I 14:51:32 InstallContribNbextensionsApp]\u001b[m Copying: /Users/jordanaaoliveira/opt/anaconda3/lib/python3.9/site-packages/jupyter_contrib_nbextensions/nbextensions/printview/icon.png -> /Users/jordanaaoliveira/Library/Jupyter/nbextensions/printview/icon.png\n",
      "\u001b[32m[I 14:51:32 InstallContribNbextensionsApp]\u001b[m Copying: /Users/jordanaaoliveira/opt/anaconda3/lib/python3.9/site-packages/jupyter_contrib_nbextensions/nbextensions/printview/printview-button.png -> /Users/jordanaaoliveira/Library/Jupyter/nbextensions/printview/printview-button.png\n",
      "\u001b[32m[I 14:51:32 InstallContribNbextensionsApp]\u001b[m Copying: /Users/jordanaaoliveira/opt/anaconda3/lib/python3.9/site-packages/jupyter_contrib_nbextensions/nbextensions/printview/readme.md -> /Users/jordanaaoliveira/Library/Jupyter/nbextensions/printview/readme.md\n",
      "\u001b[32m[I 14:51:32 InstallContribNbextensionsApp]\u001b[m Copying: /Users/jordanaaoliveira/opt/anaconda3/lib/python3.9/site-packages/jupyter_contrib_nbextensions/nbextensions/printview/main.js -> /Users/jordanaaoliveira/Library/Jupyter/nbextensions/printview/main.js\n",
      "\u001b[32m[I 14:51:32 InstallContribNbextensionsApp]\u001b[m Copying: /Users/jordanaaoliveira/opt/anaconda3/lib/python3.9/site-packages/jupyter_contrib_nbextensions/nbextensions/printview/printview.yaml -> /Users/jordanaaoliveira/Library/Jupyter/nbextensions/printview/printview.yaml\n",
      "\u001b[32m[I 14:51:32 InstallContribNbextensionsApp]\u001b[m - Validating: \u001b[32mOK\u001b[0m\n",
      "\u001b[32m[I 14:51:32 InstallContribNbextensionsApp]\u001b[m Installing /Users/jordanaaoliveira/opt/anaconda3/lib/python3.9/site-packages/jupyter_contrib_nbextensions/nbextensions/export_embedded -> export_embedded\n",
      "\u001b[32m[I 14:51:32 InstallContribNbextensionsApp]\u001b[m Making directory: /Users/jordanaaoliveira/Library/Jupyter/nbextensions/export_embedded/\n",
      "\u001b[32m[I 14:51:32 InstallContribNbextensionsApp]\u001b[m Copying: /Users/jordanaaoliveira/opt/anaconda3/lib/python3.9/site-packages/jupyter_contrib_nbextensions/nbextensions/export_embedded/export_embedded.yaml -> /Users/jordanaaoliveira/Library/Jupyter/nbextensions/export_embedded/export_embedded.yaml\n",
      "\u001b[32m[I 14:51:32 InstallContribNbextensionsApp]\u001b[m Copying: /Users/jordanaaoliveira/opt/anaconda3/lib/python3.9/site-packages/jupyter_contrib_nbextensions/nbextensions/export_embedded/icon.png -> /Users/jordanaaoliveira/Library/Jupyter/nbextensions/export_embedded/icon.png\n",
      "\u001b[32m[I 14:51:32 InstallContribNbextensionsApp]\u001b[m Copying: /Users/jordanaaoliveira/opt/anaconda3/lib/python3.9/site-packages/jupyter_contrib_nbextensions/nbextensions/export_embedded/readme.md -> /Users/jordanaaoliveira/Library/Jupyter/nbextensions/export_embedded/readme.md\n",
      "\u001b[32m[I 14:51:32 InstallContribNbextensionsApp]\u001b[m Copying: /Users/jordanaaoliveira/opt/anaconda3/lib/python3.9/site-packages/jupyter_contrib_nbextensions/nbextensions/export_embedded/main.js -> /Users/jordanaaoliveira/Library/Jupyter/nbextensions/export_embedded/main.js\n",
      "\u001b[32m[I 14:51:32 InstallContribNbextensionsApp]\u001b[m - Validating: \u001b[32mOK\u001b[0m\n",
      "\u001b[32m[I 14:51:32 InstallContribNbextensionsApp]\u001b[m Installing /Users/jordanaaoliveira/opt/anaconda3/lib/python3.9/site-packages/jupyter_contrib_nbextensions/nbextensions/autoscroll -> autoscroll\n",
      "\u001b[32m[I 14:51:32 InstallContribNbextensionsApp]\u001b[m Making directory: /Users/jordanaaoliveira/Library/Jupyter/nbextensions/autoscroll/\n",
      "\u001b[32m[I 14:51:32 InstallContribNbextensionsApp]\u001b[m Copying: /Users/jordanaaoliveira/opt/anaconda3/lib/python3.9/site-packages/jupyter_contrib_nbextensions/nbextensions/autoscroll/icon.png -> /Users/jordanaaoliveira/Library/Jupyter/nbextensions/autoscroll/icon.png\n",
      "\u001b[32m[I 14:51:32 InstallContribNbextensionsApp]\u001b[m Copying: /Users/jordanaaoliveira/opt/anaconda3/lib/python3.9/site-packages/jupyter_contrib_nbextensions/nbextensions/autoscroll/autoscroll.yaml -> /Users/jordanaaoliveira/Library/Jupyter/nbextensions/autoscroll/autoscroll.yaml\n",
      "\u001b[32m[I 14:51:32 InstallContribNbextensionsApp]\u001b[m Copying: /Users/jordanaaoliveira/opt/anaconda3/lib/python3.9/site-packages/jupyter_contrib_nbextensions/nbextensions/autoscroll/README.md -> /Users/jordanaaoliveira/Library/Jupyter/nbextensions/autoscroll/README.md\n",
      "\u001b[32m[I 14:51:32 InstallContribNbextensionsApp]\u001b[m Copying: /Users/jordanaaoliveira/opt/anaconda3/lib/python3.9/site-packages/jupyter_contrib_nbextensions/nbextensions/autoscroll/main.js -> /Users/jordanaaoliveira/Library/Jupyter/nbextensions/autoscroll/main.js\n",
      "\u001b[32m[I 14:51:32 InstallContribNbextensionsApp]\u001b[m - Validating: \u001b[32mOK\u001b[0m\n",
      "\u001b[32m[I 14:51:32 InstallContribNbextensionsApp]\u001b[m Installing /Users/jordanaaoliveira/opt/anaconda3/lib/python3.9/site-packages/jupyter_contrib_nbextensions/nbextensions/hide_input -> hide_input\n",
      "\u001b[32m[I 14:51:32 InstallContribNbextensionsApp]\u001b[m Making directory: /Users/jordanaaoliveira/Library/Jupyter/nbextensions/hide_input/\n",
      "\u001b[32m[I 14:51:32 InstallContribNbextensionsApp]\u001b[m Copying: /Users/jordanaaoliveira/opt/anaconda3/lib/python3.9/site-packages/jupyter_contrib_nbextensions/nbextensions/hide_input/icon.png -> /Users/jordanaaoliveira/Library/Jupyter/nbextensions/hide_input/icon.png\n",
      "\u001b[32m[I 14:51:32 InstallContribNbextensionsApp]\u001b[m Copying: /Users/jordanaaoliveira/opt/anaconda3/lib/python3.9/site-packages/jupyter_contrib_nbextensions/nbextensions/hide_input/readme.md -> /Users/jordanaaoliveira/Library/Jupyter/nbextensions/hide_input/readme.md\n",
      "\u001b[32m[I 14:51:32 InstallContribNbextensionsApp]\u001b[m Copying: /Users/jordanaaoliveira/opt/anaconda3/lib/python3.9/site-packages/jupyter_contrib_nbextensions/nbextensions/hide_input/main.js -> /Users/jordanaaoliveira/Library/Jupyter/nbextensions/hide_input/main.js\n",
      "\u001b[32m[I 14:51:32 InstallContribNbextensionsApp]\u001b[m Copying: /Users/jordanaaoliveira/opt/anaconda3/lib/python3.9/site-packages/jupyter_contrib_nbextensions/nbextensions/hide_input/hide-input.yaml -> /Users/jordanaaoliveira/Library/Jupyter/nbextensions/hide_input/hide-input.yaml\n",
      "\u001b[32m[I 14:51:32 InstallContribNbextensionsApp]\u001b[m - Validating: \u001b[32mOK\u001b[0m\n",
      "\u001b[32m[I 14:51:32 InstallContribNbextensionsApp]\u001b[m Installing /Users/jordanaaoliveira/opt/anaconda3/lib/python3.9/site-packages/jupyter_contrib_nbextensions/nbextensions/hide_input_all -> hide_input_all\n",
      "\u001b[32m[I 14:51:32 InstallContribNbextensionsApp]\u001b[m Making directory: /Users/jordanaaoliveira/Library/Jupyter/nbextensions/hide_input_all/\n",
      "\u001b[32m[I 14:51:32 InstallContribNbextensionsApp]\u001b[m Copying: /Users/jordanaaoliveira/opt/anaconda3/lib/python3.9/site-packages/jupyter_contrib_nbextensions/nbextensions/hide_input_all/icon.png -> /Users/jordanaaoliveira/Library/Jupyter/nbextensions/hide_input_all/icon.png\n",
      "\u001b[32m[I 14:51:32 InstallContribNbextensionsApp]\u001b[m Copying: /Users/jordanaaoliveira/opt/anaconda3/lib/python3.9/site-packages/jupyter_contrib_nbextensions/nbextensions/hide_input_all/hide_input_all.yaml -> /Users/jordanaaoliveira/Library/Jupyter/nbextensions/hide_input_all/hide_input_all.yaml\n",
      "\u001b[32m[I 14:51:32 InstallContribNbextensionsApp]\u001b[m Copying: /Users/jordanaaoliveira/opt/anaconda3/lib/python3.9/site-packages/jupyter_contrib_nbextensions/nbextensions/hide_input_all/hide_input_all_show.png -> /Users/jordanaaoliveira/Library/Jupyter/nbextensions/hide_input_all/hide_input_all_show.png\n",
      "\u001b[32m[I 14:51:32 InstallContribNbextensionsApp]\u001b[m Copying: /Users/jordanaaoliveira/opt/anaconda3/lib/python3.9/site-packages/jupyter_contrib_nbextensions/nbextensions/hide_input_all/readme.md -> /Users/jordanaaoliveira/Library/Jupyter/nbextensions/hide_input_all/readme.md\n",
      "\u001b[32m[I 14:51:32 InstallContribNbextensionsApp]\u001b[m Copying: /Users/jordanaaoliveira/opt/anaconda3/lib/python3.9/site-packages/jupyter_contrib_nbextensions/nbextensions/hide_input_all/main.js -> /Users/jordanaaoliveira/Library/Jupyter/nbextensions/hide_input_all/main.js\n",
      "\u001b[32m[I 14:51:32 InstallContribNbextensionsApp]\u001b[m Copying: /Users/jordanaaoliveira/opt/anaconda3/lib/python3.9/site-packages/jupyter_contrib_nbextensions/nbextensions/hide_input_all/hide_input_all_hide.png -> /Users/jordanaaoliveira/Library/Jupyter/nbextensions/hide_input_all/hide_input_all_hide.png\n",
      "\u001b[32m[I 14:51:32 InstallContribNbextensionsApp]\u001b[m - Validating: \u001b[32mOK\u001b[0m\n",
      "\u001b[32m[I 14:51:32 InstallContribNbextensionsApp]\u001b[m Installing /Users/jordanaaoliveira/opt/anaconda3/lib/python3.9/site-packages/jupyter_contrib_nbextensions/nbextensions/keyboard_shortcut_editor -> keyboard_shortcut_editor\n",
      "\u001b[32m[I 14:51:32 InstallContribNbextensionsApp]\u001b[m Making directory: /Users/jordanaaoliveira/Library/Jupyter/nbextensions/keyboard_shortcut_editor/\n",
      "\u001b[32m[I 14:51:32 InstallContribNbextensionsApp]\u001b[m Copying: /Users/jordanaaoliveira/opt/anaconda3/lib/python3.9/site-packages/jupyter_contrib_nbextensions/nbextensions/keyboard_shortcut_editor/keyboard_shortcut_editor.yaml -> /Users/jordanaaoliveira/Library/Jupyter/nbextensions/keyboard_shortcut_editor/keyboard_shortcut_editor.yaml\n",
      "\u001b[32m[I 14:51:32 InstallContribNbextensionsApp]\u001b[m Copying: /Users/jordanaaoliveira/opt/anaconda3/lib/python3.9/site-packages/jupyter_contrib_nbextensions/nbextensions/keyboard_shortcut_editor/icon.png -> /Users/jordanaaoliveira/Library/Jupyter/nbextensions/keyboard_shortcut_editor/icon.png\n",
      "\u001b[32m[I 14:51:32 InstallContribNbextensionsApp]\u001b[m Copying: /Users/jordanaaoliveira/opt/anaconda3/lib/python3.9/site-packages/jupyter_contrib_nbextensions/nbextensions/keyboard_shortcut_editor/readme_comma.png -> /Users/jordanaaoliveira/Library/Jupyter/nbextensions/keyboard_shortcut_editor/readme_comma.png\n",
      "\u001b[32m[I 14:51:32 InstallContribNbextensionsApp]\u001b[m Copying: /Users/jordanaaoliveira/opt/anaconda3/lib/python3.9/site-packages/jupyter_contrib_nbextensions/nbextensions/keyboard_shortcut_editor/readme_shortcut_editor_blank.png -> /Users/jordanaaoliveira/Library/Jupyter/nbextensions/keyboard_shortcut_editor/readme_shortcut_editor_blank.png\n",
      "\u001b[32m[I 14:51:32 InstallContribNbextensionsApp]\u001b[m Copying: /Users/jordanaaoliveira/opt/anaconda3/lib/python3.9/site-packages/jupyter_contrib_nbextensions/nbextensions/keyboard_shortcut_editor/readme_shortcut_editor_success.png -> /Users/jordanaaoliveira/Library/Jupyter/nbextensions/keyboard_shortcut_editor/readme_shortcut_editor_success.png\n",
      "\u001b[32m[I 14:51:32 InstallContribNbextensionsApp]\u001b[m Copying: /Users/jordanaaoliveira/opt/anaconda3/lib/python3.9/site-packages/jupyter_contrib_nbextensions/nbextensions/keyboard_shortcut_editor/main.css -> /Users/jordanaaoliveira/Library/Jupyter/nbextensions/keyboard_shortcut_editor/main.css\n",
      "\u001b[32m[I 14:51:32 InstallContribNbextensionsApp]\u001b[m Copying: /Users/jordanaaoliveira/opt/anaconda3/lib/python3.9/site-packages/jupyter_contrib_nbextensions/nbextensions/keyboard_shortcut_editor/README.md -> /Users/jordanaaoliveira/Library/Jupyter/nbextensions/keyboard_shortcut_editor/README.md\n",
      "\u001b[32m[I 14:51:32 InstallContribNbextensionsApp]\u001b[m Copying: /Users/jordanaaoliveira/opt/anaconda3/lib/python3.9/site-packages/jupyter_contrib_nbextensions/nbextensions/keyboard_shortcut_editor/readme_reset_disabled.png -> /Users/jordanaaoliveira/Library/Jupyter/nbextensions/keyboard_shortcut_editor/readme_reset_disabled.png\n",
      "\u001b[32m[I 14:51:32 InstallContribNbextensionsApp]\u001b[m Copying: /Users/jordanaaoliveira/opt/anaconda3/lib/python3.9/site-packages/jupyter_contrib_nbextensions/nbextensions/keyboard_shortcut_editor/readme_add_new_link.png -> /Users/jordanaaoliveira/Library/Jupyter/nbextensions/keyboard_shortcut_editor/readme_add_new_link.png\n",
      "\u001b[32m[I 14:51:32 InstallContribNbextensionsApp]\u001b[m Copying: /Users/jordanaaoliveira/opt/anaconda3/lib/python3.9/site-packages/jupyter_contrib_nbextensions/nbextensions/keyboard_shortcut_editor/main.js -> /Users/jordanaaoliveira/Library/Jupyter/nbextensions/keyboard_shortcut_editor/main.js\n",
      "\u001b[32m[I 14:51:32 InstallContribNbextensionsApp]\u001b[m Copying: /Users/jordanaaoliveira/opt/anaconda3/lib/python3.9/site-packages/jupyter_contrib_nbextensions/nbextensions/keyboard_shortcut_editor/readme_dropdown.png -> /Users/jordanaaoliveira/Library/Jupyter/nbextensions/keyboard_shortcut_editor/readme_dropdown.png\n",
      "\u001b[32m[I 14:51:32 InstallContribNbextensionsApp]\u001b[m Copying: /Users/jordanaaoliveira/opt/anaconda3/lib/python3.9/site-packages/jupyter_contrib_nbextensions/nbextensions/keyboard_shortcut_editor/quickhelp_shim.js -> /Users/jordanaaoliveira/Library/Jupyter/nbextensions/keyboard_shortcut_editor/quickhelp_shim.js\n",
      "\u001b[32m[I 14:51:32 InstallContribNbextensionsApp]\u001b[m Copying: /Users/jordanaaoliveira/opt/anaconda3/lib/python3.9/site-packages/jupyter_contrib_nbextensions/nbextensions/keyboard_shortcut_editor/readme_add_new_select_action.png -> /Users/jordanaaoliveira/Library/Jupyter/nbextensions/keyboard_shortcut_editor/readme_add_new_select_action.png\n",
      "\u001b[32m[I 14:51:32 InstallContribNbextensionsApp]\u001b[m Copying: /Users/jordanaaoliveira/opt/anaconda3/lib/python3.9/site-packages/jupyter_contrib_nbextensions/nbextensions/keyboard_shortcut_editor/kse_components.js -> /Users/jordanaaoliveira/Library/Jupyter/nbextensions/keyboard_shortcut_editor/kse_components.js\n",
      "\u001b[32m[I 14:51:32 InstallContribNbextensionsApp]\u001b[m Copying: /Users/jordanaaoliveira/opt/anaconda3/lib/python3.9/site-packages/jupyter_contrib_nbextensions/nbextensions/keyboard_shortcut_editor/readme_undefined_key.png -> /Users/jordanaaoliveira/Library/Jupyter/nbextensions/keyboard_shortcut_editor/readme_undefined_key.png\n",
      "\u001b[32m[I 14:51:32 InstallContribNbextensionsApp]\u001b[m Copying: /Users/jordanaaoliveira/opt/anaconda3/lib/python3.9/site-packages/jupyter_contrib_nbextensions/nbextensions/keyboard_shortcut_editor/readme_conflict.png -> /Users/jordanaaoliveira/Library/Jupyter/nbextensions/keyboard_shortcut_editor/readme_conflict.png\n",
      "\u001b[32m[I 14:51:32 InstallContribNbextensionsApp]\u001b[m Copying: /Users/jordanaaoliveira/opt/anaconda3/lib/python3.9/site-packages/jupyter_contrib_nbextensions/nbextensions/keyboard_shortcut_editor/readme_menu_item.png -> /Users/jordanaaoliveira/Library/Jupyter/nbextensions/keyboard_shortcut_editor/readme_menu_item.png\n",
      "\u001b[32m[I 14:51:32 InstallContribNbextensionsApp]\u001b[m - Validating: \u001b[32mOK\u001b[0m\n",
      "\u001b[32m[I 14:51:32 InstallContribNbextensionsApp]\u001b[m Installing /Users/jordanaaoliveira/opt/anaconda3/lib/python3.9/site-packages/jupyter_contrib_nbextensions/nbextensions/help_panel -> help_panel\n",
      "\u001b[32m[I 14:51:32 InstallContribNbextensionsApp]\u001b[m Making directory: /Users/jordanaaoliveira/Library/Jupyter/nbextensions/help_panel/\n",
      "\u001b[32m[I 14:51:32 InstallContribNbextensionsApp]\u001b[m Copying: /Users/jordanaaoliveira/opt/anaconda3/lib/python3.9/site-packages/jupyter_contrib_nbextensions/nbextensions/help_panel/icon.png -> /Users/jordanaaoliveira/Library/Jupyter/nbextensions/help_panel/icon.png\n",
      "\u001b[32m[I 14:51:32 InstallContribNbextensionsApp]\u001b[m Copying: /Users/jordanaaoliveira/opt/anaconda3/lib/python3.9/site-packages/jupyter_contrib_nbextensions/nbextensions/help_panel/help_panel_ext.png -> /Users/jordanaaoliveira/Library/Jupyter/nbextensions/help_panel/help_panel_ext.png\n",
      "\u001b[32m[I 14:51:32 InstallContribNbextensionsApp]\u001b[m Copying: /Users/jordanaaoliveira/opt/anaconda3/lib/python3.9/site-packages/jupyter_contrib_nbextensions/nbextensions/help_panel/readme.md -> /Users/jordanaaoliveira/Library/Jupyter/nbextensions/help_panel/readme.md\n",
      "\u001b[32m[I 14:51:32 InstallContribNbextensionsApp]\u001b[m Copying: /Users/jordanaaoliveira/opt/anaconda3/lib/python3.9/site-packages/jupyter_contrib_nbextensions/nbextensions/help_panel/help_panel_ext_fullscreen.png -> /Users/jordanaaoliveira/Library/Jupyter/nbextensions/help_panel/help_panel_ext_fullscreen.png\n",
      "\u001b[32m[I 14:51:32 InstallContribNbextensionsApp]\u001b[m Copying: /Users/jordanaaoliveira/opt/anaconda3/lib/python3.9/site-packages/jupyter_contrib_nbextensions/nbextensions/help_panel/help_panel.yaml -> /Users/jordanaaoliveira/Library/Jupyter/nbextensions/help_panel/help_panel.yaml\n",
      "\u001b[32m[I 14:51:32 InstallContribNbextensionsApp]\u001b[m Copying: /Users/jordanaaoliveira/opt/anaconda3/lib/python3.9/site-packages/jupyter_contrib_nbextensions/nbextensions/help_panel/help_panel.css -> /Users/jordanaaoliveira/Library/Jupyter/nbextensions/help_panel/help_panel.css\n",
      "\u001b[32m[I 14:51:32 InstallContribNbextensionsApp]\u001b[m Copying: /Users/jordanaaoliveira/opt/anaconda3/lib/python3.9/site-packages/jupyter_contrib_nbextensions/nbextensions/help_panel/help_panel.js -> /Users/jordanaaoliveira/Library/Jupyter/nbextensions/help_panel/help_panel.js\n",
      "\u001b[32m[I 14:51:32 InstallContribNbextensionsApp]\u001b[m Making directory: /Users/jordanaaoliveira/Library/Jupyter/nbextensions/help_panel/img\n",
      "\u001b[32m[I 14:51:32 InstallContribNbextensionsApp]\u001b[m Copying: /Users/jordanaaoliveira/opt/anaconda3/lib/python3.9/site-packages/jupyter_contrib_nbextensions/nbextensions/help_panel/img/handle-v.png -> /Users/jordanaaoliveira/Library/Jupyter/nbextensions/help_panel/img/handle-v.png\n",
      "\u001b[32m[I 14:51:32 InstallContribNbextensionsApp]\u001b[m - Validating: \u001b[32mOK\u001b[0m\n",
      "\u001b[32m[I 14:51:32 InstallContribNbextensionsApp]\u001b[m Installing /Users/jordanaaoliveira/opt/anaconda3/lib/python3.9/site-packages/jupyter_contrib_nbextensions/nbextensions/move_selected_cells -> move_selected_cells\n",
      "\u001b[32m[I 14:51:32 InstallContribNbextensionsApp]\u001b[m Making directory: /Users/jordanaaoliveira/Library/Jupyter/nbextensions/move_selected_cells/\n",
      "\u001b[32m[I 14:51:32 InstallContribNbextensionsApp]\u001b[m Copying: /Users/jordanaaoliveira/opt/anaconda3/lib/python3.9/site-packages/jupyter_contrib_nbextensions/nbextensions/move_selected_cells/README.md -> /Users/jordanaaoliveira/Library/Jupyter/nbextensions/move_selected_cells/README.md\n",
      "\u001b[32m[I 14:51:32 InstallContribNbextensionsApp]\u001b[m Copying: /Users/jordanaaoliveira/opt/anaconda3/lib/python3.9/site-packages/jupyter_contrib_nbextensions/nbextensions/move_selected_cells/main.js -> /Users/jordanaaoliveira/Library/Jupyter/nbextensions/move_selected_cells/main.js\n",
      "\u001b[32m[I 14:51:32 InstallContribNbextensionsApp]\u001b[m Copying: /Users/jordanaaoliveira/opt/anaconda3/lib/python3.9/site-packages/jupyter_contrib_nbextensions/nbextensions/move_selected_cells/move_selected_cells.yaml -> /Users/jordanaaoliveira/Library/Jupyter/nbextensions/move_selected_cells/move_selected_cells.yaml\n",
      "\u001b[32m[I 14:51:32 InstallContribNbextensionsApp]\u001b[m - Validating: \u001b[32mOK\u001b[0m\n",
      "\u001b[32m[I 14:51:32 InstallContribNbextensionsApp]\u001b[m Installing /Users/jordanaaoliveira/opt/anaconda3/lib/python3.9/site-packages/jupyter_contrib_nbextensions/nbextensions/zenmode -> zenmode\n",
      "\u001b[32m[I 14:51:32 InstallContribNbextensionsApp]\u001b[m Making directory: /Users/jordanaaoliveira/Library/Jupyter/nbextensions/zenmode/\n",
      "\u001b[32m[I 14:51:32 InstallContribNbextensionsApp]\u001b[m Copying: /Users/jordanaaoliveira/opt/anaconda3/lib/python3.9/site-packages/jupyter_contrib_nbextensions/nbextensions/zenmode/main.css -> /Users/jordanaaoliveira/Library/Jupyter/nbextensions/zenmode/main.css\n",
      "\u001b[32m[I 14:51:32 InstallContribNbextensionsApp]\u001b[m Copying: /Users/jordanaaoliveira/opt/anaconda3/lib/python3.9/site-packages/jupyter_contrib_nbextensions/nbextensions/zenmode/README.md -> /Users/jordanaaoliveira/Library/Jupyter/nbextensions/zenmode/README.md\n",
      "\u001b[32m[I 14:51:32 InstallContribNbextensionsApp]\u001b[m Copying: /Users/jordanaaoliveira/opt/anaconda3/lib/python3.9/site-packages/jupyter_contrib_nbextensions/nbextensions/zenmode/main.js -> /Users/jordanaaoliveira/Library/Jupyter/nbextensions/zenmode/main.js\n",
      "\u001b[32m[I 14:51:32 InstallContribNbextensionsApp]\u001b[m Copying: /Users/jordanaaoliveira/opt/anaconda3/lib/python3.9/site-packages/jupyter_contrib_nbextensions/nbextensions/zenmode/zenmode.yaml -> /Users/jordanaaoliveira/Library/Jupyter/nbextensions/zenmode/zenmode.yaml\n"
     ]
    },
    {
     "name": "stdout",
     "output_type": "stream",
     "text": [
      "\u001b[32m[I 14:51:32 InstallContribNbextensionsApp]\u001b[m Making directory: /Users/jordanaaoliveira/Library/Jupyter/nbextensions/zenmode/images\r\n",
      "\u001b[32m[I 14:51:32 InstallContribNbextensionsApp]\u001b[m Copying: /Users/jordanaaoliveira/opt/anaconda3/lib/python3.9/site-packages/jupyter_contrib_nbextensions/nbextensions/zenmode/images/back12.jpg -> /Users/jordanaaoliveira/Library/Jupyter/nbextensions/zenmode/images/back12.jpg\r\n",
      "\u001b[32m[I 14:51:32 InstallContribNbextensionsApp]\u001b[m Copying: /Users/jordanaaoliveira/opt/anaconda3/lib/python3.9/site-packages/jupyter_contrib_nbextensions/nbextensions/zenmode/images/back11.jpg -> /Users/jordanaaoliveira/Library/Jupyter/nbextensions/zenmode/images/back11.jpg\r\n",
      "\u001b[32m[I 14:51:32 InstallContribNbextensionsApp]\u001b[m Copying: /Users/jordanaaoliveira/opt/anaconda3/lib/python3.9/site-packages/jupyter_contrib_nbextensions/nbextensions/zenmode/images/back2.jpg -> /Users/jordanaaoliveira/Library/Jupyter/nbextensions/zenmode/images/back2.jpg\r\n",
      "\u001b[32m[I 14:51:32 InstallContribNbextensionsApp]\u001b[m Copying: /Users/jordanaaoliveira/opt/anaconda3/lib/python3.9/site-packages/jupyter_contrib_nbextensions/nbextensions/zenmode/images/back3.jpg -> /Users/jordanaaoliveira/Library/Jupyter/nbextensions/zenmode/images/back3.jpg\r\n",
      "\u001b[32m[I 14:51:32 InstallContribNbextensionsApp]\u001b[m Copying: /Users/jordanaaoliveira/opt/anaconda3/lib/python3.9/site-packages/jupyter_contrib_nbextensions/nbextensions/zenmode/images/back1.jpg -> /Users/jordanaaoliveira/Library/Jupyter/nbextensions/zenmode/images/back1.jpg\r\n",
      "\u001b[32m[I 14:51:32 InstallContribNbextensionsApp]\u001b[m Copying: /Users/jordanaaoliveira/opt/anaconda3/lib/python3.9/site-packages/jupyter_contrib_nbextensions/nbextensions/zenmode/images/ipynblogo1.png -> /Users/jordanaaoliveira/Library/Jupyter/nbextensions/zenmode/images/ipynblogo1.png\r\n",
      "\u001b[32m[I 14:51:32 InstallContribNbextensionsApp]\u001b[m Copying: /Users/jordanaaoliveira/opt/anaconda3/lib/python3.9/site-packages/jupyter_contrib_nbextensions/nbextensions/zenmode/images/ipynblogo0.png -> /Users/jordanaaoliveira/Library/Jupyter/nbextensions/zenmode/images/ipynblogo0.png\r\n",
      "\u001b[32m[I 14:51:32 InstallContribNbextensionsApp]\u001b[m Copying: /Users/jordanaaoliveira/opt/anaconda3/lib/python3.9/site-packages/jupyter_contrib_nbextensions/nbextensions/zenmode/images/back21.jpg -> /Users/jordanaaoliveira/Library/Jupyter/nbextensions/zenmode/images/back21.jpg\r\n",
      "\u001b[32m[I 14:51:32 InstallContribNbextensionsApp]\u001b[m Copying: /Users/jordanaaoliveira/opt/anaconda3/lib/python3.9/site-packages/jupyter_contrib_nbextensions/nbextensions/zenmode/images/back22.jpg -> /Users/jordanaaoliveira/Library/Jupyter/nbextensions/zenmode/images/back22.jpg\r\n",
      "\u001b[32m[I 14:51:32 InstallContribNbextensionsApp]\u001b[m - Validating: \u001b[32mOK\u001b[0m\r\n",
      "\u001b[32m[I 14:51:32 InstallContribNbextensionsApp]\u001b[m Installing /Users/jordanaaoliveira/opt/anaconda3/lib/python3.9/site-packages/jupyter_contrib_nbextensions/nbextensions/skip-traceback -> skip-traceback\r\n",
      "\u001b[32m[I 14:51:32 InstallContribNbextensionsApp]\u001b[m Making directory: /Users/jordanaaoliveira/Library/Jupyter/nbextensions/skip-traceback/\r\n",
      "\u001b[32m[I 14:51:32 InstallContribNbextensionsApp]\u001b[m Copying: /Users/jordanaaoliveira/opt/anaconda3/lib/python3.9/site-packages/jupyter_contrib_nbextensions/nbextensions/skip-traceback/icon.png -> /Users/jordanaaoliveira/Library/Jupyter/nbextensions/skip-traceback/icon.png\r\n",
      "\u001b[32m[I 14:51:32 InstallContribNbextensionsApp]\u001b[m Copying: /Users/jordanaaoliveira/opt/anaconda3/lib/python3.9/site-packages/jupyter_contrib_nbextensions/nbextensions/skip-traceback/traceback.png -> /Users/jordanaaoliveira/Library/Jupyter/nbextensions/skip-traceback/traceback.png\r\n",
      "\u001b[32m[I 14:51:32 InstallContribNbextensionsApp]\u001b[m Copying: /Users/jordanaaoliveira/opt/anaconda3/lib/python3.9/site-packages/jupyter_contrib_nbextensions/nbextensions/skip-traceback/readme.md -> /Users/jordanaaoliveira/Library/Jupyter/nbextensions/skip-traceback/readme.md\r\n",
      "\u001b[32m[I 14:51:32 InstallContribNbextensionsApp]\u001b[m Copying: /Users/jordanaaoliveira/opt/anaconda3/lib/python3.9/site-packages/jupyter_contrib_nbextensions/nbextensions/skip-traceback/main.js -> /Users/jordanaaoliveira/Library/Jupyter/nbextensions/skip-traceback/main.js\r\n",
      "\u001b[32m[I 14:51:32 InstallContribNbextensionsApp]\u001b[m Copying: /Users/jordanaaoliveira/opt/anaconda3/lib/python3.9/site-packages/jupyter_contrib_nbextensions/nbextensions/skip-traceback/skip-traceback.yaml -> /Users/jordanaaoliveira/Library/Jupyter/nbextensions/skip-traceback/skip-traceback.yaml\r\n",
      "\u001b[32m[I 14:51:32 InstallContribNbextensionsApp]\u001b[m Copying: /Users/jordanaaoliveira/opt/anaconda3/lib/python3.9/site-packages/jupyter_contrib_nbextensions/nbextensions/skip-traceback/skip-traceback.png -> /Users/jordanaaoliveira/Library/Jupyter/nbextensions/skip-traceback/skip-traceback.png\r\n",
      "\u001b[32m[I 14:51:32 InstallContribNbextensionsApp]\u001b[m - Validating: \u001b[32mOK\u001b[0m\r\n",
      "\u001b[32m[I 14:51:32 InstallContribNbextensionsApp]\u001b[m Installing /Users/jordanaaoliveira/opt/anaconda3/lib/python3.9/site-packages/jupyter_contrib_nbextensions/nbextensions/python-markdown -> python-markdown\r\n",
      "\u001b[32m[I 14:51:32 InstallContribNbextensionsApp]\u001b[m Making directory: /Users/jordanaaoliveira/Library/Jupyter/nbextensions/python-markdown/\r\n",
      "\u001b[32m[I 14:51:32 InstallContribNbextensionsApp]\u001b[m Copying: /Users/jordanaaoliveira/opt/anaconda3/lib/python3.9/site-packages/jupyter_contrib_nbextensions/nbextensions/python-markdown/untrusted.png -> /Users/jordanaaoliveira/Library/Jupyter/nbextensions/python-markdown/untrusted.png\r\n",
      "\u001b[32m[I 14:51:32 InstallContribNbextensionsApp]\u001b[m Copying: /Users/jordanaaoliveira/opt/anaconda3/lib/python3.9/site-packages/jupyter_contrib_nbextensions/nbextensions/python-markdown/python-markdown-pre.png -> /Users/jordanaaoliveira/Library/Jupyter/nbextensions/python-markdown/python-markdown-pre.png\r\n",
      "\u001b[32m[I 14:51:32 InstallContribNbextensionsApp]\u001b[m Copying: /Users/jordanaaoliveira/opt/anaconda3/lib/python3.9/site-packages/jupyter_contrib_nbextensions/nbextensions/python-markdown/main.css -> /Users/jordanaaoliveira/Library/Jupyter/nbextensions/python-markdown/main.css\r\n",
      "\u001b[32m[I 14:51:32 InstallContribNbextensionsApp]\u001b[m Copying: /Users/jordanaaoliveira/opt/anaconda3/lib/python3.9/site-packages/jupyter_contrib_nbextensions/nbextensions/python-markdown/readme.md -> /Users/jordanaaoliveira/Library/Jupyter/nbextensions/python-markdown/readme.md\r\n",
      "\u001b[32m[I 14:51:32 InstallContribNbextensionsApp]\u001b[m Copying: /Users/jordanaaoliveira/opt/anaconda3/lib/python3.9/site-packages/jupyter_contrib_nbextensions/nbextensions/python-markdown/main.js -> /Users/jordanaaoliveira/Library/Jupyter/nbextensions/python-markdown/main.js\r\n",
      "\u001b[32m[I 14:51:32 InstallContribNbextensionsApp]\u001b[m Copying: /Users/jordanaaoliveira/opt/anaconda3/lib/python3.9/site-packages/jupyter_contrib_nbextensions/nbextensions/python-markdown/python-markdown.png -> /Users/jordanaaoliveira/Library/Jupyter/nbextensions/python-markdown/python-markdown.png\r\n",
      "\u001b[32m[I 14:51:32 InstallContribNbextensionsApp]\u001b[m Copying: /Users/jordanaaoliveira/opt/anaconda3/lib/python3.9/site-packages/jupyter_contrib_nbextensions/nbextensions/python-markdown/trusted.png -> /Users/jordanaaoliveira/Library/Jupyter/nbextensions/python-markdown/trusted.png\r\n",
      "\u001b[32m[I 14:51:32 InstallContribNbextensionsApp]\u001b[m Copying: /Users/jordanaaoliveira/opt/anaconda3/lib/python3.9/site-packages/jupyter_contrib_nbextensions/nbextensions/python-markdown/python-markdown.yaml -> /Users/jordanaaoliveira/Library/Jupyter/nbextensions/python-markdown/python-markdown.yaml\r\n",
      "\u001b[32m[I 14:51:32 InstallContribNbextensionsApp]\u001b[m Copying: /Users/jordanaaoliveira/opt/anaconda3/lib/python3.9/site-packages/jupyter_contrib_nbextensions/nbextensions/python-markdown/python-markdown-post.png -> /Users/jordanaaoliveira/Library/Jupyter/nbextensions/python-markdown/python-markdown-post.png\r\n",
      "\u001b[32m[I 14:51:32 InstallContribNbextensionsApp]\u001b[m - Validating: \u001b[32mOK\u001b[0m\r\n",
      "\u001b[32m[I 14:51:32 InstallContribNbextensionsApp]\u001b[m Installing /Users/jordanaaoliveira/opt/anaconda3/lib/python3.9/site-packages/jupyter_contrib_nbextensions/nbextensions/codefolding -> codefolding\r\n",
      "\u001b[32m[I 14:51:32 InstallContribNbextensionsApp]\u001b[m Making directory: /Users/jordanaaoliveira/Library/Jupyter/nbextensions/codefolding/\r\n",
      "\u001b[32m[I 14:51:32 InstallContribNbextensionsApp]\u001b[m Copying: /Users/jordanaaoliveira/opt/anaconda3/lib/python3.9/site-packages/jupyter_contrib_nbextensions/nbextensions/codefolding/codefolding_editor.yaml -> /Users/jordanaaoliveira/Library/Jupyter/nbextensions/codefolding/codefolding_editor.yaml\r\n",
      "\u001b[32m[I 14:51:32 InstallContribNbextensionsApp]\u001b[m Copying: /Users/jordanaaoliveira/opt/anaconda3/lib/python3.9/site-packages/jupyter_contrib_nbextensions/nbextensions/codefolding/icon.png -> /Users/jordanaaoliveira/Library/Jupyter/nbextensions/codefolding/icon.png\r\n",
      "\u001b[32m[I 14:51:32 InstallContribNbextensionsApp]\u001b[m Copying: /Users/jordanaaoliveira/opt/anaconda3/lib/python3.9/site-packages/jupyter_contrib_nbextensions/nbextensions/codefolding/codefolding_firstline_folded.png -> /Users/jordanaaoliveira/Library/Jupyter/nbextensions/codefolding/codefolding_firstline_folded.png\r\n",
      "\u001b[32m[I 14:51:32 InstallContribNbextensionsApp]\u001b[m Copying: /Users/jordanaaoliveira/opt/anaconda3/lib/python3.9/site-packages/jupyter_contrib_nbextensions/nbextensions/codefolding/codefolding_indent_folded_2.png -> /Users/jordanaaoliveira/Library/Jupyter/nbextensions/codefolding/codefolding_indent_folded_2.png\r\n",
      "\u001b[32m[I 14:51:32 InstallContribNbextensionsApp]\u001b[m Copying: /Users/jordanaaoliveira/opt/anaconda3/lib/python3.9/site-packages/jupyter_contrib_nbextensions/nbextensions/codefolding/codefolding_indent_folded_1.png -> /Users/jordanaaoliveira/Library/Jupyter/nbextensions/codefolding/codefolding_indent_folded_1.png\r\n",
      "\u001b[32m[I 14:51:32 InstallContribNbextensionsApp]\u001b[m Copying: /Users/jordanaaoliveira/opt/anaconda3/lib/python3.9/site-packages/jupyter_contrib_nbextensions/nbextensions/codefolding/edit.js -> /Users/jordanaaoliveira/Library/Jupyter/nbextensions/codefolding/edit.js\r\n",
      "\u001b[32m[I 14:51:32 InstallContribNbextensionsApp]\u001b[m Copying: /Users/jordanaaoliveira/opt/anaconda3/lib/python3.9/site-packages/jupyter_contrib_nbextensions/nbextensions/codefolding/magic-fold.js -> /Users/jordanaaoliveira/Library/Jupyter/nbextensions/codefolding/magic-fold.js\r\n",
      "\u001b[32m[I 14:51:32 InstallContribNbextensionsApp]\u001b[m Copying: /Users/jordanaaoliveira/opt/anaconda3/lib/python3.9/site-packages/jupyter_contrib_nbextensions/nbextensions/codefolding/firstline-fold.js -> /Users/jordanaaoliveira/Library/Jupyter/nbextensions/codefolding/firstline-fold.js\r\n",
      "\u001b[32m[I 14:51:32 InstallContribNbextensionsApp]\u001b[m Copying: /Users/jordanaaoliveira/opt/anaconda3/lib/python3.9/site-packages/jupyter_contrib_nbextensions/nbextensions/codefolding/codefolding_firstline_unfolded.png -> /Users/jordanaaoliveira/Library/Jupyter/nbextensions/codefolding/codefolding_firstline_unfolded.png\r\n",
      "\u001b[32m[I 14:51:32 InstallContribNbextensionsApp]\u001b[m Copying: /Users/jordanaaoliveira/opt/anaconda3/lib/python3.9/site-packages/jupyter_contrib_nbextensions/nbextensions/codefolding/readme.md -> /Users/jordanaaoliveira/Library/Jupyter/nbextensions/codefolding/readme.md\r\n",
      "\u001b[32m[I 14:51:32 InstallContribNbextensionsApp]\u001b[m Copying: /Users/jordanaaoliveira/opt/anaconda3/lib/python3.9/site-packages/jupyter_contrib_nbextensions/nbextensions/codefolding/main.js -> /Users/jordanaaoliveira/Library/Jupyter/nbextensions/codefolding/main.js\r\n",
      "\u001b[32m[I 14:51:32 InstallContribNbextensionsApp]\u001b[m Copying: /Users/jordanaaoliveira/opt/anaconda3/lib/python3.9/site-packages/jupyter_contrib_nbextensions/nbextensions/codefolding/magic-unfolded.png -> /Users/jordanaaoliveira/Library/Jupyter/nbextensions/codefolding/magic-unfolded.png\r\n",
      "\u001b[32m[I 14:51:32 InstallContribNbextensionsApp]\u001b[m Copying: /Users/jordanaaoliveira/opt/anaconda3/lib/python3.9/site-packages/jupyter_contrib_nbextensions/nbextensions/codefolding/foldgutter.css -> /Users/jordanaaoliveira/Library/Jupyter/nbextensions/codefolding/foldgutter.css\r\n",
      "\u001b[32m[I 14:51:32 InstallContribNbextensionsApp]\u001b[m Copying: /Users/jordanaaoliveira/opt/anaconda3/lib/python3.9/site-packages/jupyter_contrib_nbextensions/nbextensions/codefolding/magic-folded.png -> /Users/jordanaaoliveira/Library/Jupyter/nbextensions/codefolding/magic-folded.png\r\n",
      "\u001b[32m[I 14:51:32 InstallContribNbextensionsApp]\u001b[m Copying: /Users/jordanaaoliveira/opt/anaconda3/lib/python3.9/site-packages/jupyter_contrib_nbextensions/nbextensions/codefolding/codefolding.yaml -> /Users/jordanaaoliveira/Library/Jupyter/nbextensions/codefolding/codefolding.yaml\r\n",
      "\u001b[32m[I 14:51:32 InstallContribNbextensionsApp]\u001b[m Copying: /Users/jordanaaoliveira/opt/anaconda3/lib/python3.9/site-packages/jupyter_contrib_nbextensions/nbextensions/codefolding/codefolding_editor.png -> /Users/jordanaaoliveira/Library/Jupyter/nbextensions/codefolding/codefolding_editor.png\r\n",
      "\u001b[32m[I 14:51:32 InstallContribNbextensionsApp]\u001b[m Copying: /Users/jordanaaoliveira/opt/anaconda3/lib/python3.9/site-packages/jupyter_contrib_nbextensions/nbextensions/codefolding/codefolding_indent_unfolded.png -> /Users/jordanaaoliveira/Library/Jupyter/nbextensions/codefolding/codefolding_indent_unfolded.png\r\n",
      "\u001b[32m[I 14:51:32 InstallContribNbextensionsApp]\u001b[m Copying: /Users/jordanaaoliveira/opt/anaconda3/lib/python3.9/site-packages/jupyter_contrib_nbextensions/nbextensions/codefolding/blockcomment-fold.js -> /Users/jordanaaoliveira/Library/Jupyter/nbextensions/codefolding/blockcomment-fold.js\r\n",
      "\u001b[32m[I 14:51:32 InstallContribNbextensionsApp]\u001b[m - Validating: \u001b[32mOK\u001b[0m\r\n",
      "\u001b[32m[I 14:51:32 InstallContribNbextensionsApp]\u001b[m Installing /Users/jordanaaoliveira/opt/anaconda3/lib/python3.9/site-packages/jupyter_contrib_nbextensions/nbextensions/codefolding -> codefolding\r\n",
      "\u001b[32m[I 14:51:32 InstallContribNbextensionsApp]\u001b[m Up to date: /Users/jordanaaoliveira/Library/Jupyter/nbextensions/codefolding/codefolding_editor.yaml\r\n",
      "\u001b[32m[I 14:51:32 InstallContribNbextensionsApp]\u001b[m Up to date: /Users/jordanaaoliveira/Library/Jupyter/nbextensions/codefolding/icon.png\r\n",
      "\u001b[32m[I 14:51:32 InstallContribNbextensionsApp]\u001b[m Up to date: /Users/jordanaaoliveira/Library/Jupyter/nbextensions/codefolding/codefolding_firstline_folded.png\r\n",
      "\u001b[32m[I 14:51:32 InstallContribNbextensionsApp]\u001b[m Up to date: /Users/jordanaaoliveira/Library/Jupyter/nbextensions/codefolding/codefolding_indent_folded_2.png\r\n",
      "\u001b[32m[I 14:51:32 InstallContribNbextensionsApp]\u001b[m Up to date: /Users/jordanaaoliveira/Library/Jupyter/nbextensions/codefolding/codefolding_indent_folded_1.png\r\n",
      "\u001b[32m[I 14:51:32 InstallContribNbextensionsApp]\u001b[m Up to date: /Users/jordanaaoliveira/Library/Jupyter/nbextensions/codefolding/edit.js\r\n",
      "\u001b[32m[I 14:51:32 InstallContribNbextensionsApp]\u001b[m Up to date: /Users/jordanaaoliveira/Library/Jupyter/nbextensions/codefolding/magic-fold.js\r\n",
      "\u001b[32m[I 14:51:32 InstallContribNbextensionsApp]\u001b[m Up to date: /Users/jordanaaoliveira/Library/Jupyter/nbextensions/codefolding/firstline-fold.js\r\n",
      "\u001b[32m[I 14:51:32 InstallContribNbextensionsApp]\u001b[m Up to date: /Users/jordanaaoliveira/Library/Jupyter/nbextensions/codefolding/codefolding_firstline_unfolded.png\r\n",
      "\u001b[32m[I 14:51:32 InstallContribNbextensionsApp]\u001b[m Up to date: /Users/jordanaaoliveira/Library/Jupyter/nbextensions/codefolding/readme.md\r\n",
      "\u001b[32m[I 14:51:32 InstallContribNbextensionsApp]\u001b[m Up to date: /Users/jordanaaoliveira/Library/Jupyter/nbextensions/codefolding/main.js\r\n",
      "\u001b[32m[I 14:51:32 InstallContribNbextensionsApp]\u001b[m Up to date: /Users/jordanaaoliveira/Library/Jupyter/nbextensions/codefolding/magic-unfolded.png\r\n",
      "\u001b[32m[I 14:51:32 InstallContribNbextensionsApp]\u001b[m Up to date: /Users/jordanaaoliveira/Library/Jupyter/nbextensions/codefolding/foldgutter.css\r\n",
      "\u001b[32m[I 14:51:32 InstallContribNbextensionsApp]\u001b[m Up to date: /Users/jordanaaoliveira/Library/Jupyter/nbextensions/codefolding/magic-folded.png\r\n",
      "\u001b[32m[I 14:51:32 InstallContribNbextensionsApp]\u001b[m Up to date: /Users/jordanaaoliveira/Library/Jupyter/nbextensions/codefolding/codefolding.yaml\r\n",
      "\u001b[32m[I 14:51:32 InstallContribNbextensionsApp]\u001b[m Up to date: /Users/jordanaaoliveira/Library/Jupyter/nbextensions/codefolding/codefolding_editor.png\r\n",
      "\u001b[32m[I 14:51:32 InstallContribNbextensionsApp]\u001b[m Up to date: /Users/jordanaaoliveira/Library/Jupyter/nbextensions/codefolding/codefolding_indent_unfolded.png\r\n",
      "\u001b[32m[I 14:51:32 InstallContribNbextensionsApp]\u001b[m Up to date: /Users/jordanaaoliveira/Library/Jupyter/nbextensions/codefolding/blockcomment-fold.js\r\n",
      "\u001b[32m[I 14:51:32 InstallContribNbextensionsApp]\u001b[m - Validating: \u001b[32mOK\u001b[0m\r\n",
      "\u001b[32m[I 14:51:32 InstallContribNbextensionsApp]\u001b[m Installing /Users/jordanaaoliveira/opt/anaconda3/lib/python3.9/site-packages/jupyter_contrib_nbextensions/nbextensions/collapsible_headings -> collapsible_headings\r\n",
      "\u001b[32m[I 14:51:32 InstallContribNbextensionsApp]\u001b[m Making directory: /Users/jordanaaoliveira/Library/Jupyter/nbextensions/collapsible_headings/\r\n",
      "\u001b[32m[I 14:51:32 InstallContribNbextensionsApp]\u001b[m Copying: /Users/jordanaaoliveira/opt/anaconda3/lib/python3.9/site-packages/jupyter_contrib_nbextensions/nbextensions/collapsible_headings/icon.png -> /Users/jordanaaoliveira/Library/Jupyter/nbextensions/collapsible_headings/icon.png\r\n",
      "\u001b[32m[I 14:51:32 InstallContribNbextensionsApp]\u001b[m Copying: /Users/jordanaaoliveira/opt/anaconda3/lib/python3.9/site-packages/jupyter_contrib_nbextensions/nbextensions/collapsible_headings/screenshot.png -> /Users/jordanaaoliveira/Library/Jupyter/nbextensions/collapsible_headings/screenshot.png\r\n",
      "\u001b[32m[I 14:51:32 InstallContribNbextensionsApp]\u001b[m Copying: /Users/jordanaaoliveira/opt/anaconda3/lib/python3.9/site-packages/jupyter_contrib_nbextensions/nbextensions/collapsible_headings/main.css -> /Users/jordanaaoliveira/Library/Jupyter/nbextensions/collapsible_headings/main.css\r\n",
      "\u001b[32m[I 14:51:32 InstallContribNbextensionsApp]\u001b[m Copying: /Users/jordanaaoliveira/opt/anaconda3/lib/python3.9/site-packages/jupyter_contrib_nbextensions/nbextensions/collapsible_headings/readme.md -> /Users/jordanaaoliveira/Library/Jupyter/nbextensions/collapsible_headings/readme.md\r\n",
      "\u001b[32m[I 14:51:32 InstallContribNbextensionsApp]\u001b[m Copying: /Users/jordanaaoliveira/opt/anaconda3/lib/python3.9/site-packages/jupyter_contrib_nbextensions/nbextensions/collapsible_headings/main.js -> /Users/jordanaaoliveira/Library/Jupyter/nbextensions/collapsible_headings/main.js\r\n",
      "\u001b[32m[I 14:51:32 InstallContribNbextensionsApp]\u001b[m Copying: /Users/jordanaaoliveira/opt/anaconda3/lib/python3.9/site-packages/jupyter_contrib_nbextensions/nbextensions/collapsible_headings/collapsible_headings.yaml -> /Users/jordanaaoliveira/Library/Jupyter/nbextensions/collapsible_headings/collapsible_headings.yaml\r\n",
      "\u001b[32m[I 14:51:32 InstallContribNbextensionsApp]\u001b[m - Validating: \u001b[32mOK\u001b[0m\r\n",
      "\u001b[32m[I 14:51:32 InstallContribNbextensionsApp]\u001b[m Installing /Users/jordanaaoliveira/opt/anaconda3/lib/python3.9/site-packages/jupyter_contrib_nbextensions/nbextensions/exercise -> exercise\r\n",
      "\u001b[32m[I 14:51:32 InstallContribNbextensionsApp]\u001b[m Making directory: /Users/jordanaaoliveira/Library/Jupyter/nbextensions/exercise/\r\n",
      "\u001b[32m[I 14:51:32 InstallContribNbextensionsApp]\u001b[m Copying: /Users/jordanaaoliveira/opt/anaconda3/lib/python3.9/site-packages/jupyter_contrib_nbextensions/nbextensions/exercise/icon.png -> /Users/jordanaaoliveira/Library/Jupyter/nbextensions/exercise/icon.png\r\n",
      "\u001b[32m[I 14:51:32 InstallContribNbextensionsApp]\u001b[m Copying: /Users/jordanaaoliveira/opt/anaconda3/lib/python3.9/site-packages/jupyter_contrib_nbextensions/nbextensions/exercise/history.md -> /Users/jordanaaoliveira/Library/Jupyter/nbextensions/exercise/history.md\r\n",
      "\u001b[32m[I 14:51:32 InstallContribNbextensionsApp]\u001b[m Copying: /Users/jordanaaoliveira/opt/anaconda3/lib/python3.9/site-packages/jupyter_contrib_nbextensions/nbextensions/exercise/main.css -> /Users/jordanaaoliveira/Library/Jupyter/nbextensions/exercise/main.css\r\n",
      "\u001b[32m[I 14:51:32 InstallContribNbextensionsApp]\u001b[m Copying: /Users/jordanaaoliveira/opt/anaconda3/lib/python3.9/site-packages/jupyter_contrib_nbextensions/nbextensions/exercise/image.gif -> /Users/jordanaaoliveira/Library/Jupyter/nbextensions/exercise/image.gif\r\n",
      "\u001b[32m[I 14:51:32 InstallContribNbextensionsApp]\u001b[m Copying: /Users/jordanaaoliveira/opt/anaconda3/lib/python3.9/site-packages/jupyter_contrib_nbextensions/nbextensions/exercise/readme.md -> /Users/jordanaaoliveira/Library/Jupyter/nbextensions/exercise/readme.md\r\n",
      "\u001b[32m[I 14:51:32 InstallContribNbextensionsApp]\u001b[m Copying: /Users/jordanaaoliveira/opt/anaconda3/lib/python3.9/site-packages/jupyter_contrib_nbextensions/nbextensions/exercise/main.js -> /Users/jordanaaoliveira/Library/Jupyter/nbextensions/exercise/main.js\r\n",
      "\u001b[32m[I 14:51:32 InstallContribNbextensionsApp]\u001b[m Copying: /Users/jordanaaoliveira/opt/anaconda3/lib/python3.9/site-packages/jupyter_contrib_nbextensions/nbextensions/exercise/exercise.yaml -> /Users/jordanaaoliveira/Library/Jupyter/nbextensions/exercise/exercise.yaml\r\n",
      "\u001b[32m[I 14:51:32 InstallContribNbextensionsApp]\u001b[m - Validating: \u001b[32mOK\u001b[0m\r\n",
      "\u001b[32m[I 14:51:32 InstallContribNbextensionsApp]\u001b[m Installing /Users/jordanaaoliveira/opt/anaconda3/lib/python3.9/site-packages/jupyter_contrib_nbextensions/nbextensions/codemirror_mode_extensions -> codemirror_mode_extensions\r\n",
      "\u001b[32m[I 14:51:32 InstallContribNbextensionsApp]\u001b[m Making directory: /Users/jordanaaoliveira/Library/Jupyter/nbextensions/codemirror_mode_extensions/\r\n",
      "\u001b[32m[I 14:51:32 InstallContribNbextensionsApp]\u001b[m Copying: /Users/jordanaaoliveira/opt/anaconda3/lib/python3.9/site-packages/jupyter_contrib_nbextensions/nbextensions/codemirror_mode_extensions/codemirror_mode_extensions.yaml -> /Users/jordanaaoliveira/Library/Jupyter/nbextensions/codemirror_mode_extensions/codemirror_mode_extensions.yaml\r\n",
      "\u001b[32m[I 14:51:32 InstallContribNbextensionsApp]\u001b[m Copying: /Users/jordanaaoliveira/opt/anaconda3/lib/python3.9/site-packages/jupyter_contrib_nbextensions/nbextensions/codemirror_mode_extensions/main.js -> /Users/jordanaaoliveira/Library/Jupyter/nbextensions/codemirror_mode_extensions/main.js\r\n",
      "\u001b[32m[I 14:51:32 InstallContribNbextensionsApp]\u001b[m - Validating: \u001b[32mOK\u001b[0m\r\n",
      "\u001b[32m[I 14:51:32 InstallContribNbextensionsApp]\u001b[m Installing /Users/jordanaaoliveira/opt/anaconda3/lib/python3.9/site-packages/jupyter_contrib_nbextensions/nbextensions/ruler -> ruler\r\n",
      "\u001b[32m[I 14:51:32 InstallContribNbextensionsApp]\u001b[m Making directory: /Users/jordanaaoliveira/Library/Jupyter/nbextensions/ruler/\r\n",
      "\u001b[32m[I 14:51:32 InstallContribNbextensionsApp]\u001b[m Copying: /Users/jordanaaoliveira/opt/anaconda3/lib/python3.9/site-packages/jupyter_contrib_nbextensions/nbextensions/ruler/icon.png -> /Users/jordanaaoliveira/Library/Jupyter/nbextensions/ruler/icon.png\r\n",
      "\u001b[32m[I 14:51:32 InstallContribNbextensionsApp]\u001b[m Copying: /Users/jordanaaoliveira/opt/anaconda3/lib/python3.9/site-packages/jupyter_contrib_nbextensions/nbextensions/ruler/edit.js -> /Users/jordanaaoliveira/Library/Jupyter/nbextensions/ruler/edit.js\r\n",
      "\u001b[32m[I 14:51:32 InstallContribNbextensionsApp]\u001b[m Copying: /Users/jordanaaoliveira/opt/anaconda3/lib/python3.9/site-packages/jupyter_contrib_nbextensions/nbextensions/ruler/ruler_editor.yaml -> /Users/jordanaaoliveira/Library/Jupyter/nbextensions/ruler/ruler_editor.yaml\r\n",
      "\u001b[32m[I 14:51:32 InstallContribNbextensionsApp]\u001b[m Copying: /Users/jordanaaoliveira/opt/anaconda3/lib/python3.9/site-packages/jupyter_contrib_nbextensions/nbextensions/ruler/readme.md -> /Users/jordanaaoliveira/Library/Jupyter/nbextensions/ruler/readme.md\r\n",
      "\u001b[32m[I 14:51:32 InstallContribNbextensionsApp]\u001b[m Copying: /Users/jordanaaoliveira/opt/anaconda3/lib/python3.9/site-packages/jupyter_contrib_nbextensions/nbextensions/ruler/main.js -> /Users/jordanaaoliveira/Library/Jupyter/nbextensions/ruler/main.js\r\n",
      "\u001b[32m[I 14:51:32 InstallContribNbextensionsApp]\u001b[m Copying: /Users/jordanaaoliveira/opt/anaconda3/lib/python3.9/site-packages/jupyter_contrib_nbextensions/nbextensions/ruler/ruler.yaml -> /Users/jordanaaoliveira/Library/Jupyter/nbextensions/ruler/ruler.yaml\r\n",
      "\u001b[32m[I 14:51:32 InstallContribNbextensionsApp]\u001b[m - Validating: \u001b[32mOK\u001b[0m\r\n",
      "\u001b[32m[I 14:51:32 InstallContribNbextensionsApp]\u001b[m Installing /Users/jordanaaoliveira/opt/anaconda3/lib/python3.9/site-packages/jupyter_contrib_nbextensions/nbextensions/ruler -> ruler\r\n",
      "\u001b[32m[I 14:51:32 InstallContribNbextensionsApp]\u001b[m Up to date: /Users/jordanaaoliveira/Library/Jupyter/nbextensions/ruler/icon.png\r\n",
      "\u001b[32m[I 14:51:32 InstallContribNbextensionsApp]\u001b[m Up to date: /Users/jordanaaoliveira/Library/Jupyter/nbextensions/ruler/edit.js\r\n",
      "\u001b[32m[I 14:51:32 InstallContribNbextensionsApp]\u001b[m Up to date: /Users/jordanaaoliveira/Library/Jupyter/nbextensions/ruler/ruler_editor.yaml\r\n",
      "\u001b[32m[I 14:51:32 InstallContribNbextensionsApp]\u001b[m Up to date: /Users/jordanaaoliveira/Library/Jupyter/nbextensions/ruler/readme.md\r\n",
      "\u001b[32m[I 14:51:32 InstallContribNbextensionsApp]\u001b[m Up to date: /Users/jordanaaoliveira/Library/Jupyter/nbextensions/ruler/main.js\r\n",
      "\u001b[32m[I 14:51:32 InstallContribNbextensionsApp]\u001b[m Up to date: /Users/jordanaaoliveira/Library/Jupyter/nbextensions/ruler/ruler.yaml\r\n",
      "\u001b[32m[I 14:51:32 InstallContribNbextensionsApp]\u001b[m - Validating: \u001b[32mOK\u001b[0m\r\n",
      "\u001b[32m[I 14:51:32 InstallContribNbextensionsApp]\u001b[m Installing /Users/jordanaaoliveira/opt/anaconda3/lib/python3.9/site-packages/jupyter_contrib_nbextensions/nbextensions/contrib_nbextensions_help_item -> contrib_nbextensions_help_item\r\n",
      "\u001b[32m[I 14:51:32 InstallContribNbextensionsApp]\u001b[m Making directory: /Users/jordanaaoliveira/Library/Jupyter/nbextensions/contrib_nbextensions_help_item/\r\n",
      "\u001b[32m[I 14:51:32 InstallContribNbextensionsApp]\u001b[m Copying: /Users/jordanaaoliveira/opt/anaconda3/lib/python3.9/site-packages/jupyter_contrib_nbextensions/nbextensions/contrib_nbextensions_help_item/README.md -> /Users/jordanaaoliveira/Library/Jupyter/nbextensions/contrib_nbextensions_help_item/README.md\r\n",
      "\u001b[32m[I 14:51:32 InstallContribNbextensionsApp]\u001b[m Copying: /Users/jordanaaoliveira/opt/anaconda3/lib/python3.9/site-packages/jupyter_contrib_nbextensions/nbextensions/contrib_nbextensions_help_item/main.js -> /Users/jordanaaoliveira/Library/Jupyter/nbextensions/contrib_nbextensions_help_item/main.js\r\n",
      "\u001b[32m[I 14:51:32 InstallContribNbextensionsApp]\u001b[m Copying: /Users/jordanaaoliveira/opt/anaconda3/lib/python3.9/site-packages/jupyter_contrib_nbextensions/nbextensions/contrib_nbextensions_help_item/contrib_nbextensions_help_item.yaml -> /Users/jordanaaoliveira/Library/Jupyter/nbextensions/contrib_nbextensions_help_item/contrib_nbextensions_help_item.yaml\r\n",
      "\u001b[32m[I 14:51:32 InstallContribNbextensionsApp]\u001b[m - Validating: \u001b[32mOK\u001b[0m\r\n",
      "\u001b[32m[I 14:51:32 InstallContribNbextensionsApp]\u001b[m Installing /Users/jordanaaoliveira/opt/anaconda3/lib/python3.9/site-packages/jupyter_contrib_nbextensions/nbextensions/datestamper -> datestamper\r\n",
      "\u001b[32m[I 14:51:32 InstallContribNbextensionsApp]\u001b[m Making directory: /Users/jordanaaoliveira/Library/Jupyter/nbextensions/datestamper/\r\n",
      "\u001b[32m[I 14:51:32 InstallContribNbextensionsApp]\u001b[m Copying: /Users/jordanaaoliveira/opt/anaconda3/lib/python3.9/site-packages/jupyter_contrib_nbextensions/nbextensions/datestamper/icon.png -> /Users/jordanaaoliveira/Library/Jupyter/nbextensions/datestamper/icon.png\r\n",
      "\u001b[32m[I 14:51:32 InstallContribNbextensionsApp]\u001b[m Copying: /Users/jordanaaoliveira/opt/anaconda3/lib/python3.9/site-packages/jupyter_contrib_nbextensions/nbextensions/datestamper/main.yaml -> /Users/jordanaaoliveira/Library/Jupyter/nbextensions/datestamper/main.yaml\r\n",
      "\u001b[32m[I 14:51:32 InstallContribNbextensionsApp]\u001b[m Copying: /Users/jordanaaoliveira/opt/anaconda3/lib/python3.9/site-packages/jupyter_contrib_nbextensions/nbextensions/datestamper/readme.md -> /Users/jordanaaoliveira/Library/Jupyter/nbextensions/datestamper/readme.md\r\n",
      "\u001b[32m[I 14:51:32 InstallContribNbextensionsApp]\u001b[m Copying: /Users/jordanaaoliveira/opt/anaconda3/lib/python3.9/site-packages/jupyter_contrib_nbextensions/nbextensions/datestamper/main.js -> /Users/jordanaaoliveira/Library/Jupyter/nbextensions/datestamper/main.js\r\n",
      "\u001b[32m[I 14:51:32 InstallContribNbextensionsApp]\u001b[m - Validating: \u001b[32mOK\u001b[0m\r\n",
      "\u001b[32m[I 14:51:32 InstallContribNbextensionsApp]\u001b[m Installing /Users/jordanaaoliveira/opt/anaconda3/lib/python3.9/site-packages/jupyter_contrib_nbextensions/nbextensions/go_to_current_running_cell -> go_to_current_running_cell\r\n",
      "\u001b[32m[I 14:51:32 InstallContribNbextensionsApp]\u001b[m Making directory: /Users/jordanaaoliveira/Library/Jupyter/nbextensions/go_to_current_running_cell/\r\n",
      "\u001b[32m[I 14:51:32 InstallContribNbextensionsApp]\u001b[m Copying: /Users/jordanaaoliveira/opt/anaconda3/lib/python3.9/site-packages/jupyter_contrib_nbextensions/nbextensions/go_to_current_running_cell/jump_to_cell.gif -> /Users/jordanaaoliveira/Library/Jupyter/nbextensions/go_to_current_running_cell/jump_to_cell.gif\r\n",
      "\u001b[32m[I 14:51:32 InstallContribNbextensionsApp]\u001b[m Copying: /Users/jordanaaoliveira/opt/anaconda3/lib/python3.9/site-packages/jupyter_contrib_nbextensions/nbextensions/go_to_current_running_cell/README.md -> /Users/jordanaaoliveira/Library/Jupyter/nbextensions/go_to_current_running_cell/README.md\r\n",
      "\u001b[32m[I 14:51:32 InstallContribNbextensionsApp]\u001b[m Copying: /Users/jordanaaoliveira/opt/anaconda3/lib/python3.9/site-packages/jupyter_contrib_nbextensions/nbextensions/go_to_current_running_cell/main.js -> /Users/jordanaaoliveira/Library/Jupyter/nbextensions/go_to_current_running_cell/main.js\r\n"
     ]
    },
    {
     "name": "stdout",
     "output_type": "stream",
     "text": [
      "\u001b[32m[I 14:51:32 InstallContribNbextensionsApp]\u001b[m Copying: /Users/jordanaaoliveira/opt/anaconda3/lib/python3.9/site-packages/jupyter_contrib_nbextensions/nbextensions/go_to_current_running_cell/go_to_current_running_cell.yaml -> /Users/jordanaaoliveira/Library/Jupyter/nbextensions/go_to_current_running_cell/go_to_current_running_cell.yaml\r\n",
      "\u001b[32m[I 14:51:32 InstallContribNbextensionsApp]\u001b[m Copying: /Users/jordanaaoliveira/opt/anaconda3/lib/python3.9/site-packages/jupyter_contrib_nbextensions/nbextensions/go_to_current_running_cell/auto_focus.gif -> /Users/jordanaaoliveira/Library/Jupyter/nbextensions/go_to_current_running_cell/auto_focus.gif\r\n",
      "\u001b[32m[I 14:51:32 InstallContribNbextensionsApp]\u001b[m Copying: /Users/jordanaaoliveira/opt/anaconda3/lib/python3.9/site-packages/jupyter_contrib_nbextensions/nbextensions/go_to_current_running_cell/eye.png -> /Users/jordanaaoliveira/Library/Jupyter/nbextensions/go_to_current_running_cell/eye.png\r\n",
      "\u001b[32m[I 14:51:32 InstallContribNbextensionsApp]\u001b[m Copying: /Users/jordanaaoliveira/opt/anaconda3/lib/python3.9/site-packages/jupyter_contrib_nbextensions/nbextensions/go_to_current_running_cell/anchor.png -> /Users/jordanaaoliveira/Library/Jupyter/nbextensions/go_to_current_running_cell/anchor.png\r\n",
      "\u001b[32m[I 14:51:32 InstallContribNbextensionsApp]\u001b[m - Validating: \u001b[32mOK\u001b[0m\r\n",
      "\u001b[32m[I 14:51:32 InstallContribNbextensionsApp]\u001b[m Installing /Users/jordanaaoliveira/opt/anaconda3/lib/python3.9/site-packages/jupyter_contrib_nbextensions/nbextensions/init_cell -> init_cell\r\n",
      "\u001b[32m[I 14:51:32 InstallContribNbextensionsApp]\u001b[m Making directory: /Users/jordanaaoliveira/Library/Jupyter/nbextensions/init_cell/\r\n",
      "\u001b[32m[I 14:51:32 InstallContribNbextensionsApp]\u001b[m Copying: /Users/jordanaaoliveira/opt/anaconda3/lib/python3.9/site-packages/jupyter_contrib_nbextensions/nbextensions/init_cell/init_cell.yaml -> /Users/jordanaaoliveira/Library/Jupyter/nbextensions/init_cell/init_cell.yaml\r\n",
      "\u001b[32m[I 14:51:32 InstallContribNbextensionsApp]\u001b[m Copying: /Users/jordanaaoliveira/opt/anaconda3/lib/python3.9/site-packages/jupyter_contrib_nbextensions/nbextensions/init_cell/icon.png -> /Users/jordanaaoliveira/Library/Jupyter/nbextensions/init_cell/icon.png\r\n",
      "\u001b[32m[I 14:51:32 InstallContribNbextensionsApp]\u001b[m Copying: /Users/jordanaaoliveira/opt/anaconda3/lib/python3.9/site-packages/jupyter_contrib_nbextensions/nbextensions/init_cell/README.md -> /Users/jordanaaoliveira/Library/Jupyter/nbextensions/init_cell/README.md\r\n",
      "\u001b[32m[I 14:51:32 InstallContribNbextensionsApp]\u001b[m Copying: /Users/jordanaaoliveira/opt/anaconda3/lib/python3.9/site-packages/jupyter_contrib_nbextensions/nbextensions/init_cell/main.js -> /Users/jordanaaoliveira/Library/Jupyter/nbextensions/init_cell/main.js\r\n",
      "\u001b[32m[I 14:51:32 InstallContribNbextensionsApp]\u001b[m Copying: /Users/jordanaaoliveira/opt/anaconda3/lib/python3.9/site-packages/jupyter_contrib_nbextensions/nbextensions/init_cell/cell_toolbar_menu.png -> /Users/jordanaaoliveira/Library/Jupyter/nbextensions/init_cell/cell_toolbar_menu.png\r\n",
      "\u001b[32m[I 14:51:32 InstallContribNbextensionsApp]\u001b[m - Validating: \u001b[32mOK\u001b[0m\r\n",
      "\u001b[32m[I 14:51:32 InstallContribNbextensionsApp]\u001b[m Installing /Users/jordanaaoliveira/opt/anaconda3/lib/python3.9/site-packages/jupyter_contrib_nbextensions/nbextensions/limit_output -> limit_output\r\n",
      "\u001b[32m[I 14:51:32 InstallContribNbextensionsApp]\u001b[m Making directory: /Users/jordanaaoliveira/Library/Jupyter/nbextensions/limit_output/\r\n",
      "\u001b[32m[I 14:51:32 InstallContribNbextensionsApp]\u001b[m Copying: /Users/jordanaaoliveira/opt/anaconda3/lib/python3.9/site-packages/jupyter_contrib_nbextensions/nbextensions/limit_output/icon.png -> /Users/jordanaaoliveira/Library/Jupyter/nbextensions/limit_output/icon.png\r\n",
      "\u001b[32m[I 14:51:32 InstallContribNbextensionsApp]\u001b[m Copying: /Users/jordanaaoliveira/opt/anaconda3/lib/python3.9/site-packages/jupyter_contrib_nbextensions/nbextensions/limit_output/readme.md -> /Users/jordanaaoliveira/Library/Jupyter/nbextensions/limit_output/readme.md\r\n",
      "\u001b[32m[I 14:51:32 InstallContribNbextensionsApp]\u001b[m Copying: /Users/jordanaaoliveira/opt/anaconda3/lib/python3.9/site-packages/jupyter_contrib_nbextensions/nbextensions/limit_output/main.js -> /Users/jordanaaoliveira/Library/Jupyter/nbextensions/limit_output/main.js\r\n",
      "\u001b[32m[I 14:51:32 InstallContribNbextensionsApp]\u001b[m Copying: /Users/jordanaaoliveira/opt/anaconda3/lib/python3.9/site-packages/jupyter_contrib_nbextensions/nbextensions/limit_output/limit-output.yaml -> /Users/jordanaaoliveira/Library/Jupyter/nbextensions/limit_output/limit-output.yaml\r\n",
      "\u001b[32m[I 14:51:32 InstallContribNbextensionsApp]\u001b[m - Validating: \u001b[32mOK\u001b[0m\r\n",
      "\u001b[32m[I 14:51:32 InstallContribNbextensionsApp]\u001b[m Installing /Users/jordanaaoliveira/opt/anaconda3/lib/python3.9/site-packages/jupyter_contrib_nbextensions/nbextensions/qtconsole -> qtconsole\r\n",
      "\u001b[32m[I 14:51:32 InstallContribNbextensionsApp]\u001b[m Making directory: /Users/jordanaaoliveira/Library/Jupyter/nbextensions/qtconsole/\r\n",
      "\u001b[32m[I 14:51:32 InstallContribNbextensionsApp]\u001b[m Copying: /Users/jordanaaoliveira/opt/anaconda3/lib/python3.9/site-packages/jupyter_contrib_nbextensions/nbextensions/qtconsole/qtconsole.js -> /Users/jordanaaoliveira/Library/Jupyter/nbextensions/qtconsole/qtconsole.js\r\n",
      "\u001b[32m[I 14:51:32 InstallContribNbextensionsApp]\u001b[m Copying: /Users/jordanaaoliveira/opt/anaconda3/lib/python3.9/site-packages/jupyter_contrib_nbextensions/nbextensions/qtconsole/qtconsole.yaml -> /Users/jordanaaoliveira/Library/Jupyter/nbextensions/qtconsole/qtconsole.yaml\r\n",
      "\u001b[32m[I 14:51:32 InstallContribNbextensionsApp]\u001b[m Copying: /Users/jordanaaoliveira/opt/anaconda3/lib/python3.9/site-packages/jupyter_contrib_nbextensions/nbextensions/qtconsole/README.md -> /Users/jordanaaoliveira/Library/Jupyter/nbextensions/qtconsole/README.md\r\n",
      "\u001b[32m[I 14:51:32 InstallContribNbextensionsApp]\u001b[m - Validating: \u001b[32mOK\u001b[0m\r\n",
      "\u001b[32m[I 14:51:32 InstallContribNbextensionsApp]\u001b[m Installing /Users/jordanaaoliveira/opt/anaconda3/lib/python3.9/site-packages/jupyter_contrib_nbextensions/nbextensions/addbefore -> addbefore\r\n",
      "\u001b[32m[I 14:51:32 InstallContribNbextensionsApp]\u001b[m Making directory: /Users/jordanaaoliveira/Library/Jupyter/nbextensions/addbefore/\r\n",
      "\u001b[32m[I 14:51:32 InstallContribNbextensionsApp]\u001b[m Copying: /Users/jordanaaoliveira/opt/anaconda3/lib/python3.9/site-packages/jupyter_contrib_nbextensions/nbextensions/addbefore/icon.png -> /Users/jordanaaoliveira/Library/Jupyter/nbextensions/addbefore/icon.png\r\n",
      "\u001b[32m[I 14:51:32 InstallContribNbextensionsApp]\u001b[m Copying: /Users/jordanaaoliveira/opt/anaconda3/lib/python3.9/site-packages/jupyter_contrib_nbextensions/nbextensions/addbefore/readme.md -> /Users/jordanaaoliveira/Library/Jupyter/nbextensions/addbefore/readme.md\r\n",
      "\u001b[32m[I 14:51:32 InstallContribNbextensionsApp]\u001b[m Copying: /Users/jordanaaoliveira/opt/anaconda3/lib/python3.9/site-packages/jupyter_contrib_nbextensions/nbextensions/addbefore/main.js -> /Users/jordanaaoliveira/Library/Jupyter/nbextensions/addbefore/main.js\r\n",
      "\u001b[32m[I 14:51:32 InstallContribNbextensionsApp]\u001b[m Copying: /Users/jordanaaoliveira/opt/anaconda3/lib/python3.9/site-packages/jupyter_contrib_nbextensions/nbextensions/addbefore/addbefore.yaml -> /Users/jordanaaoliveira/Library/Jupyter/nbextensions/addbefore/addbefore.yaml\r\n",
      "\u001b[32m[I 14:51:32 InstallContribNbextensionsApp]\u001b[m - Validating: \u001b[32mOK\u001b[0m\r\n",
      "\u001b[32m[I 14:51:32 InstallContribNbextensionsApp]\u001b[m Installing /Users/jordanaaoliveira/opt/anaconda3/lib/python3.9/site-packages/jupyter_contrib_nbextensions/nbextensions/highlighter -> highlighter\r\n",
      "\u001b[32m[I 14:51:32 InstallContribNbextensionsApp]\u001b[m Making directory: /Users/jordanaaoliveira/Library/Jupyter/nbextensions/highlighter/\r\n",
      "\u001b[32m[I 14:51:32 InstallContribNbextensionsApp]\u001b[m Copying: /Users/jordanaaoliveira/opt/anaconda3/lib/python3.9/site-packages/jupyter_contrib_nbextensions/nbextensions/highlighter/icon.png -> /Users/jordanaaoliveira/Library/Jupyter/nbextensions/highlighter/icon.png\r\n",
      "\u001b[32m[I 14:51:32 InstallContribNbextensionsApp]\u001b[m Copying: /Users/jordanaaoliveira/opt/anaconda3/lib/python3.9/site-packages/jupyter_contrib_nbextensions/nbextensions/highlighter/export_highlights.pdf -> /Users/jordanaaoliveira/Library/Jupyter/nbextensions/highlighter/export_highlights.pdf\r\n",
      "\u001b[32m[I 14:51:32 InstallContribNbextensionsApp]\u001b[m Copying: /Users/jordanaaoliveira/opt/anaconda3/lib/python3.9/site-packages/jupyter_contrib_nbextensions/nbextensions/highlighter/demo_highlighter.html -> /Users/jordanaaoliveira/Library/Jupyter/nbextensions/highlighter/demo_highlighter.html\r\n",
      "\u001b[32m[I 14:51:32 InstallContribNbextensionsApp]\u001b[m Copying: /Users/jordanaaoliveira/opt/anaconda3/lib/python3.9/site-packages/jupyter_contrib_nbextensions/nbextensions/highlighter/demo_highlighter.ipynb -> /Users/jordanaaoliveira/Library/Jupyter/nbextensions/highlighter/demo_highlighter.ipynb\r\n",
      "\u001b[32m[I 14:51:32 InstallContribNbextensionsApp]\u001b[m Copying: /Users/jordanaaoliveira/opt/anaconda3/lib/python3.9/site-packages/jupyter_contrib_nbextensions/nbextensions/highlighter/tst_highlights.ipynb -> /Users/jordanaaoliveira/Library/Jupyter/nbextensions/highlighter/tst_highlights.ipynb\r\n",
      "\u001b[32m[I 14:51:32 InstallContribNbextensionsApp]\u001b[m Copying: /Users/jordanaaoliveira/opt/anaconda3/lib/python3.9/site-packages/jupyter_contrib_nbextensions/nbextensions/highlighter/export_highlights.ipynb -> /Users/jordanaaoliveira/Library/Jupyter/nbextensions/highlighter/export_highlights.ipynb\r\n",
      "\u001b[32m[I 14:51:32 InstallContribNbextensionsApp]\u001b[m Copying: /Users/jordanaaoliveira/opt/anaconda3/lib/python3.9/site-packages/jupyter_contrib_nbextensions/nbextensions/highlighter/tst_highlights.html -> /Users/jordanaaoliveira/Library/Jupyter/nbextensions/highlighter/tst_highlights.html\r\n",
      "\u001b[32m[I 14:51:32 InstallContribNbextensionsApp]\u001b[m Copying: /Users/jordanaaoliveira/opt/anaconda3/lib/python3.9/site-packages/jupyter_contrib_nbextensions/nbextensions/highlighter/export_highlights.tex -> /Users/jordanaaoliveira/Library/Jupyter/nbextensions/highlighter/export_highlights.tex\r\n",
      "\u001b[32m[I 14:51:32 InstallContribNbextensionsApp]\u001b[m Copying: /Users/jordanaaoliveira/opt/anaconda3/lib/python3.9/site-packages/jupyter_contrib_nbextensions/nbextensions/highlighter/image.gif -> /Users/jordanaaoliveira/Library/Jupyter/nbextensions/highlighter/image.gif\r\n",
      "\u001b[32m[I 14:51:32 InstallContribNbextensionsApp]\u001b[m Copying: /Users/jordanaaoliveira/opt/anaconda3/lib/python3.9/site-packages/jupyter_contrib_nbextensions/nbextensions/highlighter/readme.md -> /Users/jordanaaoliveira/Library/Jupyter/nbextensions/highlighter/readme.md\r\n",
      "\u001b[32m[I 14:51:32 InstallContribNbextensionsApp]\u001b[m Copying: /Users/jordanaaoliveira/opt/anaconda3/lib/python3.9/site-packages/jupyter_contrib_nbextensions/nbextensions/highlighter/highlighter.css -> /Users/jordanaaoliveira/Library/Jupyter/nbextensions/highlighter/highlighter.css\r\n",
      "\u001b[32m[I 14:51:32 InstallContribNbextensionsApp]\u001b[m Copying: /Users/jordanaaoliveira/opt/anaconda3/lib/python3.9/site-packages/jupyter_contrib_nbextensions/nbextensions/highlighter/tst_highlights.pdf -> /Users/jordanaaoliveira/Library/Jupyter/nbextensions/highlighter/tst_highlights.pdf\r\n",
      "\u001b[32m[I 14:51:32 InstallContribNbextensionsApp]\u001b[m Copying: /Users/jordanaaoliveira/opt/anaconda3/lib/python3.9/site-packages/jupyter_contrib_nbextensions/nbextensions/highlighter/export_highlights.html -> /Users/jordanaaoliveira/Library/Jupyter/nbextensions/highlighter/export_highlights.html\r\n",
      "\u001b[32m[I 14:51:32 InstallContribNbextensionsApp]\u001b[m Copying: /Users/jordanaaoliveira/opt/anaconda3/lib/python3.9/site-packages/jupyter_contrib_nbextensions/nbextensions/highlighter/tst_highlights.tex -> /Users/jordanaaoliveira/Library/Jupyter/nbextensions/highlighter/tst_highlights.tex\r\n",
      "\u001b[32m[I 14:51:32 InstallContribNbextensionsApp]\u001b[m Copying: /Users/jordanaaoliveira/opt/anaconda3/lib/python3.9/site-packages/jupyter_contrib_nbextensions/nbextensions/highlighter/highlighter.yaml -> /Users/jordanaaoliveira/Library/Jupyter/nbextensions/highlighter/highlighter.yaml\r\n",
      "\u001b[32m[I 14:51:32 InstallContribNbextensionsApp]\u001b[m Copying: /Users/jordanaaoliveira/opt/anaconda3/lib/python3.9/site-packages/jupyter_contrib_nbextensions/nbextensions/highlighter/highlighter.js -> /Users/jordanaaoliveira/Library/Jupyter/nbextensions/highlighter/highlighter.js\r\n",
      "\u001b[32m[I 14:51:32 InstallContribNbextensionsApp]\u001b[m - Validating: \u001b[32mOK\u001b[0m\r\n",
      "\u001b[32m[I 14:51:32 InstallContribNbextensionsApp]\u001b[m Installing /Users/jordanaaoliveira/opt/anaconda3/lib/python3.9/site-packages/jupyter_contrib_nbextensions/nbextensions/comment-uncomment -> comment-uncomment\r\n",
      "\u001b[32m[I 14:51:32 InstallContribNbextensionsApp]\u001b[m Making directory: /Users/jordanaaoliveira/Library/Jupyter/nbextensions/comment-uncomment/\r\n",
      "\u001b[32m[I 14:51:32 InstallContribNbextensionsApp]\u001b[m Copying: /Users/jordanaaoliveira/opt/anaconda3/lib/python3.9/site-packages/jupyter_contrib_nbextensions/nbextensions/comment-uncomment/icon.png -> /Users/jordanaaoliveira/Library/Jupyter/nbextensions/comment-uncomment/icon.png\r\n",
      "\u001b[32m[I 14:51:32 InstallContribNbextensionsApp]\u001b[m Copying: /Users/jordanaaoliveira/opt/anaconda3/lib/python3.9/site-packages/jupyter_contrib_nbextensions/nbextensions/comment-uncomment/readme.md -> /Users/jordanaaoliveira/Library/Jupyter/nbextensions/comment-uncomment/readme.md\r\n",
      "\u001b[32m[I 14:51:32 InstallContribNbextensionsApp]\u001b[m Copying: /Users/jordanaaoliveira/opt/anaconda3/lib/python3.9/site-packages/jupyter_contrib_nbextensions/nbextensions/comment-uncomment/main.js -> /Users/jordanaaoliveira/Library/Jupyter/nbextensions/comment-uncomment/main.js\r\n",
      "\u001b[32m[I 14:51:32 InstallContribNbextensionsApp]\u001b[m Copying: /Users/jordanaaoliveira/opt/anaconda3/lib/python3.9/site-packages/jupyter_contrib_nbextensions/nbextensions/comment-uncomment/comment-uncomment.yaml -> /Users/jordanaaoliveira/Library/Jupyter/nbextensions/comment-uncomment/comment-uncomment.yaml\r\n",
      "\u001b[32m[I 14:51:32 InstallContribNbextensionsApp]\u001b[m - Validating: \u001b[32mOK\u001b[0m\r\n",
      "\u001b[32m[I 14:51:32 InstallContribNbextensionsApp]\u001b[m Installing /Users/jordanaaoliveira/opt/anaconda3/lib/python3.9/site-packages/jupyter_contrib_nbextensions/nbextensions/code_font_size -> code_font_size\r\n",
      "\u001b[32m[I 14:51:32 InstallContribNbextensionsApp]\u001b[m Making directory: /Users/jordanaaoliveira/Library/Jupyter/nbextensions/code_font_size/\r\n",
      "\u001b[32m[I 14:51:32 InstallContribNbextensionsApp]\u001b[m Copying: /Users/jordanaaoliveira/opt/anaconda3/lib/python3.9/site-packages/jupyter_contrib_nbextensions/nbextensions/code_font_size/code_font_size.yaml -> /Users/jordanaaoliveira/Library/Jupyter/nbextensions/code_font_size/code_font_size.yaml\r\n",
      "\u001b[32m[I 14:51:32 InstallContribNbextensionsApp]\u001b[m Copying: /Users/jordanaaoliveira/opt/anaconda3/lib/python3.9/site-packages/jupyter_contrib_nbextensions/nbextensions/code_font_size/code_font_size.js -> /Users/jordanaaoliveira/Library/Jupyter/nbextensions/code_font_size/code_font_size.js\r\n",
      "\u001b[32m[I 14:51:32 InstallContribNbextensionsApp]\u001b[m Copying: /Users/jordanaaoliveira/opt/anaconda3/lib/python3.9/site-packages/jupyter_contrib_nbextensions/nbextensions/code_font_size/README.md -> /Users/jordanaaoliveira/Library/Jupyter/nbextensions/code_font_size/README.md\r\n",
      "\u001b[32m[I 14:51:32 InstallContribNbextensionsApp]\u001b[m - Validating: \u001b[32mOK\u001b[0m\r\n",
      "\u001b[32m[I 14:51:32 InstallContribNbextensionsApp]\u001b[m Installing /Users/jordanaaoliveira/opt/anaconda3/lib/python3.9/site-packages/jupyter_contrib_nbextensions/nbextensions/varInspector -> varInspector\r\n",
      "\u001b[32m[I 14:51:32 InstallContribNbextensionsApp]\u001b[m Making directory: /Users/jordanaaoliveira/Library/Jupyter/nbextensions/varInspector/\r\n",
      "\u001b[32m[I 14:51:32 InstallContribNbextensionsApp]\u001b[m Copying: /Users/jordanaaoliveira/opt/anaconda3/lib/python3.9/site-packages/jupyter_contrib_nbextensions/nbextensions/varInspector/icon.png -> /Users/jordanaaoliveira/Library/Jupyter/nbextensions/varInspector/icon.png\r\n",
      "\u001b[32m[I 14:51:32 InstallContribNbextensionsApp]\u001b[m Copying: /Users/jordanaaoliveira/opt/anaconda3/lib/python3.9/site-packages/jupyter_contrib_nbextensions/nbextensions/varInspector/jquery.tablesorter.min.js -> /Users/jordanaaoliveira/Library/Jupyter/nbextensions/varInspector/jquery.tablesorter.min.js\r\n",
      "\u001b[32m[I 14:51:32 InstallContribNbextensionsApp]\u001b[m Copying: /Users/jordanaaoliveira/opt/anaconda3/lib/python3.9/site-packages/jupyter_contrib_nbextensions/nbextensions/varInspector/varInspector.yaml -> /Users/jordanaaoliveira/Library/Jupyter/nbextensions/varInspector/varInspector.yaml\r\n",
      "\u001b[32m[I 14:51:32 InstallContribNbextensionsApp]\u001b[m Copying: /Users/jordanaaoliveira/opt/anaconda3/lib/python3.9/site-packages/jupyter_contrib_nbextensions/nbextensions/varInspector/main.css -> /Users/jordanaaoliveira/Library/Jupyter/nbextensions/varInspector/main.css\r\n",
      "\u001b[32m[I 14:51:32 InstallContribNbextensionsApp]\u001b[m Copying: /Users/jordanaaoliveira/opt/anaconda3/lib/python3.9/site-packages/jupyter_contrib_nbextensions/nbextensions/varInspector/var_list.py -> /Users/jordanaaoliveira/Library/Jupyter/nbextensions/varInspector/var_list.py\r\n",
      "\u001b[32m[I 14:51:32 InstallContribNbextensionsApp]\u001b[m Copying: /Users/jordanaaoliveira/opt/anaconda3/lib/python3.9/site-packages/jupyter_contrib_nbextensions/nbextensions/varInspector/README.md -> /Users/jordanaaoliveira/Library/Jupyter/nbextensions/varInspector/README.md\r\n",
      "\u001b[32m[I 14:51:32 InstallContribNbextensionsApp]\u001b[m Copying: /Users/jordanaaoliveira/opt/anaconda3/lib/python3.9/site-packages/jupyter_contrib_nbextensions/nbextensions/varInspector/main.js -> /Users/jordanaaoliveira/Library/Jupyter/nbextensions/varInspector/main.js\r\n",
      "\u001b[32m[I 14:51:32 InstallContribNbextensionsApp]\u001b[m Copying: /Users/jordanaaoliveira/opt/anaconda3/lib/python3.9/site-packages/jupyter_contrib_nbextensions/nbextensions/varInspector/var_list.r -> /Users/jordanaaoliveira/Library/Jupyter/nbextensions/varInspector/var_list.r\r\n",
      "\u001b[32m[I 14:51:32 InstallContribNbextensionsApp]\u001b[m Copying: /Users/jordanaaoliveira/opt/anaconda3/lib/python3.9/site-packages/jupyter_contrib_nbextensions/nbextensions/varInspector/tablesorter_LICENSE.txt -> /Users/jordanaaoliveira/Library/Jupyter/nbextensions/varInspector/tablesorter_LICENSE.txt\r\n",
      "\u001b[32m[I 14:51:32 InstallContribNbextensionsApp]\u001b[m Copying: /Users/jordanaaoliveira/opt/anaconda3/lib/python3.9/site-packages/jupyter_contrib_nbextensions/nbextensions/varInspector/demo.gif -> /Users/jordanaaoliveira/Library/Jupyter/nbextensions/varInspector/demo.gif\r\n",
      "\u001b[32m[I 14:51:32 InstallContribNbextensionsApp]\u001b[m Making directory: /Users/jordanaaoliveira/Library/Jupyter/nbextensions/varInspector/__pycache__\r\n",
      "\u001b[32m[I 14:51:32 InstallContribNbextensionsApp]\u001b[m Copying: /Users/jordanaaoliveira/opt/anaconda3/lib/python3.9/site-packages/jupyter_contrib_nbextensions/nbextensions/varInspector/__pycache__/var_list.cpython-39.pyc -> /Users/jordanaaoliveira/Library/Jupyter/nbextensions/varInspector/__pycache__/var_list.cpython-39.pyc\r\n",
      "\u001b[32m[I 14:51:32 InstallContribNbextensionsApp]\u001b[m - Validating: \u001b[32mOK\u001b[0m\r\n",
      "\u001b[32m[I 14:51:32 InstallContribNbextensionsApp]\u001b[m Installing /Users/jordanaaoliveira/opt/anaconda3/lib/python3.9/site-packages/jupyter_contrib_nbextensions/nbextensions/execute_time -> execute_time\r\n",
      "\u001b[32m[I 14:51:32 InstallContribNbextensionsApp]\u001b[m Making directory: /Users/jordanaaoliveira/Library/Jupyter/nbextensions/execute_time/\r\n",
      "\u001b[32m[I 14:51:32 InstallContribNbextensionsApp]\u001b[m Copying: /Users/jordanaaoliveira/opt/anaconda3/lib/python3.9/site-packages/jupyter_contrib_nbextensions/nbextensions/execute_time/ExecuteTime.js -> /Users/jordanaaoliveira/Library/Jupyter/nbextensions/execute_time/ExecuteTime.js\r\n",
      "\u001b[32m[I 14:51:32 InstallContribNbextensionsApp]\u001b[m Copying: /Users/jordanaaoliveira/opt/anaconda3/lib/python3.9/site-packages/jupyter_contrib_nbextensions/nbextensions/execute_time/icon.png -> /Users/jordanaaoliveira/Library/Jupyter/nbextensions/execute_time/icon.png\r\n",
      "\u001b[32m[I 14:51:32 InstallContribNbextensionsApp]\u001b[m Copying: /Users/jordanaaoliveira/opt/anaconda3/lib/python3.9/site-packages/jupyter_contrib_nbextensions/nbextensions/execute_time/execution-timings-box.png -> /Users/jordanaaoliveira/Library/Jupyter/nbextensions/execute_time/execution-timings-box.png\r\n",
      "\u001b[32m[I 14:51:32 InstallContribNbextensionsApp]\u001b[m Copying: /Users/jordanaaoliveira/opt/anaconda3/lib/python3.9/site-packages/jupyter_contrib_nbextensions/nbextensions/execute_time/ExecuteTime.css -> /Users/jordanaaoliveira/Library/Jupyter/nbextensions/execute_time/ExecuteTime.css\r\n",
      "\u001b[32m[I 14:51:32 InstallContribNbextensionsApp]\u001b[m Copying: /Users/jordanaaoliveira/opt/anaconda3/lib/python3.9/site-packages/jupyter_contrib_nbextensions/nbextensions/execute_time/ExecuteTime.yaml -> /Users/jordanaaoliveira/Library/Jupyter/nbextensions/execute_time/ExecuteTime.yaml\r\n",
      "\u001b[32m[I 14:51:32 InstallContribNbextensionsApp]\u001b[m Copying: /Users/jordanaaoliveira/opt/anaconda3/lib/python3.9/site-packages/jupyter_contrib_nbextensions/nbextensions/execute_time/execution-timings-menu.png -> /Users/jordanaaoliveira/Library/Jupyter/nbextensions/execute_time/execution-timings-menu.png\r\n",
      "\u001b[32m[I 14:51:32 InstallContribNbextensionsApp]\u001b[m Copying: /Users/jordanaaoliveira/opt/anaconda3/lib/python3.9/site-packages/jupyter_contrib_nbextensions/nbextensions/execute_time/readme.md -> /Users/jordanaaoliveira/Library/Jupyter/nbextensions/execute_time/readme.md\r\n",
      "\u001b[32m[I 14:51:32 InstallContribNbextensionsApp]\u001b[m - Validating: \u001b[32mOK\u001b[0m\r\n",
      "\u001b[32m[I 14:51:32 InstallContribNbextensionsApp]\u001b[m Installing /Users/jordanaaoliveira/opt/anaconda3/lib/python3.9/site-packages/jupyter_contrib_nbextensions/nbextensions/spellchecker -> spellchecker\r\n",
      "\u001b[32m[I 14:51:32 InstallContribNbextensionsApp]\u001b[m Making directory: /Users/jordanaaoliveira/Library/Jupyter/nbextensions/spellchecker/\r\n",
      "\u001b[32m[I 14:51:32 InstallContribNbextensionsApp]\u001b[m Copying: /Users/jordanaaoliveira/opt/anaconda3/lib/python3.9/site-packages/jupyter_contrib_nbextensions/nbextensions/spellchecker/download_new_dict.py -> /Users/jordanaaoliveira/Library/Jupyter/nbextensions/spellchecker/download_new_dict.py\r\n",
      "\u001b[32m[I 14:51:32 InstallContribNbextensionsApp]\u001b[m Copying: /Users/jordanaaoliveira/opt/anaconda3/lib/python3.9/site-packages/jupyter_contrib_nbextensions/nbextensions/spellchecker/screenshot.png -> /Users/jordanaaoliveira/Library/Jupyter/nbextensions/spellchecker/screenshot.png\r\n",
      "\u001b[32m[I 14:51:32 InstallContribNbextensionsApp]\u001b[m Copying: /Users/jordanaaoliveira/opt/anaconda3/lib/python3.9/site-packages/jupyter_contrib_nbextensions/nbextensions/spellchecker/config.yaml -> /Users/jordanaaoliveira/Library/Jupyter/nbextensions/spellchecker/config.yaml\r\n",
      "\u001b[32m[I 14:51:32 InstallContribNbextensionsApp]\u001b[m Copying: /Users/jordanaaoliveira/opt/anaconda3/lib/python3.9/site-packages/jupyter_contrib_nbextensions/nbextensions/spellchecker/main.css -> /Users/jordanaaoliveira/Library/Jupyter/nbextensions/spellchecker/main.css\r\n",
      "\u001b[32m[I 14:51:32 InstallContribNbextensionsApp]\u001b[m Copying: /Users/jordanaaoliveira/opt/anaconda3/lib/python3.9/site-packages/jupyter_contrib_nbextensions/nbextensions/spellchecker/README.md -> /Users/jordanaaoliveira/Library/Jupyter/nbextensions/spellchecker/README.md\r\n",
      "\u001b[32m[I 14:51:32 InstallContribNbextensionsApp]\u001b[m Copying: /Users/jordanaaoliveira/opt/anaconda3/lib/python3.9/site-packages/jupyter_contrib_nbextensions/nbextensions/spellchecker/main.js -> /Users/jordanaaoliveira/Library/Jupyter/nbextensions/spellchecker/main.js\r\n",
      "\u001b[32m[I 14:51:32 InstallContribNbextensionsApp]\u001b[m Making directory: /Users/jordanaaoliveira/Library/Jupyter/nbextensions/spellchecker/typo\r\n",
      "\u001b[32m[I 14:51:32 InstallContribNbextensionsApp]\u001b[m Copying: /Users/jordanaaoliveira/opt/anaconda3/lib/python3.9/site-packages/jupyter_contrib_nbextensions/nbextensions/spellchecker/typo/typo.js -> /Users/jordanaaoliveira/Library/Jupyter/nbextensions/spellchecker/typo/typo.js\r\n",
      "\u001b[32m[I 14:51:32 InstallContribNbextensionsApp]\u001b[m Copying: /Users/jordanaaoliveira/opt/anaconda3/lib/python3.9/site-packages/jupyter_contrib_nbextensions/nbextensions/spellchecker/typo/LICENSE.txt -> /Users/jordanaaoliveira/Library/Jupyter/nbextensions/spellchecker/typo/LICENSE.txt\r\n",
      "\u001b[32m[I 14:51:32 InstallContribNbextensionsApp]\u001b[m Making directory: /Users/jordanaaoliveira/Library/Jupyter/nbextensions/spellchecker/__pycache__\r\n",
      "\u001b[32m[I 14:51:32 InstallContribNbextensionsApp]\u001b[m Copying: /Users/jordanaaoliveira/opt/anaconda3/lib/python3.9/site-packages/jupyter_contrib_nbextensions/nbextensions/spellchecker/__pycache__/download_new_dict.cpython-39.pyc -> /Users/jordanaaoliveira/Library/Jupyter/nbextensions/spellchecker/__pycache__/download_new_dict.cpython-39.pyc\r\n",
      "\u001b[32m[I 14:51:32 InstallContribNbextensionsApp]\u001b[m - Validating: \u001b[32mOK\u001b[0m\r\n",
      "\u001b[32m[I 14:51:32 InstallContribNbextensionsApp]\u001b[m Installing /Users/jordanaaoliveira/opt/anaconda3/lib/python3.9/site-packages/jupyter_contrib_nbextensions/nbextensions/code_prettify -> code_prettify\r\n",
      "\u001b[32m[I 14:51:32 InstallContribNbextensionsApp]\u001b[m Making directory: /Users/jordanaaoliveira/Library/Jupyter/nbextensions/code_prettify/\r\n",
      "\u001b[32m[I 14:51:32 InstallContribNbextensionsApp]\u001b[m Copying: /Users/jordanaaoliveira/opt/anaconda3/lib/python3.9/site-packages/jupyter_contrib_nbextensions/nbextensions/code_prettify/demo-py.gif -> /Users/jordanaaoliveira/Library/Jupyter/nbextensions/code_prettify/demo-py.gif\r\n",
      "\u001b[32m[I 14:51:32 InstallContribNbextensionsApp]\u001b[m Copying: /Users/jordanaaoliveira/opt/anaconda3/lib/python3.9/site-packages/jupyter_contrib_nbextensions/nbextensions/code_prettify/kernel_exec_on_cell.js -> /Users/jordanaaoliveira/Library/Jupyter/nbextensions/code_prettify/kernel_exec_on_cell.js\r\n",
      "\u001b[32m[I 14:51:32 InstallContribNbextensionsApp]\u001b[m Copying: /Users/jordanaaoliveira/opt/anaconda3/lib/python3.9/site-packages/jupyter_contrib_nbextensions/nbextensions/code_prettify/demo-jv.gif -> /Users/jordanaaoliveira/Library/Jupyter/nbextensions/code_prettify/demo-jv.gif\r\n",
      "\u001b[32m[I 14:51:32 InstallContribNbextensionsApp]\u001b[m Copying: /Users/jordanaaoliveira/opt/anaconda3/lib/python3.9/site-packages/jupyter_contrib_nbextensions/nbextensions/code_prettify/README_2to3.md -> /Users/jordanaaoliveira/Library/Jupyter/nbextensions/code_prettify/README_2to3.md\r\n"
     ]
    },
    {
     "name": "stdout",
     "output_type": "stream",
     "text": [
      "\u001b[32m[I 14:51:32 InstallContribNbextensionsApp]\u001b[m Copying: /Users/jordanaaoliveira/opt/anaconda3/lib/python3.9/site-packages/jupyter_contrib_nbextensions/nbextensions/code_prettify/2to3.yaml -> /Users/jordanaaoliveira/Library/Jupyter/nbextensions/code_prettify/2to3.yaml\r\n",
      "\u001b[32m[I 14:51:32 InstallContribNbextensionsApp]\u001b[m Copying: /Users/jordanaaoliveira/opt/anaconda3/lib/python3.9/site-packages/jupyter_contrib_nbextensions/nbextensions/code_prettify/README_autopep8.md -> /Users/jordanaaoliveira/Library/Jupyter/nbextensions/code_prettify/README_autopep8.md\r\n",
      "\u001b[32m[I 14:51:32 InstallContribNbextensionsApp]\u001b[m Copying: /Users/jordanaaoliveira/opt/anaconda3/lib/python3.9/site-packages/jupyter_contrib_nbextensions/nbextensions/code_prettify/demo_2to3.gif -> /Users/jordanaaoliveira/Library/Jupyter/nbextensions/code_prettify/demo_2to3.gif\r\n",
      "\u001b[32m[I 14:51:32 InstallContribNbextensionsApp]\u001b[m Copying: /Users/jordanaaoliveira/opt/anaconda3/lib/python3.9/site-packages/jupyter_contrib_nbextensions/nbextensions/code_prettify/README_isort.md -> /Users/jordanaaoliveira/Library/Jupyter/nbextensions/code_prettify/README_isort.md\r\n",
      "\u001b[32m[I 14:51:32 InstallContribNbextensionsApp]\u001b[m Copying: /Users/jordanaaoliveira/opt/anaconda3/lib/python3.9/site-packages/jupyter_contrib_nbextensions/nbextensions/code_prettify/README_code_prettify.md -> /Users/jordanaaoliveira/Library/Jupyter/nbextensions/code_prettify/README_code_prettify.md\r\n",
      "\u001b[32m[I 14:51:32 InstallContribNbextensionsApp]\u001b[m Copying: /Users/jordanaaoliveira/opt/anaconda3/lib/python3.9/site-packages/jupyter_contrib_nbextensions/nbextensions/code_prettify/README.md -> /Users/jordanaaoliveira/Library/Jupyter/nbextensions/code_prettify/README.md\r\n",
      "\u001b[32m[I 14:51:32 InstallContribNbextensionsApp]\u001b[m Copying: /Users/jordanaaoliveira/opt/anaconda3/lib/python3.9/site-packages/jupyter_contrib_nbextensions/nbextensions/code_prettify/code_prettify.js -> /Users/jordanaaoliveira/Library/Jupyter/nbextensions/code_prettify/code_prettify.js\r\n",
      "\u001b[32m[I 14:51:32 InstallContribNbextensionsApp]\u001b[m Copying: /Users/jordanaaoliveira/opt/anaconda3/lib/python3.9/site-packages/jupyter_contrib_nbextensions/nbextensions/code_prettify/autopep8.js -> /Users/jordanaaoliveira/Library/Jupyter/nbextensions/code_prettify/autopep8.js\r\n",
      "\u001b[32m[I 14:51:32 InstallContribNbextensionsApp]\u001b[m Copying: /Users/jordanaaoliveira/opt/anaconda3/lib/python3.9/site-packages/jupyter_contrib_nbextensions/nbextensions/code_prettify/demo-R.gif -> /Users/jordanaaoliveira/Library/Jupyter/nbextensions/code_prettify/demo-R.gif\r\n",
      "\u001b[32m[I 14:51:32 InstallContribNbextensionsApp]\u001b[m Copying: /Users/jordanaaoliveira/opt/anaconda3/lib/python3.9/site-packages/jupyter_contrib_nbextensions/nbextensions/code_prettify/isort.js -> /Users/jordanaaoliveira/Library/Jupyter/nbextensions/code_prettify/isort.js\r\n",
      "\u001b[32m[I 14:51:32 InstallContribNbextensionsApp]\u001b[m Copying: /Users/jordanaaoliveira/opt/anaconda3/lib/python3.9/site-packages/jupyter_contrib_nbextensions/nbextensions/code_prettify/code_prettify.yaml -> /Users/jordanaaoliveira/Library/Jupyter/nbextensions/code_prettify/code_prettify.yaml\r\n",
      "\u001b[32m[I 14:51:32 InstallContribNbextensionsApp]\u001b[m Copying: /Users/jordanaaoliveira/opt/anaconda3/lib/python3.9/site-packages/jupyter_contrib_nbextensions/nbextensions/code_prettify/2to3.js -> /Users/jordanaaoliveira/Library/Jupyter/nbextensions/code_prettify/2to3.js\r\n",
      "\u001b[32m[I 14:51:32 InstallContribNbextensionsApp]\u001b[m Copying: /Users/jordanaaoliveira/opt/anaconda3/lib/python3.9/site-packages/jupyter_contrib_nbextensions/nbextensions/code_prettify/autopep8.yaml -> /Users/jordanaaoliveira/Library/Jupyter/nbextensions/code_prettify/autopep8.yaml\r\n",
      "\u001b[32m[I 14:51:32 InstallContribNbextensionsApp]\u001b[m Copying: /Users/jordanaaoliveira/opt/anaconda3/lib/python3.9/site-packages/jupyter_contrib_nbextensions/nbextensions/code_prettify/isort.yaml -> /Users/jordanaaoliveira/Library/Jupyter/nbextensions/code_prettify/isort.yaml\r\n",
      "\u001b[32m[I 14:51:32 InstallContribNbextensionsApp]\u001b[m - Validating: \u001b[32mOK\u001b[0m\r\n",
      "\u001b[32m[I 14:51:32 InstallContribNbextensionsApp]\u001b[m Installing /Users/jordanaaoliveira/opt/anaconda3/lib/python3.9/site-packages/jupyter_contrib_nbextensions/nbextensions/code_prettify -> code_prettify\r\n",
      "\u001b[32m[I 14:51:32 InstallContribNbextensionsApp]\u001b[m Up to date: /Users/jordanaaoliveira/Library/Jupyter/nbextensions/code_prettify/demo-py.gif\r\n",
      "\u001b[32m[I 14:51:32 InstallContribNbextensionsApp]\u001b[m Up to date: /Users/jordanaaoliveira/Library/Jupyter/nbextensions/code_prettify/kernel_exec_on_cell.js\r\n",
      "\u001b[32m[I 14:51:32 InstallContribNbextensionsApp]\u001b[m Up to date: /Users/jordanaaoliveira/Library/Jupyter/nbextensions/code_prettify/demo-jv.gif\r\n",
      "\u001b[32m[I 14:51:32 InstallContribNbextensionsApp]\u001b[m Up to date: /Users/jordanaaoliveira/Library/Jupyter/nbextensions/code_prettify/README_2to3.md\r\n",
      "\u001b[32m[I 14:51:32 InstallContribNbextensionsApp]\u001b[m Up to date: /Users/jordanaaoliveira/Library/Jupyter/nbextensions/code_prettify/2to3.yaml\r\n",
      "\u001b[32m[I 14:51:32 InstallContribNbextensionsApp]\u001b[m Up to date: /Users/jordanaaoliveira/Library/Jupyter/nbextensions/code_prettify/README_autopep8.md\r\n",
      "\u001b[32m[I 14:51:32 InstallContribNbextensionsApp]\u001b[m Up to date: /Users/jordanaaoliveira/Library/Jupyter/nbextensions/code_prettify/demo_2to3.gif\r\n",
      "\u001b[32m[I 14:51:32 InstallContribNbextensionsApp]\u001b[m Up to date: /Users/jordanaaoliveira/Library/Jupyter/nbextensions/code_prettify/README_isort.md\r\n",
      "\u001b[32m[I 14:51:32 InstallContribNbextensionsApp]\u001b[m Up to date: /Users/jordanaaoliveira/Library/Jupyter/nbextensions/code_prettify/README_code_prettify.md\r\n",
      "\u001b[32m[I 14:51:32 InstallContribNbextensionsApp]\u001b[m Up to date: /Users/jordanaaoliveira/Library/Jupyter/nbextensions/code_prettify/README.md\r\n",
      "\u001b[32m[I 14:51:32 InstallContribNbextensionsApp]\u001b[m Up to date: /Users/jordanaaoliveira/Library/Jupyter/nbextensions/code_prettify/code_prettify.js\r\n",
      "\u001b[32m[I 14:51:32 InstallContribNbextensionsApp]\u001b[m Up to date: /Users/jordanaaoliveira/Library/Jupyter/nbextensions/code_prettify/autopep8.js\r\n",
      "\u001b[32m[I 14:51:32 InstallContribNbextensionsApp]\u001b[m Up to date: /Users/jordanaaoliveira/Library/Jupyter/nbextensions/code_prettify/demo-R.gif\r\n",
      "\u001b[32m[I 14:51:32 InstallContribNbextensionsApp]\u001b[m Up to date: /Users/jordanaaoliveira/Library/Jupyter/nbextensions/code_prettify/isort.js\r\n",
      "\u001b[32m[I 14:51:32 InstallContribNbextensionsApp]\u001b[m Up to date: /Users/jordanaaoliveira/Library/Jupyter/nbextensions/code_prettify/code_prettify.yaml\r\n",
      "\u001b[32m[I 14:51:32 InstallContribNbextensionsApp]\u001b[m Up to date: /Users/jordanaaoliveira/Library/Jupyter/nbextensions/code_prettify/2to3.js\r\n",
      "\u001b[32m[I 14:51:32 InstallContribNbextensionsApp]\u001b[m Up to date: /Users/jordanaaoliveira/Library/Jupyter/nbextensions/code_prettify/autopep8.yaml\r\n",
      "\u001b[32m[I 14:51:32 InstallContribNbextensionsApp]\u001b[m Up to date: /Users/jordanaaoliveira/Library/Jupyter/nbextensions/code_prettify/isort.yaml\r\n",
      "\u001b[32m[I 14:51:32 InstallContribNbextensionsApp]\u001b[m - Validating: \u001b[32mOK\u001b[0m\r\n",
      "\u001b[32m[I 14:51:32 InstallContribNbextensionsApp]\u001b[m Installing /Users/jordanaaoliveira/opt/anaconda3/lib/python3.9/site-packages/jupyter_contrib_nbextensions/nbextensions/code_prettify -> code_prettify\r\n",
      "\u001b[32m[I 14:51:32 InstallContribNbextensionsApp]\u001b[m Up to date: /Users/jordanaaoliveira/Library/Jupyter/nbextensions/code_prettify/demo-py.gif\r\n",
      "\u001b[32m[I 14:51:32 InstallContribNbextensionsApp]\u001b[m Up to date: /Users/jordanaaoliveira/Library/Jupyter/nbextensions/code_prettify/kernel_exec_on_cell.js\r\n",
      "\u001b[32m[I 14:51:32 InstallContribNbextensionsApp]\u001b[m Up to date: /Users/jordanaaoliveira/Library/Jupyter/nbextensions/code_prettify/demo-jv.gif\r\n",
      "\u001b[32m[I 14:51:32 InstallContribNbextensionsApp]\u001b[m Up to date: /Users/jordanaaoliveira/Library/Jupyter/nbextensions/code_prettify/README_2to3.md\r\n",
      "\u001b[32m[I 14:51:32 InstallContribNbextensionsApp]\u001b[m Up to date: /Users/jordanaaoliveira/Library/Jupyter/nbextensions/code_prettify/2to3.yaml\r\n",
      "\u001b[32m[I 14:51:32 InstallContribNbextensionsApp]\u001b[m Up to date: /Users/jordanaaoliveira/Library/Jupyter/nbextensions/code_prettify/README_autopep8.md\r\n",
      "\u001b[32m[I 14:51:32 InstallContribNbextensionsApp]\u001b[m Up to date: /Users/jordanaaoliveira/Library/Jupyter/nbextensions/code_prettify/demo_2to3.gif\r\n",
      "\u001b[32m[I 14:51:32 InstallContribNbextensionsApp]\u001b[m Up to date: /Users/jordanaaoliveira/Library/Jupyter/nbextensions/code_prettify/README_isort.md\r\n",
      "\u001b[32m[I 14:51:32 InstallContribNbextensionsApp]\u001b[m Up to date: /Users/jordanaaoliveira/Library/Jupyter/nbextensions/code_prettify/README_code_prettify.md\r\n",
      "\u001b[32m[I 14:51:32 InstallContribNbextensionsApp]\u001b[m Up to date: /Users/jordanaaoliveira/Library/Jupyter/nbextensions/code_prettify/README.md\r\n",
      "\u001b[32m[I 14:51:32 InstallContribNbextensionsApp]\u001b[m Up to date: /Users/jordanaaoliveira/Library/Jupyter/nbextensions/code_prettify/code_prettify.js\r\n",
      "\u001b[32m[I 14:51:32 InstallContribNbextensionsApp]\u001b[m Up to date: /Users/jordanaaoliveira/Library/Jupyter/nbextensions/code_prettify/autopep8.js\r\n",
      "\u001b[32m[I 14:51:32 InstallContribNbextensionsApp]\u001b[m Up to date: /Users/jordanaaoliveira/Library/Jupyter/nbextensions/code_prettify/demo-R.gif\r\n",
      "\u001b[32m[I 14:51:32 InstallContribNbextensionsApp]\u001b[m Up to date: /Users/jordanaaoliveira/Library/Jupyter/nbextensions/code_prettify/isort.js\r\n",
      "\u001b[32m[I 14:51:32 InstallContribNbextensionsApp]\u001b[m Up to date: /Users/jordanaaoliveira/Library/Jupyter/nbextensions/code_prettify/code_prettify.yaml\r\n",
      "\u001b[32m[I 14:51:32 InstallContribNbextensionsApp]\u001b[m Up to date: /Users/jordanaaoliveira/Library/Jupyter/nbextensions/code_prettify/2to3.js\r\n",
      "\u001b[32m[I 14:51:32 InstallContribNbextensionsApp]\u001b[m Up to date: /Users/jordanaaoliveira/Library/Jupyter/nbextensions/code_prettify/autopep8.yaml\r\n",
      "\u001b[32m[I 14:51:32 InstallContribNbextensionsApp]\u001b[m Up to date: /Users/jordanaaoliveira/Library/Jupyter/nbextensions/code_prettify/isort.yaml\r\n",
      "\u001b[32m[I 14:51:32 InstallContribNbextensionsApp]\u001b[m - Validating: \u001b[32mOK\u001b[0m\r\n",
      "\u001b[32m[I 14:51:32 InstallContribNbextensionsApp]\u001b[m Installing /Users/jordanaaoliveira/opt/anaconda3/lib/python3.9/site-packages/jupyter_contrib_nbextensions/nbextensions/code_prettify -> code_prettify\r\n",
      "\u001b[32m[I 14:51:32 InstallContribNbextensionsApp]\u001b[m Up to date: /Users/jordanaaoliveira/Library/Jupyter/nbextensions/code_prettify/demo-py.gif\r\n",
      "\u001b[32m[I 14:51:32 InstallContribNbextensionsApp]\u001b[m Up to date: /Users/jordanaaoliveira/Library/Jupyter/nbextensions/code_prettify/kernel_exec_on_cell.js\r\n",
      "\u001b[32m[I 14:51:32 InstallContribNbextensionsApp]\u001b[m Up to date: /Users/jordanaaoliveira/Library/Jupyter/nbextensions/code_prettify/demo-jv.gif\r\n",
      "\u001b[32m[I 14:51:32 InstallContribNbextensionsApp]\u001b[m Up to date: /Users/jordanaaoliveira/Library/Jupyter/nbextensions/code_prettify/README_2to3.md\r\n",
      "\u001b[32m[I 14:51:32 InstallContribNbextensionsApp]\u001b[m Up to date: /Users/jordanaaoliveira/Library/Jupyter/nbextensions/code_prettify/2to3.yaml\r\n",
      "\u001b[32m[I 14:51:32 InstallContribNbextensionsApp]\u001b[m Up to date: /Users/jordanaaoliveira/Library/Jupyter/nbextensions/code_prettify/README_autopep8.md\r\n",
      "\u001b[32m[I 14:51:32 InstallContribNbextensionsApp]\u001b[m Up to date: /Users/jordanaaoliveira/Library/Jupyter/nbextensions/code_prettify/demo_2to3.gif\r\n",
      "\u001b[32m[I 14:51:32 InstallContribNbextensionsApp]\u001b[m Up to date: /Users/jordanaaoliveira/Library/Jupyter/nbextensions/code_prettify/README_isort.md\r\n",
      "\u001b[32m[I 14:51:32 InstallContribNbextensionsApp]\u001b[m Up to date: /Users/jordanaaoliveira/Library/Jupyter/nbextensions/code_prettify/README_code_prettify.md\r\n",
      "\u001b[32m[I 14:51:32 InstallContribNbextensionsApp]\u001b[m Up to date: /Users/jordanaaoliveira/Library/Jupyter/nbextensions/code_prettify/README.md\r\n",
      "\u001b[32m[I 14:51:32 InstallContribNbextensionsApp]\u001b[m Up to date: /Users/jordanaaoliveira/Library/Jupyter/nbextensions/code_prettify/code_prettify.js\r\n",
      "\u001b[32m[I 14:51:32 InstallContribNbextensionsApp]\u001b[m Up to date: /Users/jordanaaoliveira/Library/Jupyter/nbextensions/code_prettify/autopep8.js\r\n",
      "\u001b[32m[I 14:51:32 InstallContribNbextensionsApp]\u001b[m Up to date: /Users/jordanaaoliveira/Library/Jupyter/nbextensions/code_prettify/demo-R.gif\r\n",
      "\u001b[32m[I 14:51:32 InstallContribNbextensionsApp]\u001b[m Up to date: /Users/jordanaaoliveira/Library/Jupyter/nbextensions/code_prettify/isort.js\r\n",
      "\u001b[32m[I 14:51:32 InstallContribNbextensionsApp]\u001b[m Up to date: /Users/jordanaaoliveira/Library/Jupyter/nbextensions/code_prettify/code_prettify.yaml\r\n",
      "\u001b[32m[I 14:51:32 InstallContribNbextensionsApp]\u001b[m Up to date: /Users/jordanaaoliveira/Library/Jupyter/nbextensions/code_prettify/2to3.js\r\n",
      "\u001b[32m[I 14:51:32 InstallContribNbextensionsApp]\u001b[m Up to date: /Users/jordanaaoliveira/Library/Jupyter/nbextensions/code_prettify/autopep8.yaml\r\n",
      "\u001b[32m[I 14:51:32 InstallContribNbextensionsApp]\u001b[m Up to date: /Users/jordanaaoliveira/Library/Jupyter/nbextensions/code_prettify/isort.yaml\r\n",
      "\u001b[32m[I 14:51:32 InstallContribNbextensionsApp]\u001b[m - Validating: \u001b[32mOK\u001b[0m\r\n",
      "\u001b[32m[I 14:51:32 InstallContribNbextensionsApp]\u001b[m Installing /Users/jordanaaoliveira/opt/anaconda3/lib/python3.9/site-packages/jupyter_contrib_nbextensions/nbextensions/load_tex_macros -> load_tex_macros\r\n",
      "\u001b[32m[I 14:51:32 InstallContribNbextensionsApp]\u001b[m Making directory: /Users/jordanaaoliveira/Library/Jupyter/nbextensions/load_tex_macros/\r\n",
      "\u001b[32m[I 14:51:32 InstallContribNbextensionsApp]\u001b[m Copying: /Users/jordanaaoliveira/opt/anaconda3/lib/python3.9/site-packages/jupyter_contrib_nbextensions/nbextensions/load_tex_macros/load_tex_macros.yaml -> /Users/jordanaaoliveira/Library/Jupyter/nbextensions/load_tex_macros/load_tex_macros.yaml\r\n",
      "\u001b[32m[I 14:51:32 InstallContribNbextensionsApp]\u001b[m Copying: /Users/jordanaaoliveira/opt/anaconda3/lib/python3.9/site-packages/jupyter_contrib_nbextensions/nbextensions/load_tex_macros/icon.png -> /Users/jordanaaoliveira/Library/Jupyter/nbextensions/load_tex_macros/icon.png\r\n",
      "\u001b[32m[I 14:51:32 InstallContribNbextensionsApp]\u001b[m Copying: /Users/jordanaaoliveira/opt/anaconda3/lib/python3.9/site-packages/jupyter_contrib_nbextensions/nbextensions/load_tex_macros/readme.md -> /Users/jordanaaoliveira/Library/Jupyter/nbextensions/load_tex_macros/readme.md\r\n",
      "\u001b[32m[I 14:51:32 InstallContribNbextensionsApp]\u001b[m Copying: /Users/jordanaaoliveira/opt/anaconda3/lib/python3.9/site-packages/jupyter_contrib_nbextensions/nbextensions/load_tex_macros/main.js -> /Users/jordanaaoliveira/Library/Jupyter/nbextensions/load_tex_macros/main.js\r\n",
      "\u001b[32m[I 14:51:32 InstallContribNbextensionsApp]\u001b[m - Validating: \u001b[32mOK\u001b[0m\r\n",
      "\u001b[32m[I 14:51:32 InstallContribNbextensionsApp]\u001b[m Installing /Users/jordanaaoliveira/opt/anaconda3/lib/python3.9/site-packages/jupyter_contrib_nbextensions/nbextensions/hide_header -> hide_header\r\n",
      "\u001b[32m[I 14:51:32 InstallContribNbextensionsApp]\u001b[m Making directory: /Users/jordanaaoliveira/Library/Jupyter/nbextensions/hide_header/\r\n",
      "\u001b[32m[I 14:51:32 InstallContribNbextensionsApp]\u001b[m Copying: /Users/jordanaaoliveira/opt/anaconda3/lib/python3.9/site-packages/jupyter_contrib_nbextensions/nbextensions/hide_header/hide_header.yaml -> /Users/jordanaaoliveira/Library/Jupyter/nbextensions/hide_header/hide_header.yaml\r\n",
      "\u001b[32m[I 14:51:32 InstallContribNbextensionsApp]\u001b[m Copying: /Users/jordanaaoliveira/opt/anaconda3/lib/python3.9/site-packages/jupyter_contrib_nbextensions/nbextensions/hide_header/README.md -> /Users/jordanaaoliveira/Library/Jupyter/nbextensions/hide_header/README.md\r\n",
      "\u001b[32m[I 14:51:32 InstallContribNbextensionsApp]\u001b[m Copying: /Users/jordanaaoliveira/opt/anaconda3/lib/python3.9/site-packages/jupyter_contrib_nbextensions/nbextensions/hide_header/main.js -> /Users/jordanaaoliveira/Library/Jupyter/nbextensions/hide_header/main.js\r\n",
      "\u001b[32m[I 14:51:32 InstallContribNbextensionsApp]\u001b[m - Validating: \u001b[32mOK\u001b[0m\r\n",
      "\u001b[32m[I 14:51:32 InstallContribNbextensionsApp]\u001b[m Installing /Users/jordanaaoliveira/opt/anaconda3/lib/python3.9/site-packages/jupyter_highlight_selected_word/static/highlight_selected_word -> highlight_selected_word\r\n",
      "\u001b[32m[I 14:51:32 InstallContribNbextensionsApp]\u001b[m Making directory: /Users/jordanaaoliveira/Library/Jupyter/nbextensions/highlight_selected_word/\r\n",
      "\u001b[32m[I 14:51:32 InstallContribNbextensionsApp]\u001b[m Copying: /Users/jordanaaoliveira/opt/anaconda3/lib/python3.9/site-packages/jupyter_highlight_selected_word/static/highlight_selected_word/configurator.yaml -> /Users/jordanaaoliveira/Library/Jupyter/nbextensions/highlight_selected_word/configurator.yaml\r\n",
      "\u001b[32m[I 14:51:32 InstallContribNbextensionsApp]\u001b[m Copying: /Users/jordanaaoliveira/opt/anaconda3/lib/python3.9/site-packages/jupyter_highlight_selected_word/static/highlight_selected_word/README.md -> /Users/jordanaaoliveira/Library/Jupyter/nbextensions/highlight_selected_word/README.md\r\n",
      "\u001b[32m[I 14:51:32 InstallContribNbextensionsApp]\u001b[m Copying: /Users/jordanaaoliveira/opt/anaconda3/lib/python3.9/site-packages/jupyter_highlight_selected_word/static/highlight_selected_word/main.js -> /Users/jordanaaoliveira/Library/Jupyter/nbextensions/highlight_selected_word/main.js\r\n",
      "\u001b[32m[I 14:51:32 InstallContribNbextensionsApp]\u001b[m - Validating: \u001b[32mOK\u001b[0m\r\n",
      "\u001b[32m[I 14:51:32 InstallContribNbextensionsApp]\u001b[m Installing jupyter_contrib_nbextensions items to config in /Users/jordanaaoliveira/.jupyter\r\n",
      "Enabling: jupyter_nbextensions_configurator\r\n",
      "- Writing config: /Users/jordanaaoliveira/.jupyter\r\n",
      "    - Validating...\r\n",
      "      jupyter_nbextensions_configurator 0.6.4 \u001b[32mOK\u001b[0m\r\n",
      "Enabling notebook nbextension nbextensions_configurator/config_menu/main...\r\n",
      "Enabling tree nbextension nbextensions_configurator/tree_tab/main...\r\n",
      "\u001b[32m[I 14:51:32 InstallContribNbextensionsApp]\u001b[m Enabling notebook extension contrib_nbextensions_help_item/main...\r\n",
      "\u001b[32m[I 14:51:32 InstallContribNbextensionsApp]\u001b[m       - Validating: \u001b[32mOK\u001b[0m\r\n",
      "\u001b[32m[I 14:51:32 InstallContribNbextensionsApp]\u001b[m - Editing config: /Users/jordanaaoliveira/.jupyter/jupyter_nbconvert_config.json\r\n",
      "\u001b[32m[I 14:51:32 InstallContribNbextensionsApp]\u001b[m --  Configuring nbconvert template path\r\n",
      "\u001b[32m[I 14:51:32 InstallContribNbextensionsApp]\u001b[m --  Configuring nbconvert preprocessors\r\n",
      "\u001b[32m[I 14:51:32 InstallContribNbextensionsApp]\u001b[m - Writing config: /Users/jordanaaoliveira/.jupyter/jupyter_nbconvert_config.json\r\n",
      "\u001b[32m[I 14:51:32 InstallContribNbextensionsApp]\u001b[m --  Writing updated config file /Users/jordanaaoliveira/.jupyter/jupyter_nbconvert_config.json\r\n"
     ]
    }
   ],
   "source": [
    "!jupyter contrib nbextension install --user"
   ]
  },
  {
   "cell_type": "code",
   "execution_count": 9,
   "metadata": {},
   "outputs": [
    {
     "name": "stdout",
     "output_type": "stream",
     "text": [
      "Requirement already satisfied: hide_code in /Users/jordanaaoliveira/opt/anaconda3/lib/python3.9/site-packages (0.7.0)\n",
      "Requirement already satisfied: notebook<7.0.0,>=6.4.12 in /Users/jordanaaoliveira/opt/anaconda3/lib/python3.9/site-packages (from hide_code) (6.4.12)\n",
      "Requirement already satisfied: jupyter<2.0.0,>=1.0.0 in /Users/jordanaaoliveira/opt/anaconda3/lib/python3.9/site-packages (from hide_code) (1.0.0)\n",
      "Requirement already satisfied: pdfkit<2.0.0,>=1.0.0 in /Users/jordanaaoliveira/opt/anaconda3/lib/python3.9/site-packages (from hide_code) (1.0.0)\n",
      "Requirement already satisfied: ipywidgets in /Users/jordanaaoliveira/opt/anaconda3/lib/python3.9/site-packages (from jupyter<2.0.0,>=1.0.0->hide_code) (7.6.5)\n",
      "Requirement already satisfied: nbconvert in /Users/jordanaaoliveira/opt/anaconda3/lib/python3.9/site-packages (from jupyter<2.0.0,>=1.0.0->hide_code) (6.4.4)\n",
      "Requirement already satisfied: qtconsole in /Users/jordanaaoliveira/opt/anaconda3/lib/python3.9/site-packages (from jupyter<2.0.0,>=1.0.0->hide_code) (5.3.2)\n",
      "Requirement already satisfied: jupyter-console in /Users/jordanaaoliveira/opt/anaconda3/lib/python3.9/site-packages (from jupyter<2.0.0,>=1.0.0->hide_code) (6.4.3)\n",
      "Requirement already satisfied: ipykernel in /Users/jordanaaoliveira/opt/anaconda3/lib/python3.9/site-packages (from jupyter<2.0.0,>=1.0.0->hide_code) (6.15.2)\n",
      "Requirement already satisfied: traitlets>=4.2.1 in /Users/jordanaaoliveira/opt/anaconda3/lib/python3.9/site-packages (from notebook<7.0.0,>=6.4.12->hide_code) (5.1.1)\n",
      "Requirement already satisfied: jupyter-client>=5.3.4 in /Users/jordanaaoliveira/opt/anaconda3/lib/python3.9/site-packages (from notebook<7.0.0,>=6.4.12->hide_code) (7.3.4)\n",
      "Requirement already satisfied: nest-asyncio>=1.5 in /Users/jordanaaoliveira/opt/anaconda3/lib/python3.9/site-packages (from notebook<7.0.0,>=6.4.12->hide_code) (1.5.5)\n",
      "Requirement already satisfied: ipython-genutils in /Users/jordanaaoliveira/opt/anaconda3/lib/python3.9/site-packages (from notebook<7.0.0,>=6.4.12->hide_code) (0.2.0)\n",
      "Requirement already satisfied: jupyter-core>=4.6.1 in /Users/jordanaaoliveira/opt/anaconda3/lib/python3.9/site-packages (from notebook<7.0.0,>=6.4.12->hide_code) (4.11.1)\n",
      "Requirement already satisfied: prometheus-client in /Users/jordanaaoliveira/opt/anaconda3/lib/python3.9/site-packages (from notebook<7.0.0,>=6.4.12->hide_code) (0.14.1)\n",
      "Requirement already satisfied: argon2-cffi in /Users/jordanaaoliveira/opt/anaconda3/lib/python3.9/site-packages (from notebook<7.0.0,>=6.4.12->hide_code) (21.3.0)\n",
      "Requirement already satisfied: jinja2 in /Users/jordanaaoliveira/opt/anaconda3/lib/python3.9/site-packages (from notebook<7.0.0,>=6.4.12->hide_code) (2.11.3)\n",
      "Requirement already satisfied: terminado>=0.8.3 in /Users/jordanaaoliveira/opt/anaconda3/lib/python3.9/site-packages (from notebook<7.0.0,>=6.4.12->hide_code) (0.13.1)\n",
      "Requirement already satisfied: nbformat in /Users/jordanaaoliveira/opt/anaconda3/lib/python3.9/site-packages (from notebook<7.0.0,>=6.4.12->hide_code) (5.5.0)\n",
      "Requirement already satisfied: tornado>=6.1 in /Users/jordanaaoliveira/opt/anaconda3/lib/python3.9/site-packages (from notebook<7.0.0,>=6.4.12->hide_code) (6.1)\n",
      "Requirement already satisfied: pyzmq>=17 in /Users/jordanaaoliveira/opt/anaconda3/lib/python3.9/site-packages (from notebook<7.0.0,>=6.4.12->hide_code) (23.2.0)\n",
      "Requirement already satisfied: Send2Trash>=1.8.0 in /Users/jordanaaoliveira/opt/anaconda3/lib/python3.9/site-packages (from notebook<7.0.0,>=6.4.12->hide_code) (1.8.0)\n",
      "Requirement already satisfied: entrypoints in /Users/jordanaaoliveira/opt/anaconda3/lib/python3.9/site-packages (from jupyter-client>=5.3.4->notebook<7.0.0,>=6.4.12->hide_code) (0.4)\n",
      "Requirement already satisfied: python-dateutil>=2.8.2 in /Users/jordanaaoliveira/opt/anaconda3/lib/python3.9/site-packages (from jupyter-client>=5.3.4->notebook<7.0.0,>=6.4.12->hide_code) (2.8.2)\n",
      "Requirement already satisfied: pandocfilters>=1.4.1 in /Users/jordanaaoliveira/opt/anaconda3/lib/python3.9/site-packages (from nbconvert->jupyter<2.0.0,>=1.0.0->hide_code) (1.5.0)\n",
      "Requirement already satisfied: pygments>=2.4.1 in /Users/jordanaaoliveira/opt/anaconda3/lib/python3.9/site-packages (from nbconvert->jupyter<2.0.0,>=1.0.0->hide_code) (2.11.2)\n",
      "Requirement already satisfied: beautifulsoup4 in /Users/jordanaaoliveira/opt/anaconda3/lib/python3.9/site-packages (from nbconvert->jupyter<2.0.0,>=1.0.0->hide_code) (4.11.1)\n",
      "Requirement already satisfied: mistune<2,>=0.8.1 in /Users/jordanaaoliveira/opt/anaconda3/lib/python3.9/site-packages (from nbconvert->jupyter<2.0.0,>=1.0.0->hide_code) (0.8.4)\n",
      "Requirement already satisfied: jupyterlab-pygments in /Users/jordanaaoliveira/opt/anaconda3/lib/python3.9/site-packages (from nbconvert->jupyter<2.0.0,>=1.0.0->hide_code) (0.1.2)\n",
      "Requirement already satisfied: bleach in /Users/jordanaaoliveira/opt/anaconda3/lib/python3.9/site-packages (from nbconvert->jupyter<2.0.0,>=1.0.0->hide_code) (4.1.0)\n",
      "Requirement already satisfied: testpath in /Users/jordanaaoliveira/opt/anaconda3/lib/python3.9/site-packages (from nbconvert->jupyter<2.0.0,>=1.0.0->hide_code) (0.6.0)\n",
      "Requirement already satisfied: defusedxml in /Users/jordanaaoliveira/opt/anaconda3/lib/python3.9/site-packages (from nbconvert->jupyter<2.0.0,>=1.0.0->hide_code) (0.7.1)\n",
      "Requirement already satisfied: nbclient<0.6.0,>=0.5.0 in /Users/jordanaaoliveira/opt/anaconda3/lib/python3.9/site-packages (from nbconvert->jupyter<2.0.0,>=1.0.0->hide_code) (0.5.13)\n",
      "Requirement already satisfied: MarkupSafe>=0.23 in /Users/jordanaaoliveira/opt/anaconda3/lib/python3.9/site-packages (from jinja2->notebook<7.0.0,>=6.4.12->hide_code) (2.0.1)\n",
      "Requirement already satisfied: fastjsonschema in /Users/jordanaaoliveira/opt/anaconda3/lib/python3.9/site-packages (from nbformat->notebook<7.0.0,>=6.4.12->hide_code) (2.16.2)\n",
      "Requirement already satisfied: jsonschema>=2.6 in /Users/jordanaaoliveira/opt/anaconda3/lib/python3.9/site-packages (from nbformat->notebook<7.0.0,>=6.4.12->hide_code) (4.16.0)\n",
      "Requirement already satisfied: ptyprocess in /Users/jordanaaoliveira/opt/anaconda3/lib/python3.9/site-packages (from terminado>=0.8.3->notebook<7.0.0,>=6.4.12->hide_code) (0.7.0)\n",
      "Requirement already satisfied: argon2-cffi-bindings in /Users/jordanaaoliveira/opt/anaconda3/lib/python3.9/site-packages (from argon2-cffi->notebook<7.0.0,>=6.4.12->hide_code) (21.2.0)\n",
      "Requirement already satisfied: psutil in /Users/jordanaaoliveira/opt/anaconda3/lib/python3.9/site-packages (from ipykernel->jupyter<2.0.0,>=1.0.0->hide_code) (5.9.0)\n",
      "Requirement already satisfied: packaging in /Users/jordanaaoliveira/opt/anaconda3/lib/python3.9/site-packages (from ipykernel->jupyter<2.0.0,>=1.0.0->hide_code) (21.3)\n",
      "Requirement already satisfied: matplotlib-inline>=0.1 in /Users/jordanaaoliveira/opt/anaconda3/lib/python3.9/site-packages (from ipykernel->jupyter<2.0.0,>=1.0.0->hide_code) (0.1.6)\n",
      "Requirement already satisfied: ipython>=7.23.1 in /Users/jordanaaoliveira/opt/anaconda3/lib/python3.9/site-packages (from ipykernel->jupyter<2.0.0,>=1.0.0->hide_code) (7.31.1)\n",
      "Requirement already satisfied: debugpy>=1.0 in /Users/jordanaaoliveira/opt/anaconda3/lib/python3.9/site-packages (from ipykernel->jupyter<2.0.0,>=1.0.0->hide_code) (1.5.1)\n",
      "Requirement already satisfied: appnope in /Users/jordanaaoliveira/opt/anaconda3/lib/python3.9/site-packages (from ipykernel->jupyter<2.0.0,>=1.0.0->hide_code) (0.1.2)\n",
      "Requirement already satisfied: jupyterlab-widgets>=1.0.0 in /Users/jordanaaoliveira/opt/anaconda3/lib/python3.9/site-packages (from ipywidgets->jupyter<2.0.0,>=1.0.0->hide_code) (1.0.0)\n",
      "Requirement already satisfied: widgetsnbextension~=3.5.0 in /Users/jordanaaoliveira/opt/anaconda3/lib/python3.9/site-packages (from ipywidgets->jupyter<2.0.0,>=1.0.0->hide_code) (3.5.2)\n",
      "Requirement already satisfied: prompt-toolkit!=3.0.0,!=3.0.1,<3.1.0,>=2.0.0 in /Users/jordanaaoliveira/opt/anaconda3/lib/python3.9/site-packages (from jupyter-console->jupyter<2.0.0,>=1.0.0->hide_code) (3.0.20)\n",
      "Requirement already satisfied: qtpy>=2.0.1 in /Users/jordanaaoliveira/opt/anaconda3/lib/python3.9/site-packages (from qtconsole->jupyter<2.0.0,>=1.0.0->hide_code) (2.2.0)\n",
      "Requirement already satisfied: setuptools>=18.5 in /Users/jordanaaoliveira/opt/anaconda3/lib/python3.9/site-packages (from ipython>=7.23.1->ipykernel->jupyter<2.0.0,>=1.0.0->hide_code) (63.4.1)\n"
     ]
    },
    {
     "name": "stdout",
     "output_type": "stream",
     "text": [
      "Requirement already satisfied: pickleshare in /Users/jordanaaoliveira/opt/anaconda3/lib/python3.9/site-packages (from ipython>=7.23.1->ipykernel->jupyter<2.0.0,>=1.0.0->hide_code) (0.7.5)\n",
      "Requirement already satisfied: jedi>=0.16 in /Users/jordanaaoliveira/opt/anaconda3/lib/python3.9/site-packages (from ipython>=7.23.1->ipykernel->jupyter<2.0.0,>=1.0.0->hide_code) (0.18.1)\n",
      "Requirement already satisfied: pexpect>4.3 in /Users/jordanaaoliveira/opt/anaconda3/lib/python3.9/site-packages (from ipython>=7.23.1->ipykernel->jupyter<2.0.0,>=1.0.0->hide_code) (4.8.0)\n",
      "Requirement already satisfied: backcall in /Users/jordanaaoliveira/opt/anaconda3/lib/python3.9/site-packages (from ipython>=7.23.1->ipykernel->jupyter<2.0.0,>=1.0.0->hide_code) (0.2.0)\n",
      "Requirement already satisfied: decorator in /Users/jordanaaoliveira/opt/anaconda3/lib/python3.9/site-packages (from ipython>=7.23.1->ipykernel->jupyter<2.0.0,>=1.0.0->hide_code) (5.1.1)\n",
      "Requirement already satisfied: attrs>=17.4.0 in /Users/jordanaaoliveira/opt/anaconda3/lib/python3.9/site-packages (from jsonschema>=2.6->nbformat->notebook<7.0.0,>=6.4.12->hide_code) (21.4.0)\n",
      "Requirement already satisfied: pyrsistent!=0.17.0,!=0.17.1,!=0.17.2,>=0.14.0 in /Users/jordanaaoliveira/opt/anaconda3/lib/python3.9/site-packages (from jsonschema>=2.6->nbformat->notebook<7.0.0,>=6.4.12->hide_code) (0.18.0)\n",
      "Requirement already satisfied: wcwidth in /Users/jordanaaoliveira/opt/anaconda3/lib/python3.9/site-packages (from prompt-toolkit!=3.0.0,!=3.0.1,<3.1.0,>=2.0.0->jupyter-console->jupyter<2.0.0,>=1.0.0->hide_code) (0.2.5)\n",
      "Requirement already satisfied: six>=1.5 in /Users/jordanaaoliveira/opt/anaconda3/lib/python3.9/site-packages (from python-dateutil>=2.8.2->jupyter-client>=5.3.4->notebook<7.0.0,>=6.4.12->hide_code) (1.16.0)\n",
      "Requirement already satisfied: cffi>=1.0.1 in /Users/jordanaaoliveira/opt/anaconda3/lib/python3.9/site-packages (from argon2-cffi-bindings->argon2-cffi->notebook<7.0.0,>=6.4.12->hide_code) (1.15.1)\n",
      "Requirement already satisfied: soupsieve>1.2 in /Users/jordanaaoliveira/opt/anaconda3/lib/python3.9/site-packages (from beautifulsoup4->nbconvert->jupyter<2.0.0,>=1.0.0->hide_code) (2.3.1)\n",
      "Requirement already satisfied: webencodings in /Users/jordanaaoliveira/opt/anaconda3/lib/python3.9/site-packages (from bleach->nbconvert->jupyter<2.0.0,>=1.0.0->hide_code) (0.5.1)\n",
      "Requirement already satisfied: pyparsing!=3.0.5,>=2.0.2 in /Users/jordanaaoliveira/opt/anaconda3/lib/python3.9/site-packages (from packaging->ipykernel->jupyter<2.0.0,>=1.0.0->hide_code) (3.0.9)\n",
      "Requirement already satisfied: pycparser in /Users/jordanaaoliveira/opt/anaconda3/lib/python3.9/site-packages (from cffi>=1.0.1->argon2-cffi-bindings->argon2-cffi->notebook<7.0.0,>=6.4.12->hide_code) (2.21)\n",
      "Requirement already satisfied: parso<0.9.0,>=0.8.0 in /Users/jordanaaoliveira/opt/anaconda3/lib/python3.9/site-packages (from jedi>=0.16->ipython>=7.23.1->ipykernel->jupyter<2.0.0,>=1.0.0->hide_code) (0.8.3)\n",
      "Note: you may need to restart the kernel to use updated packages.\n"
     ]
    }
   ],
   "source": [
    "pip install hide_code"
   ]
  },
  {
   "cell_type": "code",
   "execution_count": 3,
   "metadata": {},
   "outputs": [
    {
     "name": "stdout",
     "output_type": "stream",
     "text": [
      "Name: hide-code\n",
      "Version: 0.7.0\n",
      "Summary: A Jupyter notebook extension to hide code, prompts and outputs.\n",
      "Home-page: \n",
      "Author: Chris Kirby\n",
      "Author-email: kirbycm@gmail.com\n",
      "License: \n",
      "Location: /Users/jordanaaoliveira/opt/anaconda3/lib/python3.9/site-packages\n",
      "Requires: jupyter, notebook, pdfkit\n",
      "Required-by: \n",
      "Note: you may need to restart the kernel to use updated packages.\n"
     ]
    }
   ],
   "source": [
    "pip show hide_code"
   ]
  },
  {
   "cell_type": "code",
   "execution_count": 11,
   "metadata": {},
   "outputs": [
    {
     "name": "stdout",
     "output_type": "stream",
     "text": [
      "Enabling notebook extension hide_code/hide_code...\r\n",
      "      - Validating: problems found:\r\n",
      "        - require? \u001b[31m X\u001b[0m hide_code/hide_code\r\n"
     ]
    }
   ],
   "source": [
    "!jupyter nbextension enable --py --sys-prefix hide_code"
   ]
  },
  {
   "cell_type": "code",
   "execution_count": 1,
   "metadata": {},
   "outputs": [
    {
     "data": {
      "text/plain": [
       "'pt_BR.UTF-8'"
      ]
     },
     "execution_count": 1,
     "metadata": {},
     "output_type": "execute_result"
    }
   ],
   "source": [
    "from matplotlib import pyplot\n",
    "import pandas as pd\n",
    "import numpy as np\n",
    "pd.set_option('display.max_columns', None)\n",
    "pd.set_option('display.max_rows', None)\n",
    "pd.set_option('float_format', '{:.2f}'.format)\n",
    "import warnings\n",
    "warnings.filterwarnings('ignore')\n",
    "import matplotlib.pyplot as plt\n",
    "import seaborn as sns\n",
    "\n",
    "import locale\n",
    "import pandas as pd\n",
    "\n",
    "# Definir a localidade para português do Brasil (ou outra localidade que use a vírgula como separador de milhares)\n",
    "locale.setlocale(locale.LC_ALL, 'pt_BR.UTF-8')"
   ]
  },
  {
   "cell_type": "markdown",
   "metadata": {
    "tags": []
   },
   "source": [
    "## PARTE 1  - Arquivos"
   ]
  },
  {
   "cell_type": "code",
   "execution_count": null,
   "metadata": {
    "tags": []
   },
   "outputs": [],
   "source": [
    "#import os\n",
    "#for subdir, dirs, files in os.walk('./'):\n",
    "#    for file in files:\n",
    "#        print(file)"
   ]
  },
  {
   "cell_type": "markdown",
   "metadata": {
    "tags": []
   },
   "source": [
    "# Tratamento das bases de cada ano"
   ]
  },
  {
   "cell_type": "code",
   "execution_count": null,
   "metadata": {},
   "outputs": [],
   "source": [
    "# sample frac\n",
    "#p = 1.0"
   ]
  },
  {
   "cell_type": "code",
   "execution_count": 2,
   "metadata": {
    "scrolled": true,
    "tags": []
   },
   "outputs": [],
   "source": [
    "to_keep = [\n",
    "'NU_ANO'\n",
    ",'SG_UF_RESIDENCIA'\n",
    ",'NU_IDADE'\n",
    ",'TP_SEXO'\n",
    ",'TP_ESTADO_CIVIL'\n",
    ",'TP_COR_RACA'\n",
    ",'TP_NACIONALIDADE'\n",
    ",'TP_ST_CONCLUSAO'\n",
    ",'TP_ANO_CONCLUIU'\n",
    ",'TP_ESCOLA'\n",
    ",'TP_PRESENCA_MT'\n",
    ",'TP_PRESENCA_CN'\n",
    ",'TP_PRESENCA_CH'\n",
    ",'TP_PRESENCA_LC'\n",
    ",'presenca_todas'\n",
    ",'NU_NOTA_CN'\n",
    ",'NU_NOTA_CH'\n",
    ",'NU_NOTA_LC'\n",
    ",'NU_NOTA_MT'\n",
    ",'TP_STATUS_REDACAO'\n",
    ",'NU_NOTA_COMP1'\n",
    ",'NU_NOTA_COMP2'\n",
    ",'NU_NOTA_COMP3'\n",
    ",'NU_NOTA_COMP4'\n",
    ",'NU_NOTA_COMP5'\n",
    ",'NU_NOTA_REDACAO'\n",
    "#,'TP_FAIXA_ETARIA'\n",
    "#,'CO_MUNICIPIO_ESC'\n",
    "#,'NO_MUNICIPIO_ESC'\n",
    "#,'CO_UF_ESC'\n",
    "#,'SG_UF_ESC'\n",
    ",'TP_LOCALIZACAO_ESC'\n",
    "#,'TP_SIT_FUNC_ESC'\n",
    ",'CO_MUNICIPIO_PROVA'\n",
    ",'NO_MUNICIPIO_PROVA'\n",
    ",'CO_UF_PROVA'\n",
    ",'SG_UF_PROVA'\n",
    ",'Q001'\n",
    ",'Q002'\n",
    ",'Q003'\n",
    ",'Q004'\n",
    ",'Q005'\n",
    ",'Q006'\n",
    ",'Q007'\n",
    ",'Q008'\n",
    ",'Q009'\n",
    ",'Q010'\n",
    ",'Q011'\n",
    ",'Q012'\n",
    ",'Q013'\n",
    ",'Q014'\n",
    ",'Q015'\n",
    ",'Q016'\n",
    ",'Q017'\n",
    ",'Q018'\n",
    ",'Q019'\n",
    ",'Q020'\n",
    ",'Q021'\n",
    ",'Q022'\n",
    ",'Q023'\n",
    ",'Q024'\n",
    ",'Q025'\n",
    "]"
   ]
  },
  {
   "cell_type": "markdown",
   "metadata": {
    "tags": []
   },
   "source": [
    "# 2015 - F1"
   ]
  },
  {
   "cell_type": "code",
   "execution_count": null,
   "metadata": {},
   "outputs": [],
   "source": [
    "#2015_F = (4.460.448, 167)\n",
    "#2015_M = (3.285.979, 167)----T2015= 7.746.427\n",
    "#2016_F = (4.982.639, 167)\n",
    "#2016_M = (3.644.728, 167)----T2016= 8.627.367\n",
    "#2017   = (6.731.341, 137)\n",
    "#2018   = (5.513.747, 137)\n",
    "#2019   = (5.095.270, 136)\n",
    "#2020   = (5.783.109, 76)\n",
    "#2021   = (3.389.832, 76)\n",
    "#2022   = (3.476.105, 76)\n",
    "\n",
    "\n",
    "#TP_PRESENCA\n",
    "#0\tFaltou à prova\n",
    "#1\tPresente na prova\n",
    "#2\tEliminado na prova\n",
    "#-1 missing"
   ]
  },
  {
   "cell_type": "code",
   "execution_count": null,
   "metadata": {
    "tags": []
   },
   "outputs": [],
   "source": [
    "#importando o arquivo\n",
    "file = 'MICRODADOS_ENEM_2015_F.csv'\n",
    "df_file = pd.read_csv(file, sep = ',', encoding = 'ISO-8859-1')"
   ]
  },
  {
   "cell_type": "code",
   "execution_count": null,
   "metadata": {},
   "outputs": [],
   "source": [
    "df_file.shape"
   ]
  },
  {
   "cell_type": "code",
   "execution_count": null,
   "metadata": {},
   "outputs": [],
   "source": [
    "#preenchendo os missings com -1\n",
    "df_file=df_file.fillna(-1)"
   ]
  },
  {
   "cell_type": "code",
   "execution_count": null,
   "metadata": {},
   "outputs": [],
   "source": [
    "def quantidades(df_file, var):\n",
    "    aux = df_file[[var]]\n",
    "    a = aux.groupby([var]).size().reset_index(name = 'qtde')\n",
    "    return a"
   ]
  },
  {
   "cell_type": "code",
   "execution_count": null,
   "metadata": {
    "scrolled": true
   },
   "outputs": [],
   "source": [
    "quantidades(df_file, 'TP_PRESENCA_MT')"
   ]
  },
  {
   "cell_type": "code",
   "execution_count": null,
   "metadata": {},
   "outputs": [],
   "source": [
    "df_file['presenca_todas'] = np.where((df_file.TP_PRESENCA_MT == 1.0) & \n",
    "                                     (df_file.TP_PRESENCA_CH == 1.0) &\n",
    "                                     (df_file.TP_PRESENCA_CN == 1.0) &\n",
    "                                     (df_file.TP_PRESENCA_LC == 1.0), 1, 0)"
   ]
  },
  {
   "cell_type": "code",
   "execution_count": null,
   "metadata": {},
   "outputs": [],
   "source": [
    "def quantidades(df, var1, var2, var3, var4, var5):\n",
    "    aux = df[[var1, var2, var3, var4, var5]]\n",
    "    a = aux.groupby([var1, var2, var3, var4, var5]).size().reset_index(name = 'qtde')\n",
    "    return a"
   ]
  },
  {
   "cell_type": "code",
   "execution_count": null,
   "metadata": {},
   "outputs": [],
   "source": [
    "quantidades(df_file, 'TP_PRESENCA_MT', 'TP_PRESENCA_CN','TP_PRESENCA_LC','TP_PRESENCA_CH','presenca_todas')"
   ]
  },
  {
   "cell_type": "code",
   "execution_count": null,
   "metadata": {},
   "outputs": [],
   "source": [
    "df_file = df_file[df_file['presenca_todas'] == 1]"
   ]
  },
  {
   "cell_type": "code",
   "execution_count": null,
   "metadata": {},
   "outputs": [],
   "source": [
    "df_file.shape"
   ]
  },
  {
   "cell_type": "code",
   "execution_count": null,
   "metadata": {},
   "outputs": [],
   "source": [
    "df_sample = df_file.sample(frac = p)\n",
    "df_file.shape"
   ]
  },
  {
   "cell_type": "code",
   "execution_count": null,
   "metadata": {},
   "outputs": [],
   "source": [
    "df_sample.shape"
   ]
  },
  {
   "cell_type": "code",
   "execution_count": null,
   "metadata": {},
   "outputs": [],
   "source": [
    "del df_file"
   ]
  },
  {
   "cell_type": "code",
   "execution_count": null,
   "metadata": {},
   "outputs": [],
   "source": [
    "df_sample = df_sample[to_keep]\n",
    "df_sample.shape"
   ]
  },
  {
   "cell_type": "code",
   "execution_count": null,
   "metadata": {
    "tags": []
   },
   "outputs": [],
   "source": [
    "df_sample.to_csv('df_2015_f1.csv', sep = ';', index = False)"
   ]
  },
  {
   "cell_type": "markdown",
   "metadata": {
    "jp-MarkdownHeadingCollapsed": true,
    "tags": []
   },
   "source": [
    "# 2015 - M"
   ]
  },
  {
   "cell_type": "code",
   "execution_count": null,
   "metadata": {
    "tags": []
   },
   "outputs": [],
   "source": [
    "file = 'MICRODADOS_ENEM_2015_M.csv'\n",
    "df_file = pd.read_csv(file, sep = ',', encoding = 'ISO-8859-1')\n",
    "df_file.shape"
   ]
  },
  {
   "cell_type": "code",
   "execution_count": null,
   "metadata": {},
   "outputs": [],
   "source": [
    "#preenchendo os missings com -1\n",
    "df_file=df_file.fillna(-1)"
   ]
  },
  {
   "cell_type": "code",
   "execution_count": null,
   "metadata": {},
   "outputs": [],
   "source": [
    "df_file['presenca_todas'] = np.where((df_file.TP_PRESENCA_MT == 1.0) & \n",
    "                                     (df_file.TP_PRESENCA_CH == 1.0) &\n",
    "                                     (df_file.TP_PRESENCA_CN == 1.0) &\n",
    "                                     (df_file.TP_PRESENCA_LC == 1.0), 1, 0)"
   ]
  },
  {
   "cell_type": "code",
   "execution_count": null,
   "metadata": {},
   "outputs": [],
   "source": [
    "def quantidades(df, var1, var2, var3, var4, var5):\n",
    "    aux = df[[var1, var2, var3, var4, var5]]\n",
    "    a = aux.groupby([var1, var2, var3, var4, var5]).size().reset_index(name = 'qtde')\n",
    "    return a"
   ]
  },
  {
   "cell_type": "code",
   "execution_count": null,
   "metadata": {},
   "outputs": [],
   "source": [
    "quantidades(df_file, 'TP_PRESENCA_MT', 'TP_PRESENCA_CN','TP_PRESENCA_LC','TP_PRESENCA_CH','presenca_todas')"
   ]
  },
  {
   "cell_type": "code",
   "execution_count": null,
   "metadata": {},
   "outputs": [],
   "source": [
    "df_file = df_file[df_file['presenca_todas'] == 1]"
   ]
  },
  {
   "cell_type": "code",
   "execution_count": null,
   "metadata": {},
   "outputs": [],
   "source": [
    "df_file.shape"
   ]
  },
  {
   "cell_type": "code",
   "execution_count": null,
   "metadata": {},
   "outputs": [],
   "source": [
    "df_sample = df_file.sample(frac = p)\n",
    "df_sample.shape"
   ]
  },
  {
   "cell_type": "code",
   "execution_count": null,
   "metadata": {},
   "outputs": [],
   "source": [
    "del df_file"
   ]
  },
  {
   "cell_type": "code",
   "execution_count": null,
   "metadata": {},
   "outputs": [],
   "source": [
    "df_sample = df_sample[to_keep]\n",
    "df_sample.shape"
   ]
  },
  {
   "cell_type": "code",
   "execution_count": null,
   "metadata": {
    "tags": []
   },
   "outputs": [],
   "source": [
    "df_sample.to_csv('df_2015_m1.csv', sep = ';', index = False)"
   ]
  },
  {
   "cell_type": "markdown",
   "metadata": {
    "jp-MarkdownHeadingCollapsed": true,
    "tags": []
   },
   "source": [
    "# 2016 - F"
   ]
  },
  {
   "cell_type": "code",
   "execution_count": null,
   "metadata": {
    "tags": []
   },
   "outputs": [],
   "source": [
    "file = 'MICRODADOS_ENEM_2016_F.csv'\n",
    "df_file = pd.read_csv(file, sep = ',', encoding = 'ISO-8859-1')\n",
    "df_file.shape"
   ]
  },
  {
   "cell_type": "code",
   "execution_count": null,
   "metadata": {},
   "outputs": [],
   "source": [
    "#preenchendo os missings com -1\n",
    "df_file=df_file.fillna(-1)"
   ]
  },
  {
   "cell_type": "code",
   "execution_count": null,
   "metadata": {},
   "outputs": [],
   "source": [
    "df_file['presenca_todas'] = np.where((df_file.TP_PRESENCA_MT == 1.0) & \n",
    "                                     (df_file.TP_PRESENCA_CH == 1.0) &\n",
    "                                     (df_file.TP_PRESENCA_CN == 1.0) &\n",
    "                                     (df_file.TP_PRESENCA_LC == 1.0), 1, 0)"
   ]
  },
  {
   "cell_type": "code",
   "execution_count": null,
   "metadata": {},
   "outputs": [],
   "source": [
    "def quantidades(df, var1, var2, var3, var4, var5):\n",
    "    aux = df[[var1, var2, var3, var4, var5]]\n",
    "    a = aux.groupby([var1, var2, var3, var4, var5]).size().reset_index(name = 'qtde')\n",
    "    return a"
   ]
  },
  {
   "cell_type": "code",
   "execution_count": null,
   "metadata": {},
   "outputs": [],
   "source": [
    "quantidades(df_file, 'TP_PRESENCA_MT', 'TP_PRESENCA_CN','TP_PRESENCA_LC','TP_PRESENCA_CH','presenca_todas')"
   ]
  },
  {
   "cell_type": "code",
   "execution_count": null,
   "metadata": {},
   "outputs": [],
   "source": [
    "df_file = df_file[df_file['presenca_todas'] == 1]\n",
    "df_file.shape"
   ]
  },
  {
   "cell_type": "code",
   "execution_count": null,
   "metadata": {},
   "outputs": [],
   "source": [
    "df_sample = df_file.sample(frac = p)\n",
    "df_file.shape"
   ]
  },
  {
   "cell_type": "code",
   "execution_count": null,
   "metadata": {},
   "outputs": [],
   "source": [
    "del df_file"
   ]
  },
  {
   "cell_type": "code",
   "execution_count": null,
   "metadata": {
    "tags": []
   },
   "outputs": [],
   "source": [
    "df_sample = df_sample[to_keep]\n",
    "df_sample.shape"
   ]
  },
  {
   "cell_type": "code",
   "execution_count": null,
   "metadata": {
    "tags": []
   },
   "outputs": [],
   "source": [
    "df_sample.to_csv('df_2016_f1.csv', sep = ';', index = False)"
   ]
  },
  {
   "cell_type": "markdown",
   "metadata": {
    "jp-MarkdownHeadingCollapsed": true,
    "tags": []
   },
   "source": [
    "# 2016 - M"
   ]
  },
  {
   "cell_type": "code",
   "execution_count": null,
   "metadata": {
    "tags": []
   },
   "outputs": [],
   "source": [
    "file = 'MICRODADOS_ENEM_2016_M.csv'\n",
    "df_file = pd.read_csv(file, sep = ',', encoding = 'ISO-8859-1')\n",
    "df_file.shape"
   ]
  },
  {
   "cell_type": "code",
   "execution_count": null,
   "metadata": {},
   "outputs": [],
   "source": [
    "#preenchendo os missings com -1\n",
    "df_file=df_file.fillna(-1)"
   ]
  },
  {
   "cell_type": "code",
   "execution_count": null,
   "metadata": {},
   "outputs": [],
   "source": [
    "df_file['presenca_todas'] = np.where((df_file.TP_PRESENCA_MT == 1.0) & \n",
    "                                     (df_file.TP_PRESENCA_CH == 1.0) &\n",
    "                                     (df_file.TP_PRESENCA_CN == 1.0) &\n",
    "                                     (df_file.TP_PRESENCA_LC == 1.0), 1, 0)"
   ]
  },
  {
   "cell_type": "code",
   "execution_count": null,
   "metadata": {},
   "outputs": [],
   "source": [
    "def quantidades(df, var1, var2, var3, var4, var5):\n",
    "    aux = df[[var1, var2, var3, var4, var5]]\n",
    "    a = aux.groupby([var1, var2, var3, var4, var5]).size().reset_index(name = 'qtde')\n",
    "    return a"
   ]
  },
  {
   "cell_type": "code",
   "execution_count": null,
   "metadata": {},
   "outputs": [],
   "source": [
    "quantidades(df_file, 'TP_PRESENCA_MT', 'TP_PRESENCA_CN','TP_PRESENCA_LC','TP_PRESENCA_CH','presenca_todas')"
   ]
  },
  {
   "cell_type": "code",
   "execution_count": null,
   "metadata": {},
   "outputs": [],
   "source": [
    "df_file = df_file[df_file['presenca_todas'] == 1]\n",
    "df_file.shape"
   ]
  },
  {
   "cell_type": "code",
   "execution_count": null,
   "metadata": {},
   "outputs": [],
   "source": [
    "df_sample = df_file.sample(frac = p)\n",
    "df_file.shape"
   ]
  },
  {
   "cell_type": "code",
   "execution_count": null,
   "metadata": {},
   "outputs": [],
   "source": [
    "del df_file"
   ]
  },
  {
   "cell_type": "code",
   "execution_count": null,
   "metadata": {
    "scrolled": true
   },
   "outputs": [],
   "source": [
    "df_sample = df_sample[to_keep]\n",
    "df_sample.shape"
   ]
  },
  {
   "cell_type": "code",
   "execution_count": null,
   "metadata": {
    "tags": []
   },
   "outputs": [],
   "source": [
    "df_sample.to_csv('df_2016_m1.csv', sep = ';', index = False)"
   ]
  },
  {
   "cell_type": "markdown",
   "metadata": {
    "jp-MarkdownHeadingCollapsed": true,
    "tags": []
   },
   "source": [
    "# 2017"
   ]
  },
  {
   "cell_type": "code",
   "execution_count": null,
   "metadata": {
    "tags": []
   },
   "outputs": [],
   "source": [
    "file = 'MICRODADOS_ENEM_2017.csv'\n",
    "df_file = pd.read_csv(file, sep = ';', encoding = 'ISO-8859-1')\n",
    "df_file.shape"
   ]
  },
  {
   "cell_type": "code",
   "execution_count": null,
   "metadata": {},
   "outputs": [],
   "source": [
    "#preenchendo os missings com -1\n",
    "df_file=df_file.fillna(-1)"
   ]
  },
  {
   "cell_type": "code",
   "execution_count": null,
   "metadata": {},
   "outputs": [],
   "source": [
    "df_file['presenca_todas'] = np.where((df_file.TP_PRESENCA_MT == 1.0) & \n",
    "                                     (df_file.TP_PRESENCA_CH == 1.0) &\n",
    "                                     (df_file.TP_PRESENCA_CN == 1.0) &\n",
    "                                     (df_file.TP_PRESENCA_LC == 1.0), 1, 0)"
   ]
  },
  {
   "cell_type": "code",
   "execution_count": null,
   "metadata": {},
   "outputs": [],
   "source": [
    "def quantidades(df, var1, var2, var3, var4, var5):\n",
    "    aux = df[[var1, var2, var3, var4, var5]]\n",
    "    a = aux.groupby([var1, var2, var3, var4, var5]).size().reset_index(name = 'qtde')\n",
    "    return a\n",
    "quantidades(df_file, 'TP_PRESENCA_MT', 'TP_PRESENCA_CN','TP_PRESENCA_LC','TP_PRESENCA_CH','presenca_todas')"
   ]
  },
  {
   "cell_type": "code",
   "execution_count": null,
   "metadata": {},
   "outputs": [],
   "source": [
    "df_file = df_file[df_file['presenca_todas'] == 1]\n",
    "df_file.shape"
   ]
  },
  {
   "cell_type": "code",
   "execution_count": null,
   "metadata": {},
   "outputs": [],
   "source": [
    "df_sample = df_file.sample(frac = p)\n",
    "df_file.shape"
   ]
  },
  {
   "cell_type": "code",
   "execution_count": null,
   "metadata": {},
   "outputs": [],
   "source": [
    "del df_file\n",
    "df_sample = df_sample[to_keep]\n",
    "df_sample.shape"
   ]
  },
  {
   "cell_type": "code",
   "execution_count": null,
   "metadata": {
    "tags": []
   },
   "outputs": [],
   "source": [
    "df_sample.to_csv('df_2017_1.csv', sep = ';', index = False)"
   ]
  },
  {
   "cell_type": "markdown",
   "metadata": {
    "jp-MarkdownHeadingCollapsed": true,
    "tags": []
   },
   "source": [
    "# 2018"
   ]
  },
  {
   "cell_type": "code",
   "execution_count": null,
   "metadata": {
    "tags": []
   },
   "outputs": [],
   "source": [
    "file = 'MICRODADOS_ENEM_2018.csv'\n",
    "df_file = pd.read_csv(file, sep = ';', encoding = 'ISO-8859-1')\n",
    "df_file.shape"
   ]
  },
  {
   "cell_type": "code",
   "execution_count": null,
   "metadata": {},
   "outputs": [],
   "source": [
    "#preenchendo os missings com -1\n",
    "df_file=df_file.fillna(-1)"
   ]
  },
  {
   "cell_type": "code",
   "execution_count": null,
   "metadata": {},
   "outputs": [],
   "source": [
    "df_file['presenca_todas'] = np.where((df_file.TP_PRESENCA_MT == 1.0) & \n",
    "                                     (df_file.TP_PRESENCA_CH == 1.0) &\n",
    "                                     (df_file.TP_PRESENCA_CN == 1.0) &\n",
    "                                     (df_file.TP_PRESENCA_LC == 1.0), 1, 0)"
   ]
  },
  {
   "cell_type": "code",
   "execution_count": null,
   "metadata": {},
   "outputs": [],
   "source": [
    "def quantidades(df, var1, var2, var3, var4, var5):\n",
    "    aux = df[[var1, var2, var3, var4, var5]]\n",
    "    a = aux.groupby([var1, var2, var3, var4, var5]).size().reset_index(name = 'qtde')\n",
    "    return a\n",
    "quantidades(df_file, 'TP_PRESENCA_MT', 'TP_PRESENCA_CN','TP_PRESENCA_LC','TP_PRESENCA_CH','presenca_todas')"
   ]
  },
  {
   "cell_type": "code",
   "execution_count": null,
   "metadata": {},
   "outputs": [],
   "source": [
    "df_file = df_file[df_file['presenca_todas'] == 1]\n",
    "df_file.shape"
   ]
  },
  {
   "cell_type": "code",
   "execution_count": null,
   "metadata": {},
   "outputs": [],
   "source": [
    "df_sample = df_file.sample(frac = p)\n",
    "df_file.shape"
   ]
  },
  {
   "cell_type": "code",
   "execution_count": null,
   "metadata": {},
   "outputs": [],
   "source": [
    "del df_file\n",
    "df_sample = df_sample[to_keep]\n",
    "df_sample.shape"
   ]
  },
  {
   "cell_type": "code",
   "execution_count": null,
   "metadata": {
    "tags": []
   },
   "outputs": [],
   "source": [
    "df_sample.to_csv('df_2018_1.csv', sep = ';', index = False)"
   ]
  },
  {
   "cell_type": "markdown",
   "metadata": {
    "jp-MarkdownHeadingCollapsed": true,
    "tags": []
   },
   "source": [
    "# 2019"
   ]
  },
  {
   "cell_type": "code",
   "execution_count": null,
   "metadata": {
    "tags": []
   },
   "outputs": [],
   "source": [
    "file = 'MICRODADOS_ENEM_2019.csv'\n",
    "df_file = pd.read_csv(file, sep = ';', encoding = 'ISO-8859-1')\n",
    "df_file.shape"
   ]
  },
  {
   "cell_type": "code",
   "execution_count": null,
   "metadata": {},
   "outputs": [],
   "source": [
    "#preenchendo os missings com -1\n",
    "df_file=df_file.fillna(-1)"
   ]
  },
  {
   "cell_type": "code",
   "execution_count": null,
   "metadata": {},
   "outputs": [],
   "source": [
    "df_file['presenca_todas'] = np.where((df_file.TP_PRESENCA_MT == 1.0) & \n",
    "                                     (df_file.TP_PRESENCA_CH == 1.0) &\n",
    "                                     (df_file.TP_PRESENCA_CN == 1.0) &\n",
    "                                     (df_file.TP_PRESENCA_LC == 1.0), 1, 0)"
   ]
  },
  {
   "cell_type": "code",
   "execution_count": null,
   "metadata": {},
   "outputs": [],
   "source": [
    "def quantidades(df, var1, var2, var3, var4, var5):\n",
    "    aux = df[[var1, var2, var3, var4, var5]]\n",
    "    a = aux.groupby([var1, var2, var3, var4, var5]).size().reset_index(name = 'qtde')\n",
    "    return a\n",
    "quantidades(df_file, 'TP_PRESENCA_MT', 'TP_PRESENCA_CN','TP_PRESENCA_LC','TP_PRESENCA_CH','presenca_todas')"
   ]
  },
  {
   "cell_type": "code",
   "execution_count": null,
   "metadata": {},
   "outputs": [],
   "source": [
    "df_file = df_file[df_file['presenca_todas'] == 1]\n",
    "df_file.shape"
   ]
  },
  {
   "cell_type": "code",
   "execution_count": null,
   "metadata": {},
   "outputs": [],
   "source": [
    "df_sample = df_file.sample(frac = p)"
   ]
  },
  {
   "cell_type": "code",
   "execution_count": null,
   "metadata": {},
   "outputs": [],
   "source": [
    "del df_file\n",
    "df_sample = df_sample[to_keep]\n",
    "df_sample.shape"
   ]
  },
  {
   "cell_type": "code",
   "execution_count": null,
   "metadata": {
    "tags": []
   },
   "outputs": [],
   "source": [
    "df_sample.to_csv('df_2019_1.csv', sep = ';', index = False)"
   ]
  },
  {
   "cell_type": "markdown",
   "metadata": {
    "jp-MarkdownHeadingCollapsed": true,
    "tags": []
   },
   "source": [
    "# 2020 - Novo layout"
   ]
  },
  {
   "cell_type": "code",
   "execution_count": null,
   "metadata": {
    "tags": []
   },
   "outputs": [],
   "source": [
    "file = 'MICRODADOS_ENEM_2020.csv'\n",
    "df_file = pd.read_csv(file, sep = ';', encoding = 'ISO-8859-1')\n",
    "df_file.shape"
   ]
  },
  {
   "cell_type": "code",
   "execution_count": null,
   "metadata": {},
   "outputs": [],
   "source": [
    "#preenchendo os missings com -1\n",
    "df_file=df_file.fillna(-1)"
   ]
  },
  {
   "cell_type": "code",
   "execution_count": null,
   "metadata": {},
   "outputs": [],
   "source": [
    "df_file['presenca_todas'] = np.where((df_file.TP_PRESENCA_MT == 1.0) & \n",
    "                                     (df_file.TP_PRESENCA_CH == 1.0) &\n",
    "                                     (df_file.TP_PRESENCA_CN == 1.0) &\n",
    "                                     (df_file.TP_PRESENCA_LC == 1.0), 1, 0)"
   ]
  },
  {
   "cell_type": "code",
   "execution_count": null,
   "metadata": {
    "scrolled": true
   },
   "outputs": [],
   "source": [
    "def quantidades(df, var1, var2, var3, var4, var5):\n",
    "    aux = df[[var1, var2, var3, var4, var5]]\n",
    "    a = aux.groupby([var1, var2, var3, var4, var5]).size().reset_index(name = 'qtde')\n",
    "    return a\n",
    "quantidades(df_file, 'TP_PRESENCA_MT', 'TP_PRESENCA_CN','TP_PRESENCA_LC','TP_PRESENCA_CH','presenca_todas')"
   ]
  },
  {
   "cell_type": "code",
   "execution_count": null,
   "metadata": {},
   "outputs": [],
   "source": [
    "df_file = df_file[df_file['presenca_todas'] == 1]\n",
    "df_file.shape"
   ]
  },
  {
   "cell_type": "code",
   "execution_count": null,
   "metadata": {},
   "outputs": [],
   "source": [
    "df_sample = df_file.sample(frac = p)"
   ]
  },
  {
   "cell_type": "code",
   "execution_count": null,
   "metadata": {},
   "outputs": [],
   "source": [
    "del df_file"
   ]
  },
  {
   "cell_type": "code",
   "execution_count": null,
   "metadata": {
    "tags": []
   },
   "outputs": [],
   "source": [
    "df_sample['SG_UF_RESIDENCIA'] = df_sample['SG_UF_PROVA']\n",
    "df_sample['NU_IDADE'] = df_sample['TP_FAIXA_ETARIA']"
   ]
  },
  {
   "cell_type": "code",
   "execution_count": null,
   "metadata": {},
   "outputs": [],
   "source": [
    "#harmonizar fx etaria e Nu_idade\n",
    "#1\tMenor de 17 anos\t16\n",
    "#2\t17 anos\t17\n",
    "#3\t18 anos\t18\n",
    "#4\t19 anos\t19\n",
    "#5\t20 anos\t20\n",
    "#6\t21 anos\t21\n",
    "#7\t22 anos\t22\n",
    "#8\t23 anos\t23\n",
    "#9\t24 anos\t24\n",
    "#10\t25 anos\t25\n",
    "#11\tEntre 26 e 30 anos\t28\n",
    "#12\tEntre 31 e 35 anos\t33\n",
    "#13\tEntre 36 e 40 anos\t38\n",
    "#14\tEntre 41 e 45 anos\t43\n",
    "#15\tEntre 46 e 50 anos\t48\n",
    "#16\tEntre 51 e 55 anos\t52\n",
    "#17\tEntre 56 e 60 anos\t58\n",
    "#18\tEntre 61 e 65 anos\t63\n",
    "#19\tEntre 66 e 70 anos\t68\n",
    "#20\tMaior de 70 anos\t70"
   ]
  },
  {
   "cell_type": "code",
   "execution_count": null,
   "metadata": {},
   "outputs": [],
   "source": [
    "df_sample['NU_IDADE1']=np.where(df_sample.NU_IDADE == 1, 16,\n",
    "                         np.where(df_sample.NU_IDADE == 2, 17,\n",
    "                                  np.where(df_sample.NU_IDADE == 3, 18,\n",
    "                                           np.where(df_sample.NU_IDADE == 4, 19,\n",
    "                                                    np.where(df_sample.NU_IDADE == 5, 20,\n",
    "                                                             np.where(df_sample.NU_IDADE == 6, 21,\n",
    "                                                                      np.where(df_sample.NU_IDADE == 7, 22,\n",
    "                                                                               np.where(df_sample.NU_IDADE == 8, 23,\n",
    "                                                                                        np.where(df_sample.NU_IDADE == 9, 24,\n",
    "                                                                                                 np.where(df_sample.NU_IDADE == 10, 25,\n",
    "                                                                                                          np.where(df_sample.NU_IDADE == 11, 28,\n",
    "                                                                                                                   np.where(df_sample.NU_IDADE == 12, 33,\n",
    "                                                                                                                            np.where(df_sample.NU_IDADE == 13, 38,\n",
    "                                                                                                                                     np.where(df_sample.NU_IDADE == 14, 43,\n",
    "                                                                                                                                              np.where(df_sample.NU_IDADE == 15, 48,\n",
    "                                                                                                                                                      np.where(df_sample.NU_IDADE == 16, 52,\n",
    "                                                                                                                                                              np.where(df_sample.NU_IDADE == 17, 58,\n",
    "                                                                                                                                                                      np.where(df_sample.NU_IDADE == 18, 63,\n",
    "                                                                                                                                                                              np.where(df_sample.NU_IDADE == 19, 68, 70)))))))))))))))))))"
   ]
  },
  {
   "cell_type": "code",
   "execution_count": null,
   "metadata": {},
   "outputs": [],
   "source": [
    "df_sample['NU_IDADE'] = df_sample['NU_IDADE1']"
   ]
  },
  {
   "cell_type": "code",
   "execution_count": null,
   "metadata": {},
   "outputs": [],
   "source": [
    "df_sample.shape"
   ]
  },
  {
   "cell_type": "code",
   "execution_count": null,
   "metadata": {
    "tags": []
   },
   "outputs": [],
   "source": [
    "to_keep = [\n",
    "'NU_ANO'\n",
    ",'SG_UF_RESIDENCIA'\n",
    ",'NU_IDADE'\n",
    ",'TP_SEXO'\n",
    ",'TP_ESTADO_CIVIL'\n",
    ",'TP_COR_RACA'\n",
    ",'TP_NACIONALIDADE'\n",
    ",'TP_ST_CONCLUSAO'\n",
    ",'TP_ANO_CONCLUIU'\n",
    ",'TP_ESCOLA'\n",
    ",'TP_PRESENCA_MT'\n",
    ",'TP_PRESENCA_CN'\n",
    ",'TP_PRESENCA_CH'\n",
    ",'TP_PRESENCA_LC'\n",
    ",'presenca_todas'\n",
    ",'NU_NOTA_CN'\n",
    ",'NU_NOTA_CH'\n",
    ",'NU_NOTA_LC'\n",
    ",'NU_NOTA_MT'\n",
    ",'TP_STATUS_REDACAO'\n",
    ",'NU_NOTA_COMP1'\n",
    ",'NU_NOTA_COMP2'\n",
    ",'NU_NOTA_COMP3'\n",
    ",'NU_NOTA_COMP4'\n",
    ",'NU_NOTA_COMP5'\n",
    ",'NU_NOTA_REDACAO'\n",
    "#,'TP_FAIXA_ETARIA'\n",
    "#,'CO_MUNICIPIO_ESC'\n",
    "#,'NO_MUNICIPIO_ESC'\n",
    "#,'CO_UF_ESC'\n",
    "#,'SG_UF_ESC'\n",
    ",'TP_LOCALIZACAO_ESC'\n",
    "#,'TP_SIT_FUNC_ESC'\n",
    ",'CO_MUNICIPIO_PROVA'\n",
    ",'NO_MUNICIPIO_PROVA'\n",
    ",'CO_UF_PROVA'\n",
    ",'SG_UF_PROVA'\n",
    ",'Q001'\n",
    ",'Q002'\n",
    ",'Q003'\n",
    ",'Q004'\n",
    ",'Q005'\n",
    ",'Q006'\n",
    ",'Q007'\n",
    ",'Q008'\n",
    ",'Q009'\n",
    ",'Q010'\n",
    ",'Q011'\n",
    ",'Q012'\n",
    ",'Q013'\n",
    ",'Q014'\n",
    ",'Q015'\n",
    ",'Q016'\n",
    ",'Q017'\n",
    ",'Q018'\n",
    ",'Q019'\n",
    ",'Q020'\n",
    ",'Q021'\n",
    ",'Q022'\n",
    ",'Q023'\n",
    ",'Q024'\n",
    ",'Q025'\n",
    "]"
   ]
  },
  {
   "cell_type": "code",
   "execution_count": null,
   "metadata": {},
   "outputs": [],
   "source": [
    "df_sample = df_sample[to_keep]\n",
    "print(df_sample.shape)"
   ]
  },
  {
   "cell_type": "code",
   "execution_count": null,
   "metadata": {
    "tags": []
   },
   "outputs": [],
   "source": [
    "df_sample.to_csv('df_2020_1.csv', sep = ';', index = False)"
   ]
  },
  {
   "cell_type": "markdown",
   "metadata": {
    "jp-MarkdownHeadingCollapsed": true,
    "tags": []
   },
   "source": [
    "# 2021 - Novo layout"
   ]
  },
  {
   "cell_type": "code",
   "execution_count": null,
   "metadata": {
    "tags": []
   },
   "outputs": [],
   "source": [
    "file = 'MICRODADOS_ENEM_2021.csv'\n",
    "df_file = pd.read_csv(file, sep = ';', encoding = 'ISO-8859-1')\n",
    "df_file.shape"
   ]
  },
  {
   "cell_type": "code",
   "execution_count": null,
   "metadata": {},
   "outputs": [],
   "source": [
    "#preenchendo os missings com -1\n",
    "df_file=df_file.fillna(-1)\n",
    "\n",
    "df_file['presenca_todas'] = np.where((df_file.TP_PRESENCA_MT == 1.0) & \n",
    "                                     (df_file.TP_PRESENCA_CH == 1.0) &\n",
    "                                     (df_file.TP_PRESENCA_CN == 1.0) &\n",
    "                                     (df_file.TP_PRESENCA_LC == 1.0), 1, 0)\n",
    "\n",
    "def quantidades(df, var1, var2, var3, var4, var5):\n",
    "    aux = df[[var1, var2, var3, var4, var5]]\n",
    "    a = aux.groupby([var1, var2, var3, var4, var5]).size().reset_index(name = 'qtde')\n",
    "    return a\n",
    "quantidades(df_file, 'TP_PRESENCA_MT', 'TP_PRESENCA_CN','TP_PRESENCA_LC','TP_PRESENCA_CH','presenca_todas')"
   ]
  },
  {
   "cell_type": "code",
   "execution_count": null,
   "metadata": {},
   "outputs": [],
   "source": [
    "df_file = df_file[df_file['presenca_todas'] == 1]\n",
    "df_file.shape"
   ]
  },
  {
   "cell_type": "code",
   "execution_count": null,
   "metadata": {},
   "outputs": [],
   "source": [
    "df_sample = df_file.sample(frac = p)"
   ]
  },
  {
   "cell_type": "code",
   "execution_count": null,
   "metadata": {},
   "outputs": [],
   "source": [
    "del df_file"
   ]
  },
  {
   "cell_type": "code",
   "execution_count": null,
   "metadata": {},
   "outputs": [],
   "source": [
    "df_sample['SG_UF_RESIDENCIA'] = df_sample['SG_UF_PROVA']\n",
    "df_sample['NU_IDADE'] = df_sample['TP_FAIXA_ETARIA']"
   ]
  },
  {
   "cell_type": "code",
   "execution_count": null,
   "metadata": {},
   "outputs": [],
   "source": [
    "df_sample['NU_IDADE1']=np.where(df_sample.NU_IDADE == 1, 16,\n",
    "                         np.where(df_sample.NU_IDADE == 2, 17,\n",
    "                                  np.where(df_sample.NU_IDADE == 3, 18,\n",
    "                                           np.where(df_sample.NU_IDADE == 4, 19,\n",
    "                                                    np.where(df_sample.NU_IDADE == 5, 20,\n",
    "                                                             np.where(df_sample.NU_IDADE == 6, 21,\n",
    "                                                                      np.where(df_sample.NU_IDADE == 7, 22,\n",
    "                                                                               np.where(df_sample.NU_IDADE == 8, 23,\n",
    "                                                                                        np.where(df_sample.NU_IDADE == 9, 24,\n",
    "                                                                                                 np.where(df_sample.NU_IDADE == 10, 25,\n",
    "                                                                                                          np.where(df_sample.NU_IDADE == 11, 28,\n",
    "                                                                                                                   np.where(df_sample.NU_IDADE == 12, 33,\n",
    "                                                                                                                            np.where(df_sample.NU_IDADE == 13, 38,\n",
    "                                                                                                                                     np.where(df_sample.NU_IDADE == 14, 43,\n",
    "                                                                                                                                              np.where(df_sample.NU_IDADE == 15, 48,\n",
    "                                                                                                                                                      np.where(df_sample.NU_IDADE == 16, 52,\n",
    "                                                                                                                                                              np.where(df_sample.NU_IDADE == 17, 58,\n",
    "                                                                                                                                                                      np.where(df_sample.NU_IDADE == 18, 63,\n",
    "                                                                                                                                                                              np.where(df_sample.NU_IDADE == 19, 68, 70)))))))))))))))))))"
   ]
  },
  {
   "cell_type": "code",
   "execution_count": null,
   "metadata": {},
   "outputs": [],
   "source": [
    "df_sample['NU_IDADE'] = df_sample['NU_IDADE1']"
   ]
  },
  {
   "cell_type": "code",
   "execution_count": null,
   "metadata": {},
   "outputs": [],
   "source": [
    "df_sample.shape"
   ]
  },
  {
   "cell_type": "code",
   "execution_count": null,
   "metadata": {},
   "outputs": [],
   "source": [
    "df_sample = df_sample[to_keep]\n",
    "print(df_sample.shape)"
   ]
  },
  {
   "cell_type": "code",
   "execution_count": null,
   "metadata": {
    "tags": []
   },
   "outputs": [],
   "source": [
    "df_sample.to_csv('df_2021_1.csv', sep = ';', index = False)"
   ]
  },
  {
   "cell_type": "markdown",
   "metadata": {},
   "source": [
    "# 2022 - Novo layout"
   ]
  },
  {
   "cell_type": "code",
   "execution_count": null,
   "metadata": {},
   "outputs": [],
   "source": [
    "file = 'MICRODADOS_ENEM_2022.csv'\n",
    "df_file = pd.read_csv(file, sep = ';', encoding = 'ISO-8859-1')\n",
    "df_file.shape"
   ]
  },
  {
   "cell_type": "code",
   "execution_count": null,
   "metadata": {},
   "outputs": [],
   "source": [
    "#preenchendo os missings com -1\n",
    "df_file=df_file.fillna(-1)\n",
    "\n",
    "df_file['presenca_todas'] = np.where((df_file.TP_PRESENCA_MT == 1.0) & \n",
    "                                     (df_file.TP_PRESENCA_CH == 1.0) &\n",
    "                                     (df_file.TP_PRESENCA_CN == 1.0) &\n",
    "                                     (df_file.TP_PRESENCA_LC == 1.0), 1, 0)\n",
    "\n",
    "def quantidades(df, var1, var2, var3, var4, var5):\n",
    "    aux = df[[var1, var2, var3, var4, var5]]\n",
    "    a = aux.groupby([var1, var2, var3, var4, var5]).size().reset_index(name = 'qtde')\n",
    "    return a\n",
    "quantidades(df_file, 'TP_PRESENCA_MT', 'TP_PRESENCA_CN','TP_PRESENCA_LC','TP_PRESENCA_CH','presenca_todas')"
   ]
  },
  {
   "cell_type": "code",
   "execution_count": null,
   "metadata": {},
   "outputs": [],
   "source": [
    "df_file = df_file[df_file['presenca_todas'] == 1]\n",
    "df_file.shape"
   ]
  },
  {
   "cell_type": "code",
   "execution_count": null,
   "metadata": {},
   "outputs": [],
   "source": [
    "df_sample = df_file.sample(frac = p)"
   ]
  },
  {
   "cell_type": "code",
   "execution_count": null,
   "metadata": {},
   "outputs": [],
   "source": [
    "del df_file\n",
    "df_sample['SG_UF_RESIDENCIA'] = df_sample['SG_UF_PROVA']\n",
    "df_sample['NU_IDADE'] = df_sample['TP_FAIXA_ETARIA']"
   ]
  },
  {
   "cell_type": "code",
   "execution_count": null,
   "metadata": {},
   "outputs": [],
   "source": [
    "df_sample['NU_IDADE1']=np.where(df_sample.NU_IDADE == 1, 16,\n",
    "                         np.where(df_sample.NU_IDADE == 2, 17,\n",
    "                                  np.where(df_sample.NU_IDADE == 3, 18,\n",
    "                                           np.where(df_sample.NU_IDADE == 4, 19,\n",
    "                                                    np.where(df_sample.NU_IDADE == 5, 20,\n",
    "                                                             np.where(df_sample.NU_IDADE == 6, 21,\n",
    "                                                                      np.where(df_sample.NU_IDADE == 7, 22,\n",
    "                                                                               np.where(df_sample.NU_IDADE == 8, 23,\n",
    "                                                                                        np.where(df_sample.NU_IDADE == 9, 24,\n",
    "                                                                                                 np.where(df_sample.NU_IDADE == 10, 25,\n",
    "                                                                                                          np.where(df_sample.NU_IDADE == 11, 28,\n",
    "                                                                                                                   np.where(df_sample.NU_IDADE == 12, 33,\n",
    "                                                                                                                            np.where(df_sample.NU_IDADE == 13, 38,\n",
    "                                                                                                                                     np.where(df_sample.NU_IDADE == 14, 43,\n",
    "                                                                                                                                              np.where(df_sample.NU_IDADE == 15, 48,\n",
    "                                                                                                                                                      np.where(df_sample.NU_IDADE == 16, 52,\n",
    "                                                                                                                                                              np.where(df_sample.NU_IDADE == 17, 58,\n",
    "                                                                                                                                                                      np.where(df_sample.NU_IDADE == 18, 63,\n",
    "                                                                                                                                                                              np.where(df_sample.NU_IDADE == 19, 68, 70)))))))))))))))))))"
   ]
  },
  {
   "cell_type": "code",
   "execution_count": null,
   "metadata": {},
   "outputs": [],
   "source": [
    "df_sample['NU_IDADE'] = df_sample['NU_IDADE1']"
   ]
  },
  {
   "cell_type": "code",
   "execution_count": null,
   "metadata": {},
   "outputs": [],
   "source": [
    "df_sample = df_sample[to_keep]\n",
    "print(df_sample.shape)"
   ]
  },
  {
   "cell_type": "code",
   "execution_count": null,
   "metadata": {},
   "outputs": [],
   "source": [
    "df_sample.to_csv('df_2022_1.csv', sep = ';', index = False)"
   ]
  },
  {
   "cell_type": "markdown",
   "metadata": {},
   "source": [
    "# 2023 - Novo layout"
   ]
  },
  {
   "cell_type": "code",
   "execution_count": null,
   "metadata": {},
   "outputs": [],
   "source": [
    "file = 'MICRODADOS_ENEM_2023.csv'\n",
    "df_file = pd.read_csv(file, sep = ';', encoding = 'ISO-8859-1')\n",
    "df_file.shape"
   ]
  },
  {
   "cell_type": "code",
   "execution_count": null,
   "metadata": {},
   "outputs": [],
   "source": [
    "#preenchendo os missings com -1\n",
    "df_file=df_file.fillna(-1)\n",
    "df_file['presenca_todas'] = np.where((df_file.TP_PRESENCA_MT == 1.0) & \n",
    "                                     (df_file.TP_PRESENCA_CH == 1.0) &\n",
    "                                     (df_file.TP_PRESENCA_CN == 1.0) &\n",
    "                                     (df_file.TP_PRESENCA_LC == 1.0), 1, 0)\n",
    "\n",
    "def quantidades(df, var1, var2, var3, var4, var5):\n",
    "    aux = df[[var1, var2, var3, var4, var5]]\n",
    "    a = aux.groupby([var1, var2, var3, var4, var5]).size().reset_index(name = 'qtde')\n",
    "    return a\n",
    "quantidades(df_file, 'TP_PRESENCA_MT', 'TP_PRESENCA_CN','TP_PRESENCA_LC','TP_PRESENCA_CH','presenca_todas')"
   ]
  },
  {
   "cell_type": "code",
   "execution_count": null,
   "metadata": {},
   "outputs": [],
   "source": [
    "df_file = df_file[df_file['presenca_todas'] == 1]\n",
    "df_file.shape"
   ]
  },
  {
   "cell_type": "code",
   "execution_count": null,
   "metadata": {},
   "outputs": [],
   "source": [
    "df_sample = df_file.sample(frac = p)"
   ]
  },
  {
   "cell_type": "code",
   "execution_count": null,
   "metadata": {},
   "outputs": [],
   "source": [
    "del df_file\n",
    "df_sample['SG_UF_RESIDENCIA'] = df_sample['SG_UF_PROVA']\n",
    "df_sample['NU_IDADE'] = df_sample['TP_FAIXA_ETARIA']"
   ]
  },
  {
   "cell_type": "code",
   "execution_count": null,
   "metadata": {},
   "outputs": [],
   "source": [
    "df_sample['NU_IDADE1']=np.where(df_sample.NU_IDADE == 1, 16,\n",
    "                         np.where(df_sample.NU_IDADE == 2, 17,\n",
    "                                  np.where(df_sample.NU_IDADE == 3, 18,\n",
    "                                           np.where(df_sample.NU_IDADE == 4, 19,\n",
    "                                                    np.where(df_sample.NU_IDADE == 5, 20,\n",
    "                                                             np.where(df_sample.NU_IDADE == 6, 21,\n",
    "                                                                      np.where(df_sample.NU_IDADE == 7, 22,\n",
    "                                                                               np.where(df_sample.NU_IDADE == 8, 23,\n",
    "                                                                                        np.where(df_sample.NU_IDADE == 9, 24,\n",
    "                                                                                                 np.where(df_sample.NU_IDADE == 10, 25,\n",
    "                                                                                                          np.where(df_sample.NU_IDADE == 11, 28,\n",
    "                                                                                                                   np.where(df_sample.NU_IDADE == 12, 33,\n",
    "                                                                                                                            np.where(df_sample.NU_IDADE == 13, 38,\n",
    "                                                                                                                                     np.where(df_sample.NU_IDADE == 14, 43,\n",
    "                                                                                                                                              np.where(df_sample.NU_IDADE == 15, 48,\n",
    "                                                                                                                                                      np.where(df_sample.NU_IDADE == 16, 52,\n",
    "                                                                                                                                                              np.where(df_sample.NU_IDADE == 17, 58,\n",
    "                                                                                                                                                                      np.where(df_sample.NU_IDADE == 18, 63,\n",
    "                                                                                                                                                                              np.where(df_sample.NU_IDADE == 19, 68, 70)))))))))))))))))))"
   ]
  },
  {
   "cell_type": "code",
   "execution_count": null,
   "metadata": {},
   "outputs": [],
   "source": [
    "df_sample['NU_IDADE'] = df_sample['NU_IDADE1']"
   ]
  },
  {
   "cell_type": "code",
   "execution_count": null,
   "metadata": {},
   "outputs": [],
   "source": [
    "df_sample = df_sample[to_keep]\n",
    "print(df_sample.shape)"
   ]
  },
  {
   "cell_type": "code",
   "execution_count": null,
   "metadata": {},
   "outputs": [],
   "source": [
    "df_sample.to_csv('df_2023_1.csv', sep = ';', index = False)"
   ]
  },
  {
   "cell_type": "markdown",
   "metadata": {},
   "source": [
    "### checar se as bases anuais estao com dados"
   ]
  },
  {
   "cell_type": "code",
   "execution_count": null,
   "metadata": {},
   "outputs": [],
   "source": [
    "csv_files = [\n",
    "'df_2015_f1.csv'\n",
    ",'df_2015_m1.csv'\n",
    ",'df_2016_f1.csv'\n",
    ",'df_2016_m1.csv'\n",
    ",'df_2017_1.csv'\n",
    ",'df_2018_1.csv'\n",
    ",'df_2019_1.csv'\n",
    ",'df_2020_1.csv'\n",
    ",'df_2021_1.csv'\n",
    ",'df_2022_1.csv' \n",
    ",'df_2023_1.csv'\n",
    "]\n",
    "\n",
    "# Loop para carregar cada CSV e printar o shape\n",
    "for file in csv_files:\n",
    "    df = pd.read_csv(file)\n",
    "    print(f'Shape do {file}: {df.shape}')"
   ]
  },
  {
   "cell_type": "markdown",
   "metadata": {},
   "source": [
    "# BASE TOTAL - Concatenar todos os anos"
   ]
  },
  {
   "cell_type": "code",
   "execution_count": null,
   "metadata": {
    "slideshow": {
     "slide_type": "-"
    }
   },
   "outputs": [],
   "source": [
    "files = [\n",
    "'df_2015_f1.csv'\n",
    ",'df_2015_m1.csv'\n",
    ",'df_2016_f1.csv'\n",
    ",'df_2016_m1.csv'\n",
    ",'df_2017_1.csv'\n",
    ",'df_2018_1.csv'\n",
    ",'df_2019_1.csv'\n",
    ",'df_2020_1.csv'\n",
    ",'df_2021_1.csv'\n",
    ",'df_2022_1.csv' \n",
    ",'df_2023_1.csv' \n",
    "]"
   ]
  },
  {
   "cell_type": "code",
   "execution_count": null,
   "metadata": {
    "scrolled": true
   },
   "outputs": [],
   "source": [
    "for i,f in enumerate(files):\n",
    "    print(i,f)\n",
    "    if i == 0:\n",
    "        df1 = pd.read_csv(f, sep = ';', encoding = 'ISO-8859-1')\n",
    "    else:\n",
    "        df1 = df1.append(pd.read_csv(f, sep = ';'), ignore_index=True)"
   ]
  },
  {
   "cell_type": "code",
   "execution_count": null,
   "metadata": {},
   "outputs": [],
   "source": [
    "df1.shape"
   ]
  },
  {
   "cell_type": "code",
   "execution_count": null,
   "metadata": {},
   "outputs": [],
   "source": [
    "df1.to_csv('df_empilhada.csv', sep = ';', index = False)"
   ]
  }
 ],
 "metadata": {
  "kernelspec": {
   "display_name": "Python 3 (ipykernel)",
   "language": "python",
   "name": "python3"
  },
  "language_info": {
   "codemirror_mode": {
    "name": "ipython",
    "version": 3
   },
   "file_extension": ".py",
   "mimetype": "text/x-python",
   "name": "python",
   "nbconvert_exporter": "python",
   "pygments_lexer": "ipython3",
   "version": "3.9.13"
  }
 },
 "nbformat": 4,
 "nbformat_minor": 4
}
