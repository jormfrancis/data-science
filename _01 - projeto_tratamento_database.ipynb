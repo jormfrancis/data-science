{
 "cells": [
  {
   "cell_type": "code",
   "execution_count": null,
   "metadata": {},
   "outputs": [],
   "source": [
    "pip install jupyter_contrib_nbextensions"
   ]
  },
  {
   "cell_type": "code",
   "execution_count": null,
   "metadata": {},
   "outputs": [],
   "source": [
    "pip show jupyter_contrib_nbextensions"
   ]
  },
  {
   "cell_type": "code",
   "execution_count": null,
   "metadata": {},
   "outputs": [],
   "source": [
    "!jupyter contrib nbextension install"
   ]
  },
  {
   "cell_type": "code",
   "execution_count": null,
   "metadata": {},
   "outputs": [],
   "source": [
    "!jupyter contrib nbextension install --user"
   ]
  },
  {
   "cell_type": "code",
   "execution_count": null,
   "metadata": {},
   "outputs": [],
   "source": [
    "pip install hide_code"
   ]
  },
  {
   "cell_type": "code",
   "execution_count": null,
   "metadata": {},
   "outputs": [],
   "source": [
    "pip show hide_code"
   ]
  },
  {
   "cell_type": "code",
   "execution_count": null,
   "metadata": {},
   "outputs": [],
   "source": [
    "!jupyter nbextension enable --py --sys-prefix hide_code"
   ]
  },
  {
   "cell_type": "code",
   "execution_count": 1,
   "metadata": {},
   "outputs": [
    {
     "data": {
      "text/plain": [
       "'pt_BR.UTF-8'"
      ]
     },
     "execution_count": 1,
     "metadata": {},
     "output_type": "execute_result"
    }
   ],
   "source": [
    "import matplotlib.pyplot as plt\n",
    "import pandas as pd\n",
    "import numpy as np\n",
    "\n",
    "import seaborn as sns\n",
    "import locale\n",
    "\n",
    "pd.set_option('display.max_columns', None)\n",
    "pd.set_option('display.max_rows', None)\n",
    "pd.set_option('float_format', '{:.2f}'.format)\n",
    "import warnings\n",
    "warnings.filterwarnings('ignore')\n",
    "\n",
    "# Definir a localidade para português do Brasil (ou outra localidade que use a vírgula como separador de milhares)\n",
    "locale.setlocale(locale.LC_ALL, 'pt_BR.UTF-8')"
   ]
  },
  {
   "cell_type": "markdown",
   "metadata": {},
   "source": [
    "## Recuperar a base empilhada"
   ]
  },
  {
   "cell_type": "code",
   "execution_count": 2,
   "metadata": {},
   "outputs": [
    {
     "data": {
      "text/plain": [
       "(33295732, 56)"
      ]
     },
     "execution_count": 2,
     "metadata": {},
     "output_type": "execute_result"
    }
   ],
   "source": [
    "file = 'df_empilhada.csv'\n",
    "df1 = pd.read_csv(file, sep = ';', encoding = 'ISO-8859-1')\n",
    "df1.shape"
   ]
  },
  {
   "cell_type": "code",
   "execution_count": 29,
   "metadata": {},
   "outputs": [
    {
     "data": {
      "text/plain": [
       "(33295732, 41)"
      ]
     },
     "execution_count": 29,
     "metadata": {},
     "output_type": "execute_result"
    }
   ],
   "source": [
    "df1.shape"
   ]
  },
  {
   "cell_type": "markdown",
   "metadata": {
    "tags": []
   },
   "source": [
    "# Tratamento de missing e outliers"
   ]
  },
  {
   "cell_type": "code",
   "execution_count": 3,
   "metadata": {},
   "outputs": [],
   "source": [
    "#ficar somente com as vars que vou usar\n",
    "keep_vars = [ \n",
    " 'NU_ANO',\n",
    " 'SG_UF_RESIDENCIA',\n",
    " 'NU_IDADE',\n",
    " 'TP_SEXO',\n",
    " 'TP_ESTADO_CIVIL',\n",
    " 'TP_COR_RACA',\n",
    " 'TP_ST_CONCLUSAO',\n",
    " 'TP_ANO_CONCLUIU',\n",
    " 'TP_ESCOLA',\n",
    " 'presenca_todas',\n",
    " 'NU_NOTA_CN',\n",
    " 'NU_NOTA_CH',\n",
    " 'NU_NOTA_LC',\n",
    " 'NU_NOTA_MT',\n",
    " 'TP_STATUS_REDACAO',\n",
    " 'NU_NOTA_REDACAO',\n",
    " 'Q001',\n",
    " 'Q002',\n",
    " 'Q003',\n",
    " 'Q004',\n",
    " 'Q005',\n",
    " 'Q006',\n",
    " 'Q007',\n",
    " 'Q008',\n",
    " 'Q009',\n",
    " 'Q010',\n",
    " 'Q011',\n",
    " 'Q012',\n",
    " 'Q013',\n",
    " 'Q014',\n",
    " 'Q015',\n",
    " 'Q016',\n",
    " 'Q017',\n",
    " 'Q018',\n",
    " 'Q019',\n",
    " 'Q020',\n",
    " 'Q021',\n",
    " 'Q022',\n",
    " 'Q023',\n",
    " 'Q024',\n",
    " 'Q025']"
   ]
  },
  {
   "cell_type": "code",
   "execution_count": 4,
   "metadata": {},
   "outputs": [],
   "source": [
    "df1 = df1[keep_vars]"
   ]
  },
  {
   "cell_type": "markdown",
   "metadata": {},
   "source": [
    "## Análise de missing "
   ]
  },
  {
   "cell_type": "code",
   "execution_count": null,
   "metadata": {},
   "outputs": [],
   "source": [
    "missing_filled = df1[(df1 == -1).any(axis=1)]"
   ]
  },
  {
   "cell_type": "code",
   "execution_count": null,
   "metadata": {},
   "outputs": [],
   "source": [
    "# 694664 = 2% da base tem missing em todas as colunas, considerando apenas as que vou usar\n",
    "missing_filled.describe()"
   ]
  },
  {
   "cell_type": "markdown",
   "metadata": {},
   "source": [
    "## Excluindo as linhas com missing da base - aprox 3%"
   ]
  },
  {
   "cell_type": "code",
   "execution_count": null,
   "metadata": {},
   "outputs": [],
   "source": [
    "df1 = df1[~(df1 == -1).any(axis=1)]"
   ]
  },
  {
   "cell_type": "code",
   "execution_count": null,
   "metadata": {},
   "outputs": [],
   "source": [
    "df1.shape"
   ]
  },
  {
   "cell_type": "code",
   "execution_count": null,
   "metadata": {},
   "outputs": [],
   "source": [
    "df1['Q006'].value_counts()"
   ]
  },
  {
   "cell_type": "code",
   "execution_count": null,
   "metadata": {},
   "outputs": [],
   "source": [
    "df1['Q025'].value_counts()"
   ]
  },
  {
   "cell_type": "code",
   "execution_count": null,
   "metadata": {},
   "outputs": [],
   "source": [
    "df1['Q024'].value_counts()"
   ]
  },
  {
   "cell_type": "code",
   "execution_count": null,
   "metadata": {},
   "outputs": [],
   "source": [
    "df1 = df1[~(df1 == '-1').any(axis=1)]"
   ]
  },
  {
   "cell_type": "code",
   "execution_count": null,
   "metadata": {},
   "outputs": [],
   "source": [
    "df1.shape"
   ]
  },
  {
   "cell_type": "code",
   "execution_count": null,
   "metadata": {},
   "outputs": [],
   "source": [
    "#guardar em df1 a base de presentes sem missing\n",
    "df=df1"
   ]
  },
  {
   "cell_type": "code",
   "execution_count": null,
   "metadata": {},
   "outputs": [],
   "source": [
    "#df.info()"
   ]
  },
  {
   "cell_type": "markdown",
   "metadata": {},
   "source": [
    "## salvar a base empilhada sem missing"
   ]
  },
  {
   "cell_type": "code",
   "execution_count": null,
   "metadata": {},
   "outputs": [],
   "source": [
    "df.to_csv('df_presentes_sm.csv', sep = ';', index = False)"
   ]
  },
  {
   "cell_type": "code",
   "execution_count": null,
   "metadata": {},
   "outputs": [],
   "source": [
    "file = 'df_presentes_sm.csv'\n",
    "df = pd.read_csv(file, sep = ';', encoding = 'ISO-8859-1')\n",
    "df.shape"
   ]
  },
  {
   "cell_type": "markdown",
   "metadata": {},
   "source": [
    "\n",
    "## \n",
    "## \n",
    "## \n",
    "## \n",
    "## \n",
    "# Criação de Variáveis e flags "
   ]
  },
  {
   "cell_type": "code",
   "execution_count": null,
   "metadata": {},
   "outputs": [],
   "source": [
    "# a maior parte já concluiu o ensino medio 59% da amostra e so 27% da amostra esta cursando e vai concluir no ano\n",
    "vol = df.groupby(['TP_ST_CONCLUSAO']).size().reset_index(name = 'qtde')\n",
    "vol"
   ]
  },
  {
   "cell_type": "code",
   "execution_count": null,
   "metadata": {},
   "outputs": [],
   "source": [
    "#TP_ST_CONCLUSAO == 2 - estou cursando o EM e concluirei neste ano da prova\n",
    "df['concluinte_3ano']=np.where(df.TP_ST_CONCLUSAO == 2, 1, 0)"
   ]
  },
  {
   "cell_type": "code",
   "execution_count": null,
   "metadata": {},
   "outputs": [],
   "source": [
    "df2 = pd.crosstab(df['concluinte_3ano'], df['TP_ST_CONCLUSAO'])"
   ]
  },
  {
   "cell_type": "code",
   "execution_count": null,
   "metadata": {},
   "outputs": [],
   "source": [
    "df2"
   ]
  },
  {
   "cell_type": "code",
   "execution_count": null,
   "metadata": {},
   "outputs": [],
   "source": [
    "freqconcluinte_3ano = df['concluinte_3ano'].value_counts()\n",
    "print(\"\\nFrequência dos valores da coluna 'concluinte_3ano':\")\n",
    "print(freqconcluinte_3ano)"
   ]
  },
  {
   "cell_type": "markdown",
   "metadata": {},
   "source": [
    "# Marcar os alunos Baixa Renda - Renda Familiar <= 1.5 salários minimos¶"
   ]
  },
  {
   "cell_type": "code",
   "execution_count": null,
   "metadata": {},
   "outputs": [],
   "source": [
    "#Q006 renda familiar\n",
    "\n",
    "#A\tNenhuma Renda\n",
    "#B\tAté R$ 1.100,00\n",
    "#C\tDe R$ 1.100,01 até R$ 1.650,00.\n",
    "#D\tDe R$ 1.650,01 até R$ 2.200,00.\n",
    "#E\tDe R$ 2.200,01 até R$ 2.750,00.\n",
    "#F\tDe R$ 2.750,01 até R$ 3.300,00.\n",
    "#G\tDe R$ 3.300,01 até R$ 4.400,00.\n",
    "#H\tDe R$ 4.400,01 até R$ 5.500,00.\n",
    "#I\tDe R$ 5.500,01 até R$ 6.600,00.\n",
    "#J\tDe R$ 6.600,01 até R$ 7.700,00.\n",
    "#K\tDe R$ 7.700,01 até R$ 8.800,00.\n",
    "#L\tDe R$ 8.800,01 até R$ 9.900,00.\n",
    "#M\tDe R$ 9.900,01 até R$ 11.000,00.\n",
    "#N\tDe R$ 11.000,01 até R$ 13.200,00.\n",
    "#O\tDe R$ 13.200,01 até R$ 16.500,00.\n",
    "#P\tDe R$ 16.500,01 até R$ 22.000,00.\n",
    "#Q\tAcima de R$ 22.000,00."
   ]
  },
  {
   "cell_type": "code",
   "execution_count": null,
   "metadata": {},
   "outputs": [],
   "source": [
    "#df = df.drop(columns=['baixarenda'])"
   ]
  },
  {
   "cell_type": "code",
   "execution_count": null,
   "metadata": {},
   "outputs": [],
   "source": [
    "# Função para categorizar renda menor de 1.5 SM\n",
    "def categorizar_renda(Q006):\n",
    "    if Q006 in ('A', 'B', 'C'):\n",
    "        return 1\n",
    "    else:\n",
    "        return 0"
   ]
  },
  {
   "cell_type": "code",
   "execution_count": null,
   "metadata": {},
   "outputs": [],
   "source": [
    "df['baixarenda'] = df['Q006'].apply(categorizar_renda)"
   ]
  },
  {
   "cell_type": "code",
   "execution_count": null,
   "metadata": {},
   "outputs": [],
   "source": [
    "# Função para categorizar renda menor de 1.5 SM - ele entende essa funcao very crazy\n",
    "#def categorizar_renda(Q006):\n",
    "#    if Q006 in ('ABC'):\n",
    "#        return 1\n",
    "#    else:\n",
    "#        return 0"
   ]
  },
  {
   "cell_type": "code",
   "execution_count": null,
   "metadata": {},
   "outputs": [],
   "source": [
    "df2= df.groupby(['baixarenda','Q006']).size().reset_index(name = 'qt')"
   ]
  },
  {
   "cell_type": "code",
   "execution_count": null,
   "metadata": {},
   "outputs": [],
   "source": [
    "df2"
   ]
  },
  {
   "cell_type": "code",
   "execution_count": null,
   "metadata": {},
   "outputs": [],
   "source": [
    "df3= df.groupby(['baixarenda','concluinte_3ano']).size().reset_index(name = 'qt')"
   ]
  },
  {
   "cell_type": "code",
   "execution_count": null,
   "metadata": {},
   "outputs": [],
   "source": [
    "df3"
   ]
  },
  {
   "cell_type": "markdown",
   "metadata": {},
   "source": [
    "## Criar labels para as questões"
   ]
  },
  {
   "cell_type": "code",
   "execution_count": null,
   "metadata": {},
   "outputs": [],
   "source": [
    "# para listar os elementos da variavel (dominio da variavel)\n",
    "df.Q001.unique()"
   ]
  },
  {
   "cell_type": "code",
   "execution_count": null,
   "metadata": {},
   "outputs": [],
   "source": [
    "df['Q001'].value_counts()"
   ]
  },
  {
   "cell_type": "code",
   "execution_count": null,
   "metadata": {},
   "outputs": [],
   "source": [
    "#Q002 - estudo da mae\n",
    "#A\tNunca estudou.\n",
    "#B\tNão completou a 4ª série/5º ano do Ensino Fundamental.\n",
    "#C\tCompletou a 4ª série/5º ano, mas não completou a 8ª série/9º ano do Ensino Fundamental.\n",
    "#D\tCompletou a 8ª série/9º ano do Ensino Fundamental, mas não completou o Ensino Médio.\n",
    "#E\tCompletou o Ensino Médio, mas não completou a Faculdade.\n",
    "#F\tCompletou a Faculdade, mas não completou a Pós-graduação.\n",
    "#G\tCompletou a Pós-graduação.\n",
    "#H\tNão sei."
   ]
  },
  {
   "cell_type": "code",
   "execution_count": null,
   "metadata": {},
   "outputs": [],
   "source": [
    "#Q001 - estudo do pai\n",
    "#A\tNunca estudou.\n",
    "#B\tNão completou a 4ª série/5º ano do Ensino Fundamental.\n",
    "#C\tCompletou a 4ª série/5º ano, mas não completou a 8ª série/9º ano do Ensino Fundamental.\n",
    "#D\tCompletou a 8ª série/9º ano do Ensino Fundamental, mas não completou o Ensino Médio.\n",
    "#E\tCompletou o Ensino Médio, mas não completou a Faculdade.\n",
    "#F\tCompletou a Faculdade, mas não completou a Pós-graduação.\n",
    "#G\tCompletou a Pós-graduação.\n",
    "#H\tNão sei."
   ]
  },
  {
   "cell_type": "code",
   "execution_count": null,
   "metadata": {},
   "outputs": [],
   "source": [
    "df.Q002.unique()"
   ]
  },
  {
   "cell_type": "code",
   "execution_count": null,
   "metadata": {},
   "outputs": [],
   "source": [
    "map_Q001_2 = {\n",
    "'A' : 1,\n",
    "'B' : 2,\n",
    "'C' : 3,\n",
    "'D' : 4,\n",
    "'E' : 5,\n",
    "'F' : 6,\n",
    "'G' : 7,\n",
    "'H' : 0,\n",
    "-1  : -1    \n",
    "}"
   ]
  },
  {
   "cell_type": "code",
   "execution_count": null,
   "metadata": {},
   "outputs": [],
   "source": [
    "#criar a variavel cat_Q001 para substituir A-H por numeros\n",
    "df['cat_Q001'] = df['Q001'].map(map_Q001_2)\n",
    "df['cat_Q002'] = df['Q002'].map(map_Q001_2)"
   ]
  },
  {
   "cell_type": "code",
   "execution_count": null,
   "metadata": {},
   "outputs": [],
   "source": [
    "#Q003 profissao do pai\n",
    "#A\tGrupo 1: Lavrador, agricultor sem empregados, bóia fria, criador de animais (gado, porcos, galinhas, ovelhas, cavalos etc.), apicultor, pescador, lenhador, seringueiro, extrativista.\n",
    "#B\tGrupo 2: Diarista, empregado doméstico, cuidador de idosos, babá, cozinheiro (em casas particulares), motorista particular, jardineiro, faxineiro de empresas e prédios, vigilante, porteiro, carteiro, office-boy, vendedor, caixa, atendente de loja, auxiliar administrativo, recepcionista, servente de pedreiro, repositor de mercadoria.\n",
    "#C\tGrupo 3: Padeiro, cozinheiro industrial ou em restaurantes, sapateiro, costureiro, joalheiro, torneiro mecânico, operador de máquinas, soldador, operário de fábrica, trabalhador da mineração, pedreiro, pintor, eletricista, encanador, motorista, caminhoneiro, taxista.\n",
    "#D\tGrupo 4: Professor (de ensino fundamental ou médio, idioma, música, artes etc.), técnico (de enfermagem, contabilidade, eletrônica etc.), policial, militar de baixa patente (soldado, cabo, sargento), corretor de imóveis, supervisor, gerente, mestre de obras, pastor, microempresário (proprietário de empresa com menos de 10 empregados), pequeno comerciante, pequeno proprietário de terras, trabalhador autônomo ou por conta própria.\n",
    "#E\tGrupo 5: Médico, engenheiro, dentista, psicólogo, economista, advogado, juiz, promotor, defensor, delegado, tenente, capitão, coronel, professor universitário, diretor em empresas públicas ou privadas, político, proprietário de empresas com mais de 10 empregados.\n",
    "#F\tNão sei."
   ]
  },
  {
   "cell_type": "code",
   "execution_count": null,
   "metadata": {},
   "outputs": [],
   "source": [
    "df.Q003.unique()"
   ]
  },
  {
   "cell_type": "code",
   "execution_count": null,
   "metadata": {},
   "outputs": [],
   "source": [
    "#Q004 profissao da mae\n",
    "#A\tGrupo 1: Lavradora, agricultora sem empregados, bóia fria, criadora de animais (gado, porcos, galinhas, ovelhas, cavalos etc.), apicultora, pescadora, lenhadora, seringueira, extrativista.\n",
    "#B\tGrupo 2: Diarista, empregada doméstica, cuidadora de idosos, babá, cozinheira (em casas particulares), motorista particular, jardineira, faxineira de empresas e prédios, vigilante, porteira, carteira, office-boy, vendedora, caixa, atendente de loja, auxiliar administrativa, recepcionista, servente de pedreiro, repositora de mercadoria.\n",
    "#C\tGrupo 3: Padeira, cozinheira industrial ou em restaurantes, sapateira, costureira, joalheira, torneira mecânica, operadora de máquinas, soldadora, operária de fábrica, trabalhadora da mineração, pedreira, pintora, eletricista, encanadora, motorista, caminhoneira, taxista.\n",
    "#D\tGrupo 4: Professora (de ensino fundamental ou médio, idioma, música, artes etc.), técnica (de enfermagem, contabilidade, eletrônica etc.), policial, militar de baixa patente (soldado, cabo, sargento), corretora de imóveis, supervisora, gerente, mestre de obras, pastora, microempresária (proprietária de empresa com menos de 10 empregados), pequena comerciante, pequena proprietária de terras, trabalhadora autônoma ou por conta própria.\n",
    "#E\tGrupo 5: Médica, engenheira, dentista, psicóloga, economista, advogada, juíza, promotora, defensora, delegada, tenente, capitã, coronel, professora universitária, diretora em empresas públicas ou privadas, política, proprietária de empresas com mais de 10 empregados.\n",
    "#F\tNão sei."
   ]
  },
  {
   "cell_type": "code",
   "execution_count": null,
   "metadata": {},
   "outputs": [],
   "source": [
    "df.Q004.unique()"
   ]
  },
  {
   "cell_type": "code",
   "execution_count": null,
   "metadata": {},
   "outputs": [],
   "source": [
    "map_Q003_4 = {\n",
    "'A' : 1,\n",
    "'B' : 2,\n",
    "'C' : 3,\n",
    "'D' : 4,\n",
    "'E' : 5,\n",
    "'F' : 0,\n",
    "-1  : -1\n",
    "}"
   ]
  },
  {
   "cell_type": "code",
   "execution_count": null,
   "metadata": {},
   "outputs": [],
   "source": [
    "df['cat_Q003'] = df['Q003'].map(map_Q003_4)\n",
    "df['cat_Q004'] = df['Q004'].map(map_Q003_4)"
   ]
  },
  {
   "cell_type": "code",
   "execution_count": null,
   "metadata": {},
   "outputs": [],
   "source": [
    "#Q006 renda familiar\n",
    "\n",
    "#A\tNenhuma Renda\n",
    "#B\tAté R$ 1.100,00\n",
    "#C\tDe R$ 1.100,01 até R$ 1.650,00.\n",
    "#D\tDe R$ 1.650,01 até R$ 2.200,00.\n",
    "#E\tDe R$ 2.200,01 até R$ 2.750,00.\n",
    "#F\tDe R$ 2.750,01 até R$ 3.300,00.\n",
    "#G\tDe R$ 3.300,01 até R$ 4.400,00.\n",
    "#H\tDe R$ 4.400,01 até R$ 5.500,00.\n",
    "#I\tDe R$ 5.500,01 até R$ 6.600,00.\n",
    "#J\tDe R$ 6.600,01 até R$ 7.700,00.\n",
    "#K\tDe R$ 7.700,01 até R$ 8.800,00.\n",
    "#L\tDe R$ 8.800,01 até R$ 9.900,00.\n",
    "#M\tDe R$ 9.900,01 até R$ 11.000,00.\n",
    "#N\tDe R$ 11.000,01 até R$ 13.200,00.\n",
    "#O\tDe R$ 13.200,01 até R$ 16.500,00.\n",
    "#P\tDe R$ 16.500,01 até R$ 22.000,00.\n",
    "#Q\tAcima de R$ 22.000,00."
   ]
  },
  {
   "cell_type": "code",
   "execution_count": null,
   "metadata": {},
   "outputs": [],
   "source": [
    "df.Q006.unique()"
   ]
  },
  {
   "cell_type": "code",
   "execution_count": null,
   "metadata": {},
   "outputs": [],
   "source": [
    "map_Q006 = {\n",
    "-1  : -1,\n",
    "'A' : 0,\n",
    "'B' : 1,\n",
    "'C' : 1.5,\n",
    "'D' : 2,\n",
    "'E' : 2.5,\n",
    "'F' : 3,\n",
    "'G' : 4,\n",
    "'H' : 5,    \n",
    "'I' : 6,\n",
    "'J' : 7,\n",
    "'K' : 8,\n",
    "'L' : 9,    \n",
    "'M' : 10,    \n",
    "'N' : 12,    \n",
    "'O' : 15,\n",
    "'P' : 20,\n",
    "'Q' : 30 \n",
    "}"
   ]
  },
  {
   "cell_type": "code",
   "execution_count": null,
   "metadata": {},
   "outputs": [],
   "source": [
    "df['cat_Q006'] = df['Q006'].map(map_Q006)"
   ]
  },
  {
   "cell_type": "code",
   "execution_count": null,
   "metadata": {},
   "outputs": [],
   "source": [
    "#Q007 - se ha empregada domestica em casa\n",
    "#A\tNão.\n",
    "#B\tSim, um ou dois dias por semana.\n",
    "#C\tSim, três ou quatro dias por semana.\n",
    "#D\tSim, pelo menos cinco dias por semana."
   ]
  },
  {
   "cell_type": "code",
   "execution_count": null,
   "metadata": {},
   "outputs": [],
   "source": [
    "df.Q007.unique()"
   ]
  },
  {
   "cell_type": "code",
   "execution_count": null,
   "metadata": {},
   "outputs": [],
   "source": [
    "map_Q007 = {\n",
    "-1  : -1,\n",
    "'A' : 0,\n",
    "'B' : 1,\n",
    "'C' : 2,\n",
    "'D' : 3  \n",
    "}"
   ]
  },
  {
   "cell_type": "code",
   "execution_count": null,
   "metadata": {},
   "outputs": [],
   "source": [
    "df['cat_Q007'] = df['Q007'].map(map_Q007)"
   ]
  },
  {
   "cell_type": "code",
   "execution_count": null,
   "metadata": {},
   "outputs": [],
   "source": [
    "#Q008 - qtde de banheiros em casa\n",
    "#A\tNão.\n",
    "#B\tSim, um.\n",
    "#C\tSim, dois.\n",
    "#D\tSim, três.\n",
    "#E\tSim, quatro ou mais."
   ]
  },
  {
   "cell_type": "code",
   "execution_count": null,
   "metadata": {},
   "outputs": [],
   "source": [
    "#Q008\tNa sua residência tem banheiro?\n",
    "#Q009\tNa sua residência tem quartos para dormir?\n",
    "#Q010\tNa sua residência tem carro?\n",
    "#Q011\tNa sua residência tem motocicleta?\n",
    "#Q012\tNa sua residência tem geladeira?\n",
    "#Q013\tNa sua residência tem freezer (independente ou segunda porta da geladeira)?\n",
    "#Q014\tNa sua residência tem máquina de lavar roupa? (o tanquinho NÃO deve ser considerado)\n",
    "#Q015\tNa sua residência tem máquina de secar roupa (independente ou em conjunto com a máquina de lavar roupa)?\n",
    "#Q016\tNa sua residência tem forno micro-ondas?\n",
    "#Q017\tNa sua residência tem máquina de lavar louça?"
   ]
  },
  {
   "cell_type": "code",
   "execution_count": null,
   "metadata": {},
   "outputs": [],
   "source": [
    "df.Q008.unique()"
   ]
  },
  {
   "cell_type": "code",
   "execution_count": null,
   "metadata": {},
   "outputs": [],
   "source": [
    "map_Q00_8a17_19_22_24 = {\n",
    "-1  : -1,\n",
    "'A' : 0,\n",
    "'B' : 1,\n",
    "'C' : 2,\n",
    "'D' : 3,\n",
    "'E' : 4  \n",
    "}"
   ]
  },
  {
   "cell_type": "code",
   "execution_count": null,
   "metadata": {},
   "outputs": [],
   "source": [
    "df['cat_Q008'] = df['Q008'].map(map_Q00_8a17_19_22_24)\n",
    "df['cat_Q009'] = df['Q009'].map(map_Q00_8a17_19_22_24)\n",
    "df['cat_Q010'] = df['Q010'].map(map_Q00_8a17_19_22_24)\n",
    "df['cat_Q011'] = df['Q011'].map(map_Q00_8a17_19_22_24)\n",
    "df['cat_Q012'] = df['Q012'].map(map_Q00_8a17_19_22_24)\n",
    "df['cat_Q013'] = df['Q013'].map(map_Q00_8a17_19_22_24)\n",
    "df['cat_Q014'] = df['Q014'].map(map_Q00_8a17_19_22_24)\n",
    "df['cat_Q015'] = df['Q015'].map(map_Q00_8a17_19_22_24)\n",
    "df['cat_Q016'] = df['Q016'].map(map_Q00_8a17_19_22_24)\n",
    "df['cat_Q017'] = df['Q017'].map(map_Q00_8a17_19_22_24)\n",
    "df['cat_Q019'] = df['Q019'].map(map_Q00_8a17_19_22_24)\n",
    "df['cat_Q022'] = df['Q022'].map(map_Q00_8a17_19_22_24)\n",
    "df['cat_Q024'] = df['Q024'].map(map_Q00_8a17_19_22_24)"
   ]
  },
  {
   "cell_type": "code",
   "execution_count": null,
   "metadata": {},
   "outputs": [],
   "source": [
    "#Q018\tNa sua residência tem aspirador de pó?\n",
    "#Q020\tNa sua residência tem aparelho de DVD?\n",
    "#Q021\tNa sua residência tem TV por assinatura?\n",
    "#Q023\tNa sua residência tem telefone fixo?\n",
    "#Q025\tNa sua residência tem acesso à Internet?"
   ]
  },
  {
   "cell_type": "code",
   "execution_count": null,
   "metadata": {},
   "outputs": [],
   "source": [
    "df.Q018.unique()"
   ]
  },
  {
   "cell_type": "code",
   "execution_count": null,
   "metadata": {},
   "outputs": [],
   "source": [
    "map_Q01820212325 = {\n",
    "-1  :-1,\n",
    "'A' : 0,\n",
    "'B' : 1  \n",
    "}"
   ]
  },
  {
   "cell_type": "code",
   "execution_count": null,
   "metadata": {},
   "outputs": [],
   "source": [
    "df['cat_Q018'] = df['Q018'].map(map_Q01820212325)\n",
    "df['cat_Q020'] = df['Q020'].map(map_Q01820212325)\n",
    "df['cat_Q021'] = df['Q021'].map(map_Q01820212325)\n",
    "df['cat_Q023'] = df['Q023'].map(map_Q01820212325)\n",
    "df['cat_Q025'] = df['Q025'].map(map_Q01820212325)"
   ]
  },
  {
   "cell_type": "markdown",
   "metadata": {},
   "source": [
    "## Criar variável Feminimo"
   ]
  },
  {
   "cell_type": "code",
   "execution_count": null,
   "metadata": {},
   "outputs": [],
   "source": [
    "df['FEMININO']=np.where(df.TP_SEXO == \"F\", 1, 0)"
   ]
  },
  {
   "cell_type": "code",
   "execution_count": null,
   "metadata": {},
   "outputs": [],
   "source": [
    "pd.crosstab(df.TP_SEXO, df.FEMININO)"
   ]
  },
  {
   "cell_type": "markdown",
   "metadata": {},
   "source": [
    "## Criar variáveis categóricas para Região"
   ]
  },
  {
   "cell_type": "code",
   "execution_count": null,
   "metadata": {},
   "outputs": [],
   "source": [
    "df['SG_UF_RESIDENCIA'].value_counts()"
   ]
  },
  {
   "cell_type": "code",
   "execution_count": null,
   "metadata": {},
   "outputs": [],
   "source": [
    "map_REG = {\n",
    "'MG' :'Sudeste',\n",
    "'ES' :'Sudeste',\n",
    "'RJ' :'Sudeste',\n",
    "'SP' :'Sudeste',\n",
    "'RR' :'Norte',\n",
    "'AP' :'Norte',\n",
    "'AM' :'Norte',\n",
    "'PA' :'Norte',\n",
    "'AC' :'Norte',\n",
    "'RO' :'Norte',\n",
    "'TO' :'Norte',\n",
    "'MA' :'Nordeste',\n",
    "'PI' :'Nordeste',\n",
    "'CE' :'Nordeste',\n",
    "'RN' :'Nordeste',\n",
    "'PB' :'Nordeste',\n",
    "'PE' :'Nordeste',\n",
    "'AL' :'Nordeste',\n",
    "'SE' :'Nordeste',\n",
    "'BA' :'Nordeste',\n",
    "'MT' :'Centro-oeste',\n",
    "'DF' :'Centro-oeste',\n",
    "'GO' :'Centro-oeste',\n",
    "'MS' :'Centro-oeste',\n",
    "'PR' :'Sul',\n",
    "'SC' :'Sul',\n",
    "'RS' :'Sul'\n",
    "}"
   ]
  },
  {
   "cell_type": "code",
   "execution_count": null,
   "metadata": {},
   "outputs": [],
   "source": [
    "df['REG_UF'] = df['SG_UF_RESIDENCIA'].map(map_REG)"
   ]
  },
  {
   "cell_type": "code",
   "execution_count": null,
   "metadata": {},
   "outputs": [],
   "source": [
    "map_Norte = {\n",
    "'Norte' : 1,\n",
    "'Centro-oeste' : 0,\n",
    "'Sudeste' : 0,\n",
    "'Nordeste' : 0,\n",
    "'Sul' : 0,  \n",
    "}\n",
    "\n",
    "map_Nordeste = {\n",
    "'Norte' : 0,\n",
    "'Centro-oeste' : 0,\n",
    "'Sudeste' : 0,\n",
    "'Nordeste' : 1,\n",
    "'Sul' : 0,  \n",
    "}\n",
    "\n",
    "map_Sul = {\n",
    "'Norte' : 0,\n",
    "'Centro-oeste' : 0,\n",
    "'Sudeste' : 0,\n",
    "'Nordeste' : 0,\n",
    "'Sul' : 1,  \n",
    "}\n",
    "\n",
    "map_CentroOeste = {\n",
    "'Norte' : 0,\n",
    "'Centro-oeste' : 1,\n",
    "'Sudeste' : 0,\n",
    "'Nordeste' : 0,\n",
    "'Sul' : 0,  \n",
    "}\n",
    "\n",
    "map_Sudeste = {\n",
    "'Norte' : 0,\n",
    "'Centro-oeste' : 0,\n",
    "'Sudeste' : 1,\n",
    "'Nordeste' : 0,\n",
    "'Sul' : 0,  \n",
    "}"
   ]
  },
  {
   "cell_type": "code",
   "execution_count": null,
   "metadata": {},
   "outputs": [],
   "source": [
    "df['cat_Norte'] = df['REG_UF'].map(map_Norte)\n",
    "df['cat_Nordeste'] = df['REG_UF'].map(map_Nordeste)\n",
    "df['cat_Sul'] = df['REG_UF'].map(map_Sul)\n",
    "df['cat_CentroOeste'] = df['REG_UF'].map(map_CentroOeste)\n",
    "df['cat_Sudeste'] = df['REG_UF'].map(map_Sudeste)"
   ]
  },
  {
   "cell_type": "markdown",
   "metadata": {},
   "source": [
    "## Criar variavel tem_TIC quando o aluno tem acesso a internet e tem computador em casa"
   ]
  },
  {
   "cell_type": "code",
   "execution_count": null,
   "metadata": {},
   "outputs": [],
   "source": [
    "df.Q024.unique()"
   ]
  },
  {
   "cell_type": "code",
   "execution_count": null,
   "metadata": {},
   "outputs": [],
   "source": [
    "df.cat_Q024.unique()"
   ]
  },
  {
   "cell_type": "code",
   "execution_count": null,
   "metadata": {},
   "outputs": [],
   "source": [
    "df.shape"
   ]
  },
  {
   "cell_type": "code",
   "execution_count": null,
   "metadata": {},
   "outputs": [],
   "source": [
    "df['tem_TIC'] = np.where((df.cat_Q024 != 0) &\n",
    "                         (df.cat_Q025 == 1) , 'PC_NET',\n",
    "                         np.where((df.cat_Q024 == 0) &\n",
    "                                  (df.cat_Q025 == 0), 'NAO_TEM',\n",
    "                                   np.where((df.cat_Q024 != 0) &\n",
    "                                            (df.cat_Q025 == 0), 'TEM_PC',\n",
    "                                            np.where((df.cat_Q024 == 0) &\n",
    "                                                      (df.cat_Q025 == 1), 'TEM_NET','MISSING'))))"
   ]
  },
  {
   "cell_type": "code",
   "execution_count": null,
   "metadata": {},
   "outputs": [],
   "source": [
    "df.tem_TIC.unique()"
   ]
  },
  {
   "cell_type": "code",
   "execution_count": null,
   "metadata": {},
   "outputs": [],
   "source": [
    "df['tem_TICv2'] = np.where((df.cat_Q025 == 0), 'NI',\n",
    "                          np.where((df.cat_Q025 == 1) & \n",
    "                                    (df.cat_Q024 != 0) &\n",
    "                                    (df.cat_Q022 != 0), 'I_Comp_Cel',\n",
    "                                    np.where((df.cat_Q025 == 1) &\n",
    "                                             (df.cat_Q024 != 0) &\n",
    "                                             (df.cat_Q022 == 0), 'I_Comp_nCel',\n",
    "                                             np.where((df.cat_Q025 == 1) &\n",
    "                                                      (df.cat_Q024 == 0) &\n",
    "                                                      (df.cat_Q022 != 0), 'I_nComp_Cel',\n",
    "                                                      np.where((df.cat_Q025 == 1),'SoI' , 'MISSING')))))"
   ]
  },
  {
   "cell_type": "code",
   "execution_count": null,
   "metadata": {},
   "outputs": [],
   "source": [
    "df.tem_TICv2.unique()"
   ]
  },
  {
   "cell_type": "code",
   "execution_count": null,
   "metadata": {},
   "outputs": [],
   "source": [
    "df['tem_TICv3'] = np.where((df.cat_Q025 == 0), 'NI',#nao tem acesso a internet\n",
    "                          np.where((df.cat_Q025 == 1) & \n",
    "                                    (df.cat_Q024 != 0) &\n",
    "                                    (df.cat_Q024 != -1), 'IeC',#tem acesso a internet e computador\n",
    "                                    np.where((df.cat_Q025 == 1) &\n",
    "                                             (df.cat_Q024 == 0), 'IenC', 'MISSING')))#tem acesso a internet mas não tem computador"
   ]
  },
  {
   "cell_type": "code",
   "execution_count": null,
   "metadata": {},
   "outputs": [],
   "source": [
    "df.tem_TICv3.unique()"
   ]
  },
  {
   "cell_type": "code",
   "execution_count": null,
   "metadata": {},
   "outputs": [],
   "source": [
    "map_TIC = {\n",
    "'MISSING' : 0,\n",
    "'NAO_TEM' : 1,\n",
    "'TEM_NET' : 2, \n",
    "'TEM_PC'  : 3, \n",
    "'PC_NET'  : 4\n",
    "}"
   ]
  },
  {
   "cell_type": "code",
   "execution_count": null,
   "metadata": {},
   "outputs": [],
   "source": [
    "df['TIC'] = df['tem_TIC'].map(map_TIC)\n",
    "\n",
    "\n",
    "\n",
    "df['I'] =  np.where(df.TIC == 1, 0,\n",
    "                       np.where(df.TIC == 2, 1,\n",
    "                                np.where(df.TIC == 3, 0,\n",
    "                                        np.where(df.TIC == 4, 1, 0))))\n",
    "                                         \n",
    "                                         \n",
    "df['C'] =  np.where(df.TIC == 1, 0,\n",
    "                       np.where(df.TIC == 2, 0,\n",
    "                                np.where(df.TIC == 3, 1,\n",
    "                                        np.where(df.TIC == 4, 1, 0))))"
   ]
  },
  {
   "cell_type": "code",
   "execution_count": null,
   "metadata": {},
   "outputs": [],
   "source": [
    "df['sóI'] = df['I'] * (1 - df['C'])\n",
    "df['sóC'] = df['C'] * (1 - df['I'])\n",
    "df['IeC'] = df['I'] * df['C']"
   ]
  },
  {
   "cell_type": "markdown",
   "metadata": {},
   "source": [
    "# Criando a marcação do publico alvo na base final "
   ]
  },
  {
   "cell_type": "markdown",
   "metadata": {},
   "source": [
    "## público alvo = alunos de baixa renda e no último ano do ensino médio"
   ]
  },
  {
   "cell_type": "code",
   "execution_count": null,
   "metadata": {},
   "outputs": [],
   "source": [
    "# Adicionando uma nova coluna \"marcacao\" (alunos cursando 3 ano e de baixa renda - ~5.1 MM)\n",
    "df['marcacao'] = np.where((df['concluinte_3ano'] == 1) & (df['baixarenda'] == 1), 1, 0)"
   ]
  },
  {
   "cell_type": "code",
   "execution_count": null,
   "metadata": {},
   "outputs": [],
   "source": [
    "df['marcacao'].value_counts()"
   ]
  },
  {
   "cell_type": "code",
   "execution_count": null,
   "metadata": {},
   "outputs": [],
   "source": [
    "df.shape"
   ]
  },
  {
   "cell_type": "code",
   "execution_count": null,
   "metadata": {},
   "outputs": [],
   "source": [
    "list(df)"
   ]
  },
  {
   "cell_type": "code",
   "execution_count": null,
   "metadata": {},
   "outputs": [],
   "source": [
    "to_keep_finals_features = [\n",
    " 'NU_ANO',\n",
    " #'SG_UF_RESIDENCIA',\n",
    " 'NU_IDADE',\n",
    "# 'TP_SEXO',\n",
    " 'TP_ESTADO_CIVIL',\n",
    " 'TP_COR_RACA',\n",
    "# 'TP_NACIONALIDADE',\n",
    " 'TP_ST_CONCLUSAO',\n",
    " 'TP_ANO_CONCLUIU',\n",
    " 'TP_ESCOLA', #tipo da escola#\n",
    " #'TP_PRESENCA_MT',\n",
    " #'TP_PRESENCA_CN',\n",
    " #'TP_PRESENCA_CH',\n",
    " #'TP_PRESENCA_LC',\n",
    " #'presenca_todas',\n",
    " 'NU_NOTA_CN',\n",
    " 'NU_NOTA_CH',\n",
    " 'NU_NOTA_LC',\n",
    " 'NU_NOTA_MT',\n",
    " #'TP_STATUS_REDACAO',\n",
    " 'NU_NOTA_REDACAO',\n",
    "# 'CO_MUNICIPIO_PROVA',\n",
    "# 'NO_MUNICIPIO_PROVA',\n",
    "# 'CO_UF_PROVA',\n",
    "# 'SG_UF_PROVA',\n",
    " 'Q001',\n",
    " 'Q002',\n",
    " #'Q003',\n",
    " #'Q004',\n",
    " 'Q005', #tamanho da familia#\n",
    " #'Q006',\n",
    " #'Q007',\n",
    " #'Q008',\n",
    " #'Q009',\n",
    " #'Q010',\n",
    " #'Q011',\n",
    " #'Q012',\n",
    " #'Q013',\n",
    " #'Q014',\n",
    " #'Q015',\n",
    " #'Q016',\n",
    " #'Q017',\n",
    " #'Q018',\n",
    " #'Q019',\n",
    " #'Q020',\n",
    " 'Q021',\n",
    " 'Q022',\n",
    " #'Q023',\n",
    " 'Q024',\n",
    " 'Q025',\n",
    " #'NU_IDADE1',\n",
    " #'NU_NOTA_MT_acima1000',\n",
    " #'NU_NOTA_MT_1',\n",
    " 'concluinte_3ano',\n",
    " 'baixarenda',\n",
    " 'marcacao',\n",
    " 'cat_Q001',#escolar pai#\n",
    " 'cat_Q002', #escolar mae#\n",
    " 'cat_Q003',\n",
    " 'cat_Q004',\n",
    " 'cat_Q006',\n",
    " 'cat_Q007',\n",
    " 'cat_Q008',\n",
    " 'cat_Q009',\n",
    " 'cat_Q010',\n",
    " 'cat_Q011',\n",
    " 'cat_Q012',\n",
    " 'cat_Q013',\n",
    " 'cat_Q014',\n",
    " 'cat_Q015',\n",
    " 'cat_Q016',\n",
    " 'cat_Q017',\n",
    " 'cat_Q019',\n",
    " 'cat_Q022',\n",
    " 'cat_Q024',\n",
    " 'cat_Q018',\n",
    " 'cat_Q020',\n",
    " 'cat_Q021',\n",
    " 'cat_Q023',\n",
    " 'cat_Q025',\n",
    " 'FEMININO',\n",
    " 'REG_UF',\n",
    " 'cat_Norte',\n",
    " 'cat_Nordeste',\n",
    " 'cat_Sul',\n",
    " 'cat_CentroOeste',\n",
    " 'cat_Sudeste',\n",
    " 'tem_TIC',\n",
    " 'tem_TICv2',\n",
    " 'tem_TICv3',\n",
    " 'TIC',\n",
    " 'I',\n",
    " 'C',\n",
    " 'sóI',\n",
    " 'sóC',\n",
    " 'IeC'\n",
    "]"
   ]
  },
  {
   "cell_type": "code",
   "execution_count": null,
   "metadata": {},
   "outputs": [],
   "source": []
  },
  {
   "cell_type": "code",
   "execution_count": null,
   "metadata": {},
   "outputs": [],
   "source": []
  },
  {
   "cell_type": "code",
   "execution_count": null,
   "metadata": {},
   "outputs": [],
   "source": []
  },
  {
   "cell_type": "code",
   "execution_count": null,
   "metadata": {},
   "outputs": [],
   "source": [
    "df_final = df[to_keep_finals_features]"
   ]
  },
  {
   "cell_type": "code",
   "execution_count": null,
   "metadata": {},
   "outputs": [],
   "source": [
    "df_final.shape"
   ]
  },
  {
   "cell_type": "code",
   "execution_count": null,
   "metadata": {},
   "outputs": [],
   "source": [
    "print(df_final[['marcacao']].head())"
   ]
  },
  {
   "cell_type": "code",
   "execution_count": null,
   "metadata": {},
   "outputs": [],
   "source": [
    "#df_validacao = df_final.groupby(['marcacao']).size().reset_index(name='counts')"
   ]
  },
  {
   "cell_type": "code",
   "execution_count": null,
   "metadata": {},
   "outputs": [],
   "source": [
    "#df_validacao"
   ]
  },
  {
   "cell_type": "code",
   "execution_count": null,
   "metadata": {},
   "outputs": [],
   "source": [
    "#df_validacao = df_final.groupby(['NU_ANO','marcacao', 'baixarenda', 'concluinte_3ano']).size().reset_index(name='qtd')"
   ]
  },
  {
   "cell_type": "code",
   "execution_count": null,
   "metadata": {},
   "outputs": [],
   "source": [
    "#df_validacao"
   ]
  },
  {
   "cell_type": "code",
   "execution_count": null,
   "metadata": {},
   "outputs": [],
   "source": [
    "#df_validacao = df_final.groupby(['NU_ANO', 'concluinte_3ano']).size().reset_index(name='counts')"
   ]
  },
  {
   "cell_type": "code",
   "execution_count": null,
   "metadata": {},
   "outputs": [],
   "source": [
    "#df_validacao"
   ]
  },
  {
   "cell_type": "code",
   "execution_count": null,
   "metadata": {},
   "outputs": [],
   "source": [
    "#df_validacao = df_final.groupby(['NU_ANO', 'baixarenda']).size().reset_index(name='counts')"
   ]
  },
  {
   "cell_type": "code",
   "execution_count": null,
   "metadata": {},
   "outputs": [],
   "source": [
    "#df_validacao"
   ]
  },
  {
   "cell_type": "code",
   "execution_count": null,
   "metadata": {},
   "outputs": [],
   "source": [
    "#df_final.info()"
   ]
  },
  {
   "cell_type": "markdown",
   "metadata": {},
   "source": [
    "# Salvando a base final dos alunos presentes com marcação do público"
   ]
  },
  {
   "cell_type": "code",
   "execution_count": null,
   "metadata": {},
   "outputs": [],
   "source": [
    "# save final data base marcada com o publico alvo (baixa renda e ult ano em)\n",
    "df_final.to_csv('df_presentes_sm_marcada.csv', sep = ';', index = False)"
   ]
  },
  {
   "cell_type": "code",
   "execution_count": 12,
   "metadata": {},
   "outputs": [],
   "source": [
    "inscritos_ano = df1.groupby(['NU_ANO']).size().reset_index(name='counts')"
   ]
  },
  {
   "cell_type": "code",
   "execution_count": 13,
   "metadata": {},
   "outputs": [
    {
     "data": {
      "text/html": [
       "<div>\n",
       "<style scoped>\n",
       "    .dataframe tbody tr th:only-of-type {\n",
       "        vertical-align: middle;\n",
       "    }\n",
       "\n",
       "    .dataframe tbody tr th {\n",
       "        vertical-align: top;\n",
       "    }\n",
       "\n",
       "    .dataframe thead th {\n",
       "        text-align: right;\n",
       "    }\n",
       "</style>\n",
       "<table border=\"1\" class=\"dataframe\">\n",
       "  <thead>\n",
       "    <tr style=\"text-align: right;\">\n",
       "      <th></th>\n",
       "      <th>NU_ANO</th>\n",
       "      <th>counts</th>\n",
       "    </tr>\n",
       "  </thead>\n",
       "  <tbody>\n",
       "    <tr>\n",
       "      <th>0</th>\n",
       "      <td>2015</td>\n",
       "      <td>5604905</td>\n",
       "    </tr>\n",
       "    <tr>\n",
       "      <th>1</th>\n",
       "      <td>2016</td>\n",
       "      <td>5818446</td>\n",
       "    </tr>\n",
       "    <tr>\n",
       "      <th>2</th>\n",
       "      <td>2017</td>\n",
       "      <td>4426755</td>\n",
       "    </tr>\n",
       "    <tr>\n",
       "      <th>3</th>\n",
       "      <td>2018</td>\n",
       "      <td>3893743</td>\n",
       "    </tr>\n",
       "    <tr>\n",
       "      <th>4</th>\n",
       "      <td>2019</td>\n",
       "      <td>3702008</td>\n",
       "    </tr>\n",
       "    <tr>\n",
       "      <th>5</th>\n",
       "      <td>2020</td>\n",
       "      <td>2588681</td>\n",
       "    </tr>\n",
       "    <tr>\n",
       "      <th>6</th>\n",
       "      <td>2021</td>\n",
       "      <td>2238107</td>\n",
       "    </tr>\n",
       "    <tr>\n",
       "      <th>7</th>\n",
       "      <td>2022</td>\n",
       "      <td>2344823</td>\n",
       "    </tr>\n",
       "    <tr>\n",
       "      <th>8</th>\n",
       "      <td>2023</td>\n",
       "      <td>2678264</td>\n",
       "    </tr>\n",
       "  </tbody>\n",
       "</table>\n",
       "</div>"
      ],
      "text/plain": [
       "   NU_ANO   counts\n",
       "0    2015  5604905\n",
       "1    2016  5818446\n",
       "2    2017  4426755\n",
       "3    2018  3893743\n",
       "4    2019  3702008\n",
       "5    2020  2588681\n",
       "6    2021  2238107\n",
       "7    2022  2344823\n",
       "8    2023  2678264"
      ]
     },
     "execution_count": 13,
     "metadata": {},
     "output_type": "execute_result"
    }
   ],
   "source": [
    "inscritos_ano"
   ]
  },
  {
   "cell_type": "code",
   "execution_count": 37,
   "metadata": {},
   "outputs": [],
   "source": [
    "df_validacao = df1[df1.TP_ST_CONCLUSAO == 2]"
   ]
  },
  {
   "cell_type": "code",
   "execution_count": 38,
   "metadata": {},
   "outputs": [
    {
     "data": {
      "text/plain": [
       "count   10484719.00\n",
       "mean           2.00\n",
       "std            0.00\n",
       "min            2.00\n",
       "25%            2.00\n",
       "50%            2.00\n",
       "75%            2.00\n",
       "max            2.00\n",
       "Name: TP_ST_CONCLUSAO, dtype: float64"
      ]
     },
     "execution_count": 38,
     "metadata": {},
     "output_type": "execute_result"
    }
   ],
   "source": [
    "df_validacao.TP_ST_CONCLUSAO.describe()"
   ]
  },
  {
   "cell_type": "markdown",
   "metadata": {},
   "source": [
    "# inscritos x 3 ano  "
   ]
  },
  {
   "cell_type": "code",
   "execution_count": null,
   "metadata": {},
   "outputs": [],
   "source": [
    "df_inscritos = df1.groupby(['NU_ANO', 'TP_ST_CONCLUSAO']).size().reset_index(name='counts')"
   ]
  },
  {
   "cell_type": "markdown",
   "metadata": {},
   "source": [
    "## presentes x 3 ano"
   ]
  },
  {
   "cell_type": "code",
   "execution_count": 9,
   "metadata": {},
   "outputs": [
    {
     "data": {
      "text/plain": [
       "(32601016, 56)"
      ]
     },
     "execution_count": 9,
     "metadata": {},
     "output_type": "execute_result"
    }
   ],
   "source": [
    "file = 'df_presentes_sm_marcada.csv'\n",
    "df2 = pd.read_csv(file, sep = ';', encoding = 'ISO-8859-1')\n",
    "df2.shape"
   ]
  },
  {
   "cell_type": "code",
   "execution_count": 22,
   "metadata": {},
   "outputs": [],
   "source": []
  },
  {
   "cell_type": "code",
   "execution_count": 24,
   "metadata": {},
   "outputs": [],
   "source": [
    "df_validacao = df2.groupby(['NU_ANO', 'REG_UF']).size().reset_index(name='counts')"
   ]
  },
  {
   "cell_type": "code",
   "execution_count": 25,
   "metadata": {},
   "outputs": [
    {
     "data": {
      "text/html": [
       "<div>\n",
       "<style scoped>\n",
       "    .dataframe tbody tr th:only-of-type {\n",
       "        vertical-align: middle;\n",
       "    }\n",
       "\n",
       "    .dataframe tbody tr th {\n",
       "        vertical-align: top;\n",
       "    }\n",
       "\n",
       "    .dataframe thead th {\n",
       "        text-align: right;\n",
       "    }\n",
       "</style>\n",
       "<table border=\"1\" class=\"dataframe\">\n",
       "  <thead>\n",
       "    <tr style=\"text-align: right;\">\n",
       "      <th></th>\n",
       "      <th>NU_ANO</th>\n",
       "      <th>REG_UF</th>\n",
       "      <th>counts</th>\n",
       "    </tr>\n",
       "  </thead>\n",
       "  <tbody>\n",
       "    <tr>\n",
       "      <th>0</th>\n",
       "      <td>2015</td>\n",
       "      <td>Centro-oeste</td>\n",
       "      <td>468658</td>\n",
       "    </tr>\n",
       "    <tr>\n",
       "      <th>1</th>\n",
       "      <td>2015</td>\n",
       "      <td>Nordeste</td>\n",
       "      <td>1788358</td>\n",
       "    </tr>\n",
       "    <tr>\n",
       "      <th>2</th>\n",
       "      <td>2015</td>\n",
       "      <td>Norte</td>\n",
       "      <td>551796</td>\n",
       "    </tr>\n",
       "    <tr>\n",
       "      <th>3</th>\n",
       "      <td>2015</td>\n",
       "      <td>Sudeste</td>\n",
       "      <td>1967749</td>\n",
       "    </tr>\n",
       "    <tr>\n",
       "      <th>4</th>\n",
       "      <td>2015</td>\n",
       "      <td>Sul</td>\n",
       "      <td>634471</td>\n",
       "    </tr>\n",
       "    <tr>\n",
       "      <th>5</th>\n",
       "      <td>2016</td>\n",
       "      <td>Centro-oeste</td>\n",
       "      <td>474799</td>\n",
       "    </tr>\n",
       "    <tr>\n",
       "      <th>6</th>\n",
       "      <td>2016</td>\n",
       "      <td>Nordeste</td>\n",
       "      <td>1904434</td>\n",
       "    </tr>\n",
       "    <tr>\n",
       "      <th>7</th>\n",
       "      <td>2016</td>\n",
       "      <td>Norte</td>\n",
       "      <td>609762</td>\n",
       "    </tr>\n",
       "    <tr>\n",
       "      <th>8</th>\n",
       "      <td>2016</td>\n",
       "      <td>Sudeste</td>\n",
       "      <td>1981374</td>\n",
       "    </tr>\n",
       "    <tr>\n",
       "      <th>9</th>\n",
       "      <td>2016</td>\n",
       "      <td>Sul</td>\n",
       "      <td>643618</td>\n",
       "    </tr>\n",
       "    <tr>\n",
       "      <th>10</th>\n",
       "      <td>2017</td>\n",
       "      <td>Centro-oeste</td>\n",
       "      <td>342392</td>\n",
       "    </tr>\n",
       "    <tr>\n",
       "      <th>11</th>\n",
       "      <td>2017</td>\n",
       "      <td>Nordeste</td>\n",
       "      <td>1457949</td>\n",
       "    </tr>\n",
       "    <tr>\n",
       "      <th>12</th>\n",
       "      <td>2017</td>\n",
       "      <td>Norte</td>\n",
       "      <td>481132</td>\n",
       "    </tr>\n",
       "    <tr>\n",
       "      <th>13</th>\n",
       "      <td>2017</td>\n",
       "      <td>Sudeste</td>\n",
       "      <td>1550890</td>\n",
       "    </tr>\n",
       "    <tr>\n",
       "      <th>14</th>\n",
       "      <td>2017</td>\n",
       "      <td>Sul</td>\n",
       "      <td>451189</td>\n",
       "    </tr>\n",
       "    <tr>\n",
       "      <th>15</th>\n",
       "      <td>2018</td>\n",
       "      <td>Centro-oeste</td>\n",
       "      <td>306983</td>\n",
       "    </tr>\n",
       "    <tr>\n",
       "      <th>16</th>\n",
       "      <td>2018</td>\n",
       "      <td>Nordeste</td>\n",
       "      <td>1276342</td>\n",
       "    </tr>\n",
       "    <tr>\n",
       "      <th>17</th>\n",
       "      <td>2018</td>\n",
       "      <td>Norte</td>\n",
       "      <td>411159</td>\n",
       "    </tr>\n",
       "    <tr>\n",
       "      <th>18</th>\n",
       "      <td>2018</td>\n",
       "      <td>Sudeste</td>\n",
       "      <td>1371608</td>\n",
       "    </tr>\n",
       "    <tr>\n",
       "      <th>19</th>\n",
       "      <td>2018</td>\n",
       "      <td>Sul</td>\n",
       "      <td>401909</td>\n",
       "    </tr>\n",
       "    <tr>\n",
       "      <th>20</th>\n",
       "      <td>2019</td>\n",
       "      <td>Centro-oeste</td>\n",
       "      <td>299647</td>\n",
       "    </tr>\n",
       "    <tr>\n",
       "      <th>21</th>\n",
       "      <td>2019</td>\n",
       "      <td>Nordeste</td>\n",
       "      <td>1303225</td>\n",
       "    </tr>\n",
       "    <tr>\n",
       "      <th>22</th>\n",
       "      <td>2019</td>\n",
       "      <td>Norte</td>\n",
       "      <td>422456</td>\n",
       "    </tr>\n",
       "    <tr>\n",
       "      <th>23</th>\n",
       "      <td>2019</td>\n",
       "      <td>Sudeste</td>\n",
       "      <td>1290969</td>\n",
       "    </tr>\n",
       "    <tr>\n",
       "      <th>24</th>\n",
       "      <td>2019</td>\n",
       "      <td>Sul</td>\n",
       "      <td>385650</td>\n",
       "    </tr>\n",
       "    <tr>\n",
       "      <th>25</th>\n",
       "      <td>2020</td>\n",
       "      <td>Centro-oeste</td>\n",
       "      <td>211759</td>\n",
       "    </tr>\n",
       "    <tr>\n",
       "      <th>26</th>\n",
       "      <td>2020</td>\n",
       "      <td>Nordeste</td>\n",
       "      <td>940952</td>\n",
       "    </tr>\n",
       "    <tr>\n",
       "      <th>27</th>\n",
       "      <td>2020</td>\n",
       "      <td>Norte</td>\n",
       "      <td>293523</td>\n",
       "    </tr>\n",
       "    <tr>\n",
       "      <th>28</th>\n",
       "      <td>2020</td>\n",
       "      <td>Sudeste</td>\n",
       "      <td>847454</td>\n",
       "    </tr>\n",
       "    <tr>\n",
       "      <th>29</th>\n",
       "      <td>2020</td>\n",
       "      <td>Sul</td>\n",
       "      <td>267616</td>\n",
       "    </tr>\n",
       "    <tr>\n",
       "      <th>30</th>\n",
       "      <td>2021</td>\n",
       "      <td>Centro-oeste</td>\n",
       "      <td>190735</td>\n",
       "    </tr>\n",
       "    <tr>\n",
       "      <th>31</th>\n",
       "      <td>2021</td>\n",
       "      <td>Nordeste</td>\n",
       "      <td>793948</td>\n",
       "    </tr>\n",
       "    <tr>\n",
       "      <th>32</th>\n",
       "      <td>2021</td>\n",
       "      <td>Norte</td>\n",
       "      <td>232976</td>\n",
       "    </tr>\n",
       "    <tr>\n",
       "      <th>33</th>\n",
       "      <td>2021</td>\n",
       "      <td>Sudeste</td>\n",
       "      <td>769156</td>\n",
       "    </tr>\n",
       "    <tr>\n",
       "      <th>34</th>\n",
       "      <td>2021</td>\n",
       "      <td>Sul</td>\n",
       "      <td>251291</td>\n",
       "    </tr>\n",
       "    <tr>\n",
       "      <th>35</th>\n",
       "      <td>2022</td>\n",
       "      <td>Centro-oeste</td>\n",
       "      <td>199844</td>\n",
       "    </tr>\n",
       "    <tr>\n",
       "      <th>36</th>\n",
       "      <td>2022</td>\n",
       "      <td>Nordeste</td>\n",
       "      <td>840504</td>\n",
       "    </tr>\n",
       "    <tr>\n",
       "      <th>37</th>\n",
       "      <td>2022</td>\n",
       "      <td>Norte</td>\n",
       "      <td>247745</td>\n",
       "    </tr>\n",
       "    <tr>\n",
       "      <th>38</th>\n",
       "      <td>2022</td>\n",
       "      <td>Sudeste</td>\n",
       "      <td>798916</td>\n",
       "    </tr>\n",
       "    <tr>\n",
       "      <th>39</th>\n",
       "      <td>2022</td>\n",
       "      <td>Sul</td>\n",
       "      <td>257814</td>\n",
       "    </tr>\n",
       "    <tr>\n",
       "      <th>40</th>\n",
       "      <td>2023</td>\n",
       "      <td>Centro-oeste</td>\n",
       "      <td>219338</td>\n",
       "    </tr>\n",
       "    <tr>\n",
       "      <th>41</th>\n",
       "      <td>2023</td>\n",
       "      <td>Nordeste</td>\n",
       "      <td>992324</td>\n",
       "    </tr>\n",
       "    <tr>\n",
       "      <th>42</th>\n",
       "      <td>2023</td>\n",
       "      <td>Norte</td>\n",
       "      <td>285159</td>\n",
       "    </tr>\n",
       "    <tr>\n",
       "      <th>43</th>\n",
       "      <td>2023</td>\n",
       "      <td>Sudeste</td>\n",
       "      <td>893232</td>\n",
       "    </tr>\n",
       "    <tr>\n",
       "      <th>44</th>\n",
       "      <td>2023</td>\n",
       "      <td>Sul</td>\n",
       "      <td>288211</td>\n",
       "    </tr>\n",
       "  </tbody>\n",
       "</table>\n",
       "</div>"
      ],
      "text/plain": [
       "    NU_ANO        REG_UF   counts\n",
       "0     2015  Centro-oeste   468658\n",
       "1     2015      Nordeste  1788358\n",
       "2     2015         Norte   551796\n",
       "3     2015       Sudeste  1967749\n",
       "4     2015           Sul   634471\n",
       "5     2016  Centro-oeste   474799\n",
       "6     2016      Nordeste  1904434\n",
       "7     2016         Norte   609762\n",
       "8     2016       Sudeste  1981374\n",
       "9     2016           Sul   643618\n",
       "10    2017  Centro-oeste   342392\n",
       "11    2017      Nordeste  1457949\n",
       "12    2017         Norte   481132\n",
       "13    2017       Sudeste  1550890\n",
       "14    2017           Sul   451189\n",
       "15    2018  Centro-oeste   306983\n",
       "16    2018      Nordeste  1276342\n",
       "17    2018         Norte   411159\n",
       "18    2018       Sudeste  1371608\n",
       "19    2018           Sul   401909\n",
       "20    2019  Centro-oeste   299647\n",
       "21    2019      Nordeste  1303225\n",
       "22    2019         Norte   422456\n",
       "23    2019       Sudeste  1290969\n",
       "24    2019           Sul   385650\n",
       "25    2020  Centro-oeste   211759\n",
       "26    2020      Nordeste   940952\n",
       "27    2020         Norte   293523\n",
       "28    2020       Sudeste   847454\n",
       "29    2020           Sul   267616\n",
       "30    2021  Centro-oeste   190735\n",
       "31    2021      Nordeste   793948\n",
       "32    2021         Norte   232976\n",
       "33    2021       Sudeste   769156\n",
       "34    2021           Sul   251291\n",
       "35    2022  Centro-oeste   199844\n",
       "36    2022      Nordeste   840504\n",
       "37    2022         Norte   247745\n",
       "38    2022       Sudeste   798916\n",
       "39    2022           Sul   257814\n",
       "40    2023  Centro-oeste   219338\n",
       "41    2023      Nordeste   992324\n",
       "42    2023         Norte   285159\n",
       "43    2023       Sudeste   893232\n",
       "44    2023           Sul   288211"
      ]
     },
     "execution_count": 25,
     "metadata": {},
     "output_type": "execute_result"
    }
   ],
   "source": [
    "df_validacao"
   ]
  },
  {
   "cell_type": "code",
   "execution_count": 26,
   "metadata": {},
   "outputs": [],
   "source": [
    "df_validacao = df3.groupby(['NU_ANO', 'REG_UF']).size().reset_index(name='counts')"
   ]
  },
  {
   "cell_type": "code",
   "execution_count": 27,
   "metadata": {},
   "outputs": [
    {
     "data": {
      "text/html": [
       "<div>\n",
       "<style scoped>\n",
       "    .dataframe tbody tr th:only-of-type {\n",
       "        vertical-align: middle;\n",
       "    }\n",
       "\n",
       "    .dataframe tbody tr th {\n",
       "        vertical-align: top;\n",
       "    }\n",
       "\n",
       "    .dataframe thead th {\n",
       "        text-align: right;\n",
       "    }\n",
       "</style>\n",
       "<table border=\"1\" class=\"dataframe\">\n",
       "  <thead>\n",
       "    <tr style=\"text-align: right;\">\n",
       "      <th></th>\n",
       "      <th>NU_ANO</th>\n",
       "      <th>REG_UF</th>\n",
       "      <th>counts</th>\n",
       "    </tr>\n",
       "  </thead>\n",
       "  <tbody>\n",
       "    <tr>\n",
       "      <th>0</th>\n",
       "      <td>2015</td>\n",
       "      <td>Centro-oeste</td>\n",
       "      <td>122874</td>\n",
       "    </tr>\n",
       "    <tr>\n",
       "      <th>1</th>\n",
       "      <td>2015</td>\n",
       "      <td>Nordeste</td>\n",
       "      <td>384666</td>\n",
       "    </tr>\n",
       "    <tr>\n",
       "      <th>2</th>\n",
       "      <td>2015</td>\n",
       "      <td>Norte</td>\n",
       "      <td>122814</td>\n",
       "    </tr>\n",
       "    <tr>\n",
       "      <th>3</th>\n",
       "      <td>2015</td>\n",
       "      <td>Sudeste</td>\n",
       "      <td>582661</td>\n",
       "    </tr>\n",
       "    <tr>\n",
       "      <th>4</th>\n",
       "      <td>2015</td>\n",
       "      <td>Sul</td>\n",
       "      <td>187586</td>\n",
       "    </tr>\n",
       "    <tr>\n",
       "      <th>5</th>\n",
       "      <td>2016</td>\n",
       "      <td>Centro-oeste</td>\n",
       "      <td>128930</td>\n",
       "    </tr>\n",
       "    <tr>\n",
       "      <th>6</th>\n",
       "      <td>2016</td>\n",
       "      <td>Nordeste</td>\n",
       "      <td>415398</td>\n",
       "    </tr>\n",
       "    <tr>\n",
       "      <th>7</th>\n",
       "      <td>2016</td>\n",
       "      <td>Norte</td>\n",
       "      <td>141479</td>\n",
       "    </tr>\n",
       "    <tr>\n",
       "      <th>8</th>\n",
       "      <td>2016</td>\n",
       "      <td>Sudeste</td>\n",
       "      <td>598163</td>\n",
       "    </tr>\n",
       "    <tr>\n",
       "      <th>9</th>\n",
       "      <td>2016</td>\n",
       "      <td>Sul</td>\n",
       "      <td>206540</td>\n",
       "    </tr>\n",
       "    <tr>\n",
       "      <th>10</th>\n",
       "      <td>2017</td>\n",
       "      <td>Centro-oeste</td>\n",
       "      <td>112292</td>\n",
       "    </tr>\n",
       "    <tr>\n",
       "      <th>11</th>\n",
       "      <td>2017</td>\n",
       "      <td>Nordeste</td>\n",
       "      <td>399096</td>\n",
       "    </tr>\n",
       "    <tr>\n",
       "      <th>12</th>\n",
       "      <td>2017</td>\n",
       "      <td>Norte</td>\n",
       "      <td>133933</td>\n",
       "    </tr>\n",
       "    <tr>\n",
       "      <th>13</th>\n",
       "      <td>2017</td>\n",
       "      <td>Sudeste</td>\n",
       "      <td>551021</td>\n",
       "    </tr>\n",
       "    <tr>\n",
       "      <th>14</th>\n",
       "      <td>2017</td>\n",
       "      <td>Sul</td>\n",
       "      <td>160128</td>\n",
       "    </tr>\n",
       "    <tr>\n",
       "      <th>15</th>\n",
       "      <td>2018</td>\n",
       "      <td>Centro-oeste</td>\n",
       "      <td>107544</td>\n",
       "    </tr>\n",
       "    <tr>\n",
       "      <th>16</th>\n",
       "      <td>2018</td>\n",
       "      <td>Nordeste</td>\n",
       "      <td>383701</td>\n",
       "    </tr>\n",
       "    <tr>\n",
       "      <th>17</th>\n",
       "      <td>2018</td>\n",
       "      <td>Norte</td>\n",
       "      <td>118385</td>\n",
       "    </tr>\n",
       "    <tr>\n",
       "      <th>18</th>\n",
       "      <td>2018</td>\n",
       "      <td>Sudeste</td>\n",
       "      <td>494679</td>\n",
       "    </tr>\n",
       "    <tr>\n",
       "      <th>19</th>\n",
       "      <td>2018</td>\n",
       "      <td>Sul</td>\n",
       "      <td>136312</td>\n",
       "    </tr>\n",
       "    <tr>\n",
       "      <th>20</th>\n",
       "      <td>2019</td>\n",
       "      <td>Centro-oeste</td>\n",
       "      <td>102705</td>\n",
       "    </tr>\n",
       "    <tr>\n",
       "      <th>21</th>\n",
       "      <td>2019</td>\n",
       "      <td>Nordeste</td>\n",
       "      <td>388850</td>\n",
       "    </tr>\n",
       "    <tr>\n",
       "      <th>22</th>\n",
       "      <td>2019</td>\n",
       "      <td>Norte</td>\n",
       "      <td>113824</td>\n",
       "    </tr>\n",
       "    <tr>\n",
       "      <th>23</th>\n",
       "      <td>2019</td>\n",
       "      <td>Sudeste</td>\n",
       "      <td>466401</td>\n",
       "    </tr>\n",
       "    <tr>\n",
       "      <th>24</th>\n",
       "      <td>2019</td>\n",
       "      <td>Sul</td>\n",
       "      <td>145341</td>\n",
       "    </tr>\n",
       "    <tr>\n",
       "      <th>25</th>\n",
       "      <td>2020</td>\n",
       "      <td>Centro-oeste</td>\n",
       "      <td>76089</td>\n",
       "    </tr>\n",
       "    <tr>\n",
       "      <th>26</th>\n",
       "      <td>2020</td>\n",
       "      <td>Nordeste</td>\n",
       "      <td>269132</td>\n",
       "    </tr>\n",
       "    <tr>\n",
       "      <th>27</th>\n",
       "      <td>2020</td>\n",
       "      <td>Norte</td>\n",
       "      <td>76017</td>\n",
       "    </tr>\n",
       "    <tr>\n",
       "      <th>28</th>\n",
       "      <td>2020</td>\n",
       "      <td>Sudeste</td>\n",
       "      <td>283939</td>\n",
       "    </tr>\n",
       "    <tr>\n",
       "      <th>29</th>\n",
       "      <td>2020</td>\n",
       "      <td>Sul</td>\n",
       "      <td>99896</td>\n",
       "    </tr>\n",
       "    <tr>\n",
       "      <th>30</th>\n",
       "      <td>2021</td>\n",
       "      <td>Centro-oeste</td>\n",
       "      <td>79136</td>\n",
       "    </tr>\n",
       "    <tr>\n",
       "      <th>31</th>\n",
       "      <td>2021</td>\n",
       "      <td>Nordeste</td>\n",
       "      <td>283921</td>\n",
       "    </tr>\n",
       "    <tr>\n",
       "      <th>32</th>\n",
       "      <td>2021</td>\n",
       "      <td>Norte</td>\n",
       "      <td>77942</td>\n",
       "    </tr>\n",
       "    <tr>\n",
       "      <th>33</th>\n",
       "      <td>2021</td>\n",
       "      <td>Sudeste</td>\n",
       "      <td>297568</td>\n",
       "    </tr>\n",
       "    <tr>\n",
       "      <th>34</th>\n",
       "      <td>2021</td>\n",
       "      <td>Sul</td>\n",
       "      <td>108832</td>\n",
       "    </tr>\n",
       "    <tr>\n",
       "      <th>35</th>\n",
       "      <td>2022</td>\n",
       "      <td>Centro-oeste</td>\n",
       "      <td>91607</td>\n",
       "    </tr>\n",
       "    <tr>\n",
       "      <th>36</th>\n",
       "      <td>2022</td>\n",
       "      <td>Nordeste</td>\n",
       "      <td>313731</td>\n",
       "    </tr>\n",
       "    <tr>\n",
       "      <th>37</th>\n",
       "      <td>2022</td>\n",
       "      <td>Norte</td>\n",
       "      <td>89344</td>\n",
       "    </tr>\n",
       "    <tr>\n",
       "      <th>38</th>\n",
       "      <td>2022</td>\n",
       "      <td>Sudeste</td>\n",
       "      <td>341720</td>\n",
       "    </tr>\n",
       "    <tr>\n",
       "      <th>39</th>\n",
       "      <td>2022</td>\n",
       "      <td>Sul</td>\n",
       "      <td>121329</td>\n",
       "    </tr>\n",
       "    <tr>\n",
       "      <th>40</th>\n",
       "      <td>2023</td>\n",
       "      <td>Centro-oeste</td>\n",
       "      <td>97226</td>\n",
       "    </tr>\n",
       "    <tr>\n",
       "      <th>41</th>\n",
       "      <td>2023</td>\n",
       "      <td>Nordeste</td>\n",
       "      <td>350965</td>\n",
       "    </tr>\n",
       "    <tr>\n",
       "      <th>42</th>\n",
       "      <td>2023</td>\n",
       "      <td>Norte</td>\n",
       "      <td>100706</td>\n",
       "    </tr>\n",
       "    <tr>\n",
       "      <th>43</th>\n",
       "      <td>2023</td>\n",
       "      <td>Sudeste</td>\n",
       "      <td>365853</td>\n",
       "    </tr>\n",
       "    <tr>\n",
       "      <th>44</th>\n",
       "      <td>2023</td>\n",
       "      <td>Sul</td>\n",
       "      <td>136113</td>\n",
       "    </tr>\n",
       "  </tbody>\n",
       "</table>\n",
       "</div>"
      ],
      "text/plain": [
       "    NU_ANO        REG_UF  counts\n",
       "0     2015  Centro-oeste  122874\n",
       "1     2015      Nordeste  384666\n",
       "2     2015         Norte  122814\n",
       "3     2015       Sudeste  582661\n",
       "4     2015           Sul  187586\n",
       "5     2016  Centro-oeste  128930\n",
       "6     2016      Nordeste  415398\n",
       "7     2016         Norte  141479\n",
       "8     2016       Sudeste  598163\n",
       "9     2016           Sul  206540\n",
       "10    2017  Centro-oeste  112292\n",
       "11    2017      Nordeste  399096\n",
       "12    2017         Norte  133933\n",
       "13    2017       Sudeste  551021\n",
       "14    2017           Sul  160128\n",
       "15    2018  Centro-oeste  107544\n",
       "16    2018      Nordeste  383701\n",
       "17    2018         Norte  118385\n",
       "18    2018       Sudeste  494679\n",
       "19    2018           Sul  136312\n",
       "20    2019  Centro-oeste  102705\n",
       "21    2019      Nordeste  388850\n",
       "22    2019         Norte  113824\n",
       "23    2019       Sudeste  466401\n",
       "24    2019           Sul  145341\n",
       "25    2020  Centro-oeste   76089\n",
       "26    2020      Nordeste  269132\n",
       "27    2020         Norte   76017\n",
       "28    2020       Sudeste  283939\n",
       "29    2020           Sul   99896\n",
       "30    2021  Centro-oeste   79136\n",
       "31    2021      Nordeste  283921\n",
       "32    2021         Norte   77942\n",
       "33    2021       Sudeste  297568\n",
       "34    2021           Sul  108832\n",
       "35    2022  Centro-oeste   91607\n",
       "36    2022      Nordeste  313731\n",
       "37    2022         Norte   89344\n",
       "38    2022       Sudeste  341720\n",
       "39    2022           Sul  121329\n",
       "40    2023  Centro-oeste   97226\n",
       "41    2023      Nordeste  350965\n",
       "42    2023         Norte  100706\n",
       "43    2023       Sudeste  365853\n",
       "44    2023           Sul  136113"
      ]
     },
     "execution_count": 27,
     "metadata": {},
     "output_type": "execute_result"
    }
   ],
   "source": [
    "df_validacao"
   ]
  },
  {
   "cell_type": "code",
   "execution_count": 41,
   "metadata": {},
   "outputs": [],
   "source": [
    "map_REG = {\n",
    "'MG' :'Sudeste',\n",
    "'ES' :'Sudeste',\n",
    "'RJ' :'Sudeste',\n",
    "'SP' :'Sudeste',\n",
    "'RR' :'Norte',\n",
    "'AP' :'Norte',\n",
    "'AM' :'Norte',\n",
    "'PA' :'Norte',\n",
    "'AC' :'Norte',\n",
    "'RO' :'Norte',\n",
    "'TO' :'Norte',\n",
    "'MA' :'Nordeste',\n",
    "'PI' :'Nordeste',\n",
    "'CE' :'Nordeste',\n",
    "'RN' :'Nordeste',\n",
    "'PB' :'Nordeste',\n",
    "'PE' :'Nordeste',\n",
    "'AL' :'Nordeste',\n",
    "'SE' :'Nordeste',\n",
    "'BA' :'Nordeste',\n",
    "'MT' :'Centro-oeste',\n",
    "'DF' :'Centro-oeste',\n",
    "'GO' :'Centro-oeste',\n",
    "'MS' :'Centro-oeste',\n",
    "'PR' :'Sul',\n",
    "'SC' :'Sul',\n",
    "'RS' :'Sul'\n",
    "}"
   ]
  },
  {
   "cell_type": "code",
   "execution_count": 42,
   "metadata": {},
   "outputs": [],
   "source": [
    "df1['REG_UF'] = df1['SG_UF_RESIDENCIA'].map(map_REG)"
   ]
  },
  {
   "cell_type": "code",
   "execution_count": 45,
   "metadata": {},
   "outputs": [],
   "source": [
    "df3 = df1[df1['TP_ST_CONCLUSAO'] == 2]"
   ]
  },
  {
   "cell_type": "code",
   "execution_count": 46,
   "metadata": {},
   "outputs": [],
   "source": [
    "df_validacao = df3.groupby(['NU_ANO', 'REG_UF']).size().reset_index(name='counts')"
   ]
  },
  {
   "cell_type": "code",
   "execution_count": 47,
   "metadata": {},
   "outputs": [
    {
     "data": {
      "text/html": [
       "<div>\n",
       "<style scoped>\n",
       "    .dataframe tbody tr th:only-of-type {\n",
       "        vertical-align: middle;\n",
       "    }\n",
       "\n",
       "    .dataframe tbody tr th {\n",
       "        vertical-align: top;\n",
       "    }\n",
       "\n",
       "    .dataframe thead th {\n",
       "        text-align: right;\n",
       "    }\n",
       "</style>\n",
       "<table border=\"1\" class=\"dataframe\">\n",
       "  <thead>\n",
       "    <tr style=\"text-align: right;\">\n",
       "      <th></th>\n",
       "      <th>NU_ANO</th>\n",
       "      <th>REG_UF</th>\n",
       "      <th>counts</th>\n",
       "    </tr>\n",
       "  </thead>\n",
       "  <tbody>\n",
       "    <tr>\n",
       "      <th>0</th>\n",
       "      <td>2015</td>\n",
       "      <td>Centro-oeste</td>\n",
       "      <td>125265</td>\n",
       "    </tr>\n",
       "    <tr>\n",
       "      <th>1</th>\n",
       "      <td>2015</td>\n",
       "      <td>Nordeste</td>\n",
       "      <td>391194</td>\n",
       "    </tr>\n",
       "    <tr>\n",
       "      <th>2</th>\n",
       "      <td>2015</td>\n",
       "      <td>Norte</td>\n",
       "      <td>125695</td>\n",
       "    </tr>\n",
       "    <tr>\n",
       "      <th>3</th>\n",
       "      <td>2015</td>\n",
       "      <td>Sudeste</td>\n",
       "      <td>590070</td>\n",
       "    </tr>\n",
       "    <tr>\n",
       "      <th>4</th>\n",
       "      <td>2015</td>\n",
       "      <td>Sul</td>\n",
       "      <td>191030</td>\n",
       "    </tr>\n",
       "    <tr>\n",
       "      <th>5</th>\n",
       "      <td>2016</td>\n",
       "      <td>Centro-oeste</td>\n",
       "      <td>132154</td>\n",
       "    </tr>\n",
       "    <tr>\n",
       "      <th>6</th>\n",
       "      <td>2016</td>\n",
       "      <td>Nordeste</td>\n",
       "      <td>423693</td>\n",
       "    </tr>\n",
       "    <tr>\n",
       "      <th>7</th>\n",
       "      <td>2016</td>\n",
       "      <td>Norte</td>\n",
       "      <td>145055</td>\n",
       "    </tr>\n",
       "    <tr>\n",
       "      <th>8</th>\n",
       "      <td>2016</td>\n",
       "      <td>Sudeste</td>\n",
       "      <td>608000</td>\n",
       "    </tr>\n",
       "    <tr>\n",
       "      <th>9</th>\n",
       "      <td>2016</td>\n",
       "      <td>Sul</td>\n",
       "      <td>211144</td>\n",
       "    </tr>\n",
       "    <tr>\n",
       "      <th>10</th>\n",
       "      <td>2017</td>\n",
       "      <td>Centro-oeste</td>\n",
       "      <td>115135</td>\n",
       "    </tr>\n",
       "    <tr>\n",
       "      <th>11</th>\n",
       "      <td>2017</td>\n",
       "      <td>Nordeste</td>\n",
       "      <td>407783</td>\n",
       "    </tr>\n",
       "    <tr>\n",
       "      <th>12</th>\n",
       "      <td>2017</td>\n",
       "      <td>Norte</td>\n",
       "      <td>137345</td>\n",
       "    </tr>\n",
       "    <tr>\n",
       "      <th>13</th>\n",
       "      <td>2017</td>\n",
       "      <td>Sudeste</td>\n",
       "      <td>561384</td>\n",
       "    </tr>\n",
       "    <tr>\n",
       "      <th>14</th>\n",
       "      <td>2017</td>\n",
       "      <td>Sul</td>\n",
       "      <td>163941</td>\n",
       "    </tr>\n",
       "    <tr>\n",
       "      <th>15</th>\n",
       "      <td>2018</td>\n",
       "      <td>Centro-oeste</td>\n",
       "      <td>110267</td>\n",
       "    </tr>\n",
       "    <tr>\n",
       "      <th>16</th>\n",
       "      <td>2018</td>\n",
       "      <td>Nordeste</td>\n",
       "      <td>393119</td>\n",
       "    </tr>\n",
       "    <tr>\n",
       "      <th>17</th>\n",
       "      <td>2018</td>\n",
       "      <td>Norte</td>\n",
       "      <td>121407</td>\n",
       "    </tr>\n",
       "    <tr>\n",
       "      <th>18</th>\n",
       "      <td>2018</td>\n",
       "      <td>Sudeste</td>\n",
       "      <td>504280</td>\n",
       "    </tr>\n",
       "    <tr>\n",
       "      <th>19</th>\n",
       "      <td>2018</td>\n",
       "      <td>Sul</td>\n",
       "      <td>139607</td>\n",
       "    </tr>\n",
       "    <tr>\n",
       "      <th>20</th>\n",
       "      <td>2019</td>\n",
       "      <td>Centro-oeste</td>\n",
       "      <td>102707</td>\n",
       "    </tr>\n",
       "    <tr>\n",
       "      <th>21</th>\n",
       "      <td>2019</td>\n",
       "      <td>Nordeste</td>\n",
       "      <td>388869</td>\n",
       "    </tr>\n",
       "    <tr>\n",
       "      <th>22</th>\n",
       "      <td>2019</td>\n",
       "      <td>Norte</td>\n",
       "      <td>113826</td>\n",
       "    </tr>\n",
       "    <tr>\n",
       "      <th>23</th>\n",
       "      <td>2019</td>\n",
       "      <td>Sudeste</td>\n",
       "      <td>466412</td>\n",
       "    </tr>\n",
       "    <tr>\n",
       "      <th>24</th>\n",
       "      <td>2019</td>\n",
       "      <td>Sul</td>\n",
       "      <td>145342</td>\n",
       "    </tr>\n",
       "    <tr>\n",
       "      <th>25</th>\n",
       "      <td>2020</td>\n",
       "      <td>Centro-oeste</td>\n",
       "      <td>77142</td>\n",
       "    </tr>\n",
       "    <tr>\n",
       "      <th>26</th>\n",
       "      <td>2020</td>\n",
       "      <td>Nordeste</td>\n",
       "      <td>270827</td>\n",
       "    </tr>\n",
       "    <tr>\n",
       "      <th>27</th>\n",
       "      <td>2020</td>\n",
       "      <td>Norte</td>\n",
       "      <td>76793</td>\n",
       "    </tr>\n",
       "    <tr>\n",
       "      <th>28</th>\n",
       "      <td>2020</td>\n",
       "      <td>Sudeste</td>\n",
       "      <td>287925</td>\n",
       "    </tr>\n",
       "    <tr>\n",
       "      <th>29</th>\n",
       "      <td>2020</td>\n",
       "      <td>Sul</td>\n",
       "      <td>101315</td>\n",
       "    </tr>\n",
       "    <tr>\n",
       "      <th>30</th>\n",
       "      <td>2021</td>\n",
       "      <td>Centro-oeste</td>\n",
       "      <td>79136</td>\n",
       "    </tr>\n",
       "    <tr>\n",
       "      <th>31</th>\n",
       "      <td>2021</td>\n",
       "      <td>Nordeste</td>\n",
       "      <td>283921</td>\n",
       "    </tr>\n",
       "    <tr>\n",
       "      <th>32</th>\n",
       "      <td>2021</td>\n",
       "      <td>Norte</td>\n",
       "      <td>77942</td>\n",
       "    </tr>\n",
       "    <tr>\n",
       "      <th>33</th>\n",
       "      <td>2021</td>\n",
       "      <td>Sudeste</td>\n",
       "      <td>297568</td>\n",
       "    </tr>\n",
       "    <tr>\n",
       "      <th>34</th>\n",
       "      <td>2021</td>\n",
       "      <td>Sul</td>\n",
       "      <td>108832</td>\n",
       "    </tr>\n",
       "    <tr>\n",
       "      <th>35</th>\n",
       "      <td>2022</td>\n",
       "      <td>Centro-oeste</td>\n",
       "      <td>91607</td>\n",
       "    </tr>\n",
       "    <tr>\n",
       "      <th>36</th>\n",
       "      <td>2022</td>\n",
       "      <td>Nordeste</td>\n",
       "      <td>313731</td>\n",
       "    </tr>\n",
       "    <tr>\n",
       "      <th>37</th>\n",
       "      <td>2022</td>\n",
       "      <td>Norte</td>\n",
       "      <td>89344</td>\n",
       "    </tr>\n",
       "    <tr>\n",
       "      <th>38</th>\n",
       "      <td>2022</td>\n",
       "      <td>Sudeste</td>\n",
       "      <td>341720</td>\n",
       "    </tr>\n",
       "    <tr>\n",
       "      <th>39</th>\n",
       "      <td>2022</td>\n",
       "      <td>Sul</td>\n",
       "      <td>121329</td>\n",
       "    </tr>\n",
       "    <tr>\n",
       "      <th>40</th>\n",
       "      <td>2023</td>\n",
       "      <td>Centro-oeste</td>\n",
       "      <td>97226</td>\n",
       "    </tr>\n",
       "    <tr>\n",
       "      <th>41</th>\n",
       "      <td>2023</td>\n",
       "      <td>Nordeste</td>\n",
       "      <td>350965</td>\n",
       "    </tr>\n",
       "    <tr>\n",
       "      <th>42</th>\n",
       "      <td>2023</td>\n",
       "      <td>Norte</td>\n",
       "      <td>100706</td>\n",
       "    </tr>\n",
       "    <tr>\n",
       "      <th>43</th>\n",
       "      <td>2023</td>\n",
       "      <td>Sudeste</td>\n",
       "      <td>365853</td>\n",
       "    </tr>\n",
       "    <tr>\n",
       "      <th>44</th>\n",
       "      <td>2023</td>\n",
       "      <td>Sul</td>\n",
       "      <td>136113</td>\n",
       "    </tr>\n",
       "  </tbody>\n",
       "</table>\n",
       "</div>"
      ],
      "text/plain": [
       "    NU_ANO        REG_UF  counts\n",
       "0     2015  Centro-oeste  125265\n",
       "1     2015      Nordeste  391194\n",
       "2     2015         Norte  125695\n",
       "3     2015       Sudeste  590070\n",
       "4     2015           Sul  191030\n",
       "5     2016  Centro-oeste  132154\n",
       "6     2016      Nordeste  423693\n",
       "7     2016         Norte  145055\n",
       "8     2016       Sudeste  608000\n",
       "9     2016           Sul  211144\n",
       "10    2017  Centro-oeste  115135\n",
       "11    2017      Nordeste  407783\n",
       "12    2017         Norte  137345\n",
       "13    2017       Sudeste  561384\n",
       "14    2017           Sul  163941\n",
       "15    2018  Centro-oeste  110267\n",
       "16    2018      Nordeste  393119\n",
       "17    2018         Norte  121407\n",
       "18    2018       Sudeste  504280\n",
       "19    2018           Sul  139607\n",
       "20    2019  Centro-oeste  102707\n",
       "21    2019      Nordeste  388869\n",
       "22    2019         Norte  113826\n",
       "23    2019       Sudeste  466412\n",
       "24    2019           Sul  145342\n",
       "25    2020  Centro-oeste   77142\n",
       "26    2020      Nordeste  270827\n",
       "27    2020         Norte   76793\n",
       "28    2020       Sudeste  287925\n",
       "29    2020           Sul  101315\n",
       "30    2021  Centro-oeste   79136\n",
       "31    2021      Nordeste  283921\n",
       "32    2021         Norte   77942\n",
       "33    2021       Sudeste  297568\n",
       "34    2021           Sul  108832\n",
       "35    2022  Centro-oeste   91607\n",
       "36    2022      Nordeste  313731\n",
       "37    2022         Norte   89344\n",
       "38    2022       Sudeste  341720\n",
       "39    2022           Sul  121329\n",
       "40    2023  Centro-oeste   97226\n",
       "41    2023      Nordeste  350965\n",
       "42    2023         Norte  100706\n",
       "43    2023       Sudeste  365853\n",
       "44    2023           Sul  136113"
      ]
     },
     "execution_count": 47,
     "metadata": {},
     "output_type": "execute_result"
    }
   ],
   "source": [
    "df_validacao"
   ]
  },
  {
   "cell_type": "code",
   "execution_count": null,
   "metadata": {},
   "outputs": [],
   "source": []
  }
 ],
 "metadata": {
  "kernelspec": {
   "display_name": "Python 3 (ipykernel)",
   "language": "python",
   "name": "python3"
  },
  "language_info": {
   "codemirror_mode": {
    "name": "ipython",
    "version": 3
   },
   "file_extension": ".py",
   "mimetype": "text/x-python",
   "name": "python",
   "nbconvert_exporter": "python",
   "pygments_lexer": "ipython3",
   "version": "3.9.13"
  }
 },
 "nbformat": 4,
 "nbformat_minor": 4
}
